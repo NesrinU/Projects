{
 "cells": [
  {
   "cell_type": "markdown",
   "id": "45ea79a9",
   "metadata": {},
   "source": [
    "First part is related with 'data cleaning'. It deals with \n",
    "-Incorrect Headers, \n",
    "-Incorrect Format, \n",
    "-Anomalies, \n",
    "-Dropping useless columns."
   ]
  },
  {
   "cell_type": "code",
   "execution_count": 1,
   "id": "66ada8b0",
   "metadata": {},
   "outputs": [],
   "source": [
    "import numpy as np\n",
    "import pandas as pd\n",
    "import seaborn as sns\n",
    "import matplotlib.pyplot as plt\n",
    "from pandas.plotting import register_matplotlib_converters\n",
    "from pylab import rcParams\n",
    "sns.set_style(\"darkgrid\")\n",
    "\n",
    "import warnings\n",
    "warnings.filterwarnings(\"ignore\")"
   ]
  },
  {
   "cell_type": "code",
   "execution_count": 2,
   "id": "82ae96b9",
   "metadata": {},
   "outputs": [
    {
     "data": {
      "text/html": [
       "<div>\n",
       "<style scoped>\n",
       "    .dataframe tbody tr th:only-of-type {\n",
       "        vertical-align: middle;\n",
       "    }\n",
       "\n",
       "    .dataframe tbody tr th {\n",
       "        vertical-align: top;\n",
       "    }\n",
       "\n",
       "    .dataframe thead th {\n",
       "        text-align: right;\n",
       "    }\n",
       "</style>\n",
       "<table border=\"1\" class=\"dataframe\">\n",
       "  <thead>\n",
       "    <tr style=\"text-align: right;\">\n",
       "      <th></th>\n",
       "      <th>url</th>\n",
       "      <th>make_model</th>\n",
       "      <th>short_description</th>\n",
       "      <th>body_type</th>\n",
       "      <th>price</th>\n",
       "      <th>vat</th>\n",
       "      <th>km</th>\n",
       "      <th>registration</th>\n",
       "      <th>prev_owner</th>\n",
       "      <th>kW</th>\n",
       "      <th>...</th>\n",
       "      <th>description</th>\n",
       "      <th>Emission Label</th>\n",
       "      <th>Gears</th>\n",
       "      <th>Country version</th>\n",
       "      <th>Electricity consumption</th>\n",
       "      <th>Last Service Date</th>\n",
       "      <th>Other Fuel Types</th>\n",
       "      <th>Availability</th>\n",
       "      <th>Last Timing Belt Service Date</th>\n",
       "      <th>Available from</th>\n",
       "    </tr>\n",
       "  </thead>\n",
       "  <tbody>\n",
       "    <tr>\n",
       "      <th>0</th>\n",
       "      <td>https://www.autoscout24.com//offers/audi-a1-sp...</td>\n",
       "      <td>Audi A1</td>\n",
       "      <td>Sportback 1.4 TDI S-tronic Xenon Navi Klima</td>\n",
       "      <td>Sedans</td>\n",
       "      <td>15770</td>\n",
       "      <td>VAT deductible</td>\n",
       "      <td>56,013 km</td>\n",
       "      <td>01/2016</td>\n",
       "      <td>2 previous owners</td>\n",
       "      <td>NaN</td>\n",
       "      <td>...</td>\n",
       "      <td>[\\n, Sicherheit:,  , Deaktivierung für Beifahr...</td>\n",
       "      <td>NaN</td>\n",
       "      <td>NaN</td>\n",
       "      <td>NaN</td>\n",
       "      <td>NaN</td>\n",
       "      <td>NaN</td>\n",
       "      <td>NaN</td>\n",
       "      <td>NaN</td>\n",
       "      <td>NaN</td>\n",
       "      <td>NaN</td>\n",
       "    </tr>\n",
       "    <tr>\n",
       "      <th>1</th>\n",
       "      <td>https://www.autoscout24.com//offers/audi-a1-1-...</td>\n",
       "      <td>Audi A1</td>\n",
       "      <td>1.8 TFSI sport</td>\n",
       "      <td>Sedans</td>\n",
       "      <td>14500</td>\n",
       "      <td>Price negotiable</td>\n",
       "      <td>80,000 km</td>\n",
       "      <td>03/2017</td>\n",
       "      <td>None</td>\n",
       "      <td>NaN</td>\n",
       "      <td>...</td>\n",
       "      <td>[\\nLangstreckenfahrzeug daher die hohe Kilomet...</td>\n",
       "      <td>[\\n4 (Green)\\n]</td>\n",
       "      <td>[\\n7\\n]</td>\n",
       "      <td>NaN</td>\n",
       "      <td>NaN</td>\n",
       "      <td>NaN</td>\n",
       "      <td>NaN</td>\n",
       "      <td>NaN</td>\n",
       "      <td>NaN</td>\n",
       "      <td>NaN</td>\n",
       "    </tr>\n",
       "    <tr>\n",
       "      <th>2</th>\n",
       "      <td>https://www.autoscout24.com//offers/audi-a1-sp...</td>\n",
       "      <td>Audi A1</td>\n",
       "      <td>Sportback 1.6 TDI S tronic Einparkhilfe plus+m...</td>\n",
       "      <td>Sedans</td>\n",
       "      <td>14640</td>\n",
       "      <td>VAT deductible</td>\n",
       "      <td>83,450 km</td>\n",
       "      <td>02/2016</td>\n",
       "      <td>1 previous owner</td>\n",
       "      <td>NaN</td>\n",
       "      <td>...</td>\n",
       "      <td>[\\n, Fahrzeug-Nummer: AM-95365,  , Ehem. UPE 2...</td>\n",
       "      <td>[\\n4 (Green)\\n]</td>\n",
       "      <td>NaN</td>\n",
       "      <td>NaN</td>\n",
       "      <td>NaN</td>\n",
       "      <td>NaN</td>\n",
       "      <td>NaN</td>\n",
       "      <td>NaN</td>\n",
       "      <td>NaN</td>\n",
       "      <td>NaN</td>\n",
       "    </tr>\n",
       "    <tr>\n",
       "      <th>3</th>\n",
       "      <td>https://www.autoscout24.com//offers/audi-a1-1-...</td>\n",
       "      <td>Audi A1</td>\n",
       "      <td>1.4 TDi Design S tronic</td>\n",
       "      <td>Sedans</td>\n",
       "      <td>14500</td>\n",
       "      <td>None</td>\n",
       "      <td>73,000 km</td>\n",
       "      <td>08/2016</td>\n",
       "      <td>1 previous owner</td>\n",
       "      <td>NaN</td>\n",
       "      <td>...</td>\n",
       "      <td>[\\nAudi A1: , - 1e eigenaar , - Perfecte staat...</td>\n",
       "      <td>NaN</td>\n",
       "      <td>[\\n6\\n]</td>\n",
       "      <td>NaN</td>\n",
       "      <td>NaN</td>\n",
       "      <td>NaN</td>\n",
       "      <td>NaN</td>\n",
       "      <td>NaN</td>\n",
       "      <td>NaN</td>\n",
       "      <td>NaN</td>\n",
       "    </tr>\n",
       "    <tr>\n",
       "      <th>4</th>\n",
       "      <td>https://www.autoscout24.com//offers/audi-a1-sp...</td>\n",
       "      <td>Audi A1</td>\n",
       "      <td>Sportback 1.4 TDI S-Tronic S-Line Ext. admired...</td>\n",
       "      <td>Sedans</td>\n",
       "      <td>16790</td>\n",
       "      <td>None</td>\n",
       "      <td>16,200 km</td>\n",
       "      <td>05/2016</td>\n",
       "      <td>1 previous owner</td>\n",
       "      <td>NaN</td>\n",
       "      <td>...</td>\n",
       "      <td>[\\n, Technik &amp; Sicherheit:, Xenon plus, Klimaa...</td>\n",
       "      <td>NaN</td>\n",
       "      <td>NaN</td>\n",
       "      <td>[\\nGermany\\n]</td>\n",
       "      <td>NaN</td>\n",
       "      <td>NaN</td>\n",
       "      <td>NaN</td>\n",
       "      <td>NaN</td>\n",
       "      <td>NaN</td>\n",
       "      <td>NaN</td>\n",
       "    </tr>\n",
       "  </tbody>\n",
       "</table>\n",
       "<p>5 rows × 54 columns</p>\n",
       "</div>"
      ],
      "text/plain": [
       "                                                 url make_model  \\\n",
       "0  https://www.autoscout24.com//offers/audi-a1-sp...    Audi A1   \n",
       "1  https://www.autoscout24.com//offers/audi-a1-1-...    Audi A1   \n",
       "2  https://www.autoscout24.com//offers/audi-a1-sp...    Audi A1   \n",
       "3  https://www.autoscout24.com//offers/audi-a1-1-...    Audi A1   \n",
       "4  https://www.autoscout24.com//offers/audi-a1-sp...    Audi A1   \n",
       "\n",
       "                                   short_description body_type  price  \\\n",
       "0        Sportback 1.4 TDI S-tronic Xenon Navi Klima    Sedans  15770   \n",
       "1                                     1.8 TFSI sport    Sedans  14500   \n",
       "2  Sportback 1.6 TDI S tronic Einparkhilfe plus+m...    Sedans  14640   \n",
       "3                            1.4 TDi Design S tronic    Sedans  14500   \n",
       "4  Sportback 1.4 TDI S-Tronic S-Line Ext. admired...    Sedans  16790   \n",
       "\n",
       "                vat         km registration         prev_owner  kW  ...  \\\n",
       "0    VAT deductible  56,013 km      01/2016  2 previous owners NaN  ...   \n",
       "1  Price negotiable  80,000 km      03/2017               None NaN  ...   \n",
       "2    VAT deductible  83,450 km      02/2016   1 previous owner NaN  ...   \n",
       "3              None  73,000 km      08/2016   1 previous owner NaN  ...   \n",
       "4              None  16,200 km      05/2016   1 previous owner NaN  ...   \n",
       "\n",
       "                                         description   Emission Label  \\\n",
       "0  [\\n, Sicherheit:,  , Deaktivierung für Beifahr...              NaN   \n",
       "1  [\\nLangstreckenfahrzeug daher die hohe Kilomet...  [\\n4 (Green)\\n]   \n",
       "2  [\\n, Fahrzeug-Nummer: AM-95365,  , Ehem. UPE 2...  [\\n4 (Green)\\n]   \n",
       "3  [\\nAudi A1: , - 1e eigenaar , - Perfecte staat...              NaN   \n",
       "4  [\\n, Technik & Sicherheit:, Xenon plus, Klimaa...              NaN   \n",
       "\n",
       "     Gears Country version Electricity consumption Last Service Date  \\\n",
       "0      NaN             NaN                     NaN               NaN   \n",
       "1  [\\n7\\n]             NaN                     NaN               NaN   \n",
       "2      NaN             NaN                     NaN               NaN   \n",
       "3  [\\n6\\n]             NaN                     NaN               NaN   \n",
       "4      NaN   [\\nGermany\\n]                     NaN               NaN   \n",
       "\n",
       "  Other Fuel Types Availability Last Timing Belt Service Date Available from  \n",
       "0              NaN          NaN                           NaN            NaN  \n",
       "1              NaN          NaN                           NaN            NaN  \n",
       "2              NaN          NaN                           NaN            NaN  \n",
       "3              NaN          NaN                           NaN            NaN  \n",
       "4              NaN          NaN                           NaN            NaN  \n",
       "\n",
       "[5 rows x 54 columns]"
      ]
     },
     "execution_count": 2,
     "metadata": {},
     "output_type": "execute_result"
    }
   ],
   "source": [
    "df0= pd.read_json('scout_car.json',lines=True)\n",
    "df0.head(5)"
   ]
  },
  {
   "cell_type": "code",
   "execution_count": 3,
   "id": "45843701",
   "metadata": {},
   "outputs": [],
   "source": [
    "pd.set_option('display.max_columns', 55)"
   ]
  },
  {
   "cell_type": "code",
   "execution_count": 4,
   "id": "260f0354",
   "metadata": {},
   "outputs": [],
   "source": [
    "# display.max_rows and display.max_columns sets the maximum number of rows and columns displayed\n",
    "# when a frame is pretty-printed. Truncated lines are replaced by an ellipsis."
   ]
  },
  {
   "cell_type": "code",
   "execution_count": 4,
   "id": "04492e12",
   "metadata": {},
   "outputs": [
    {
     "data": {
      "text/html": [
       "<div>\n",
       "<style scoped>\n",
       "    .dataframe tbody tr th:only-of-type {\n",
       "        vertical-align: middle;\n",
       "    }\n",
       "\n",
       "    .dataframe tbody tr th {\n",
       "        vertical-align: top;\n",
       "    }\n",
       "\n",
       "    .dataframe thead th {\n",
       "        text-align: right;\n",
       "    }\n",
       "</style>\n",
       "<table border=\"1\" class=\"dataframe\">\n",
       "  <thead>\n",
       "    <tr style=\"text-align: right;\">\n",
       "      <th></th>\n",
       "      <th>url</th>\n",
       "      <th>make_model</th>\n",
       "      <th>short_description</th>\n",
       "      <th>body_type</th>\n",
       "      <th>price</th>\n",
       "      <th>vat</th>\n",
       "      <th>km</th>\n",
       "      <th>registration</th>\n",
       "      <th>prev_owner</th>\n",
       "      <th>kW</th>\n",
       "      <th>hp</th>\n",
       "      <th>Type</th>\n",
       "      <th>Previous Owners</th>\n",
       "      <th>Next Inspection</th>\n",
       "      <th>Inspection new</th>\n",
       "      <th>Warranty</th>\n",
       "      <th>Full Service</th>\n",
       "      <th>Non-smoking Vehicle</th>\n",
       "      <th>null</th>\n",
       "      <th>Make</th>\n",
       "      <th>Model</th>\n",
       "      <th>Offer Number</th>\n",
       "      <th>First Registration</th>\n",
       "      <th>Body Color</th>\n",
       "      <th>Paint Type</th>\n",
       "      <th>Body Color Original</th>\n",
       "      <th>Upholstery</th>\n",
       "      <th>Body</th>\n",
       "      <th>Nr. of Doors</th>\n",
       "      <th>Nr. of Seats</th>\n",
       "      <th>Model Code</th>\n",
       "      <th>Gearing Type</th>\n",
       "      <th>Displacement</th>\n",
       "      <th>Cylinders</th>\n",
       "      <th>Weight</th>\n",
       "      <th>Drive chain</th>\n",
       "      <th>Fuel</th>\n",
       "      <th>Consumption</th>\n",
       "      <th>CO2 Emission</th>\n",
       "      <th>Emission Class</th>\n",
       "      <th>\\nComfort &amp; Convenience\\n</th>\n",
       "      <th>\\nEntertainment &amp; Media\\n</th>\n",
       "      <th>\\nExtras\\n</th>\n",
       "      <th>\\nSafety &amp; Security\\n</th>\n",
       "      <th>description</th>\n",
       "      <th>Emission Label</th>\n",
       "      <th>Gears</th>\n",
       "      <th>Country version</th>\n",
       "      <th>Electricity consumption</th>\n",
       "      <th>Last Service Date</th>\n",
       "      <th>Other Fuel Types</th>\n",
       "      <th>Availability</th>\n",
       "      <th>Last Timing Belt Service Date</th>\n",
       "      <th>Available from</th>\n",
       "    </tr>\n",
       "  </thead>\n",
       "  <tbody>\n",
       "    <tr>\n",
       "      <th>15914</th>\n",
       "      <td>https://www.autoscout24.com//offers/renault-es...</td>\n",
       "      <td>Renault Espace</td>\n",
       "      <td>Blue dCi 200CV EDC Executive 4Control</td>\n",
       "      <td>Van</td>\n",
       "      <td>39950</td>\n",
       "      <td>VAT deductible</td>\n",
       "      <td>- km</td>\n",
       "      <td>-/-</td>\n",
       "      <td>None</td>\n",
       "      <td>NaN</td>\n",
       "      <td>147 kW</td>\n",
       "      <td>[, New, , Diesel (Particulate Filter)]</td>\n",
       "      <td>NaN</td>\n",
       "      <td>NaN</td>\n",
       "      <td>NaN</td>\n",
       "      <td>\\n24 months\\n</td>\n",
       "      <td>NaN</td>\n",
       "      <td>NaN</td>\n",
       "      <td>[]</td>\n",
       "      <td>\\nRenault\\n</td>\n",
       "      <td>[\\n, Espace, \\n]</td>\n",
       "      <td>[\\n10988301\\n]</td>\n",
       "      <td>NaN</td>\n",
       "      <td>[\\n, Grey, \\n]</td>\n",
       "      <td>[\\nMetallic\\n]</td>\n",
       "      <td>[\\nGrigio scuro\\n]</td>\n",
       "      <td>NaN</td>\n",
       "      <td>[\\n, Van, \\n]</td>\n",
       "      <td>[\\n5\\n]</td>\n",
       "      <td>[\\n5\\n]</td>\n",
       "      <td>NaN</td>\n",
       "      <td>[\\n, Automatic, \\n]</td>\n",
       "      <td>[\\n1,997 cc\\n]</td>\n",
       "      <td>[\\n4\\n]</td>\n",
       "      <td>[\\n1,758 kg\\n]</td>\n",
       "      <td>[\\nfront\\n]</td>\n",
       "      <td>[\\n, Diesel (Particulate Filter), \\n]</td>\n",
       "      <td>[[5.3 l/100 km (comb)], [6.2 l/100 km (city)],...</td>\n",
       "      <td>[\\n139 g CO2/km (comb)\\n]</td>\n",
       "      <td>NaN</td>\n",
       "      <td>[Air conditioning, Automatic climate control, ...</td>\n",
       "      <td>[Bluetooth, Digital radio, Hands-free equipmen...</td>\n",
       "      <td>[Alloy wheels, Touch screen]</td>\n",
       "      <td>[ABS, Central door lock, Central door lock wit...</td>\n",
       "      <td>[\\nVettura visionabile nella sede in Via Roma ...</td>\n",
       "      <td>NaN</td>\n",
       "      <td>[\\n6\\n]</td>\n",
       "      <td>NaN</td>\n",
       "      <td>NaN</td>\n",
       "      <td>NaN</td>\n",
       "      <td>NaN</td>\n",
       "      <td>NaN</td>\n",
       "      <td>NaN</td>\n",
       "      <td>NaN</td>\n",
       "    </tr>\n",
       "    <tr>\n",
       "      <th>15915</th>\n",
       "      <td>https://www.autoscout24.com//offers/renault-es...</td>\n",
       "      <td>Renault Espace</td>\n",
       "      <td>TCe 225 EDC GPF LIM Deluxe Pano,RFK</td>\n",
       "      <td>Van</td>\n",
       "      <td>39885</td>\n",
       "      <td>VAT deductible</td>\n",
       "      <td>9,900 km</td>\n",
       "      <td>01/2019</td>\n",
       "      <td>1 previous owner</td>\n",
       "      <td>NaN</td>\n",
       "      <td>165 kW</td>\n",
       "      <td>[, Used, , Super 95 / Super Plus 98 (Particula...</td>\n",
       "      <td>[\\n1\\n, \\n, 7.4 l/100 km (comb), \\n, 9.2 l/100...</td>\n",
       "      <td>[\\n01/2022\\n, \\n168 g CO2/km (comb)\\n]</td>\n",
       "      <td>NaN</td>\n",
       "      <td>[\\n, \\n, \\nEuro 6\\n]</td>\n",
       "      <td>NaN</td>\n",
       "      <td>[\\n, \\n, \\n4 (Green)\\n]</td>\n",
       "      <td>[]</td>\n",
       "      <td>\\nRenault\\n</td>\n",
       "      <td>[\\n, Espace, \\n]</td>\n",
       "      <td>[\\n507370_3223\\n]</td>\n",
       "      <td>[\\n, 2019, \\n]</td>\n",
       "      <td>[\\n, Grey, \\n]</td>\n",
       "      <td>[\\nMetallic\\n]</td>\n",
       "      <td>[\\nStahl-Grau Metallic\\n]</td>\n",
       "      <td>[\\nCloth\\n]</td>\n",
       "      <td>[\\n, Van, \\n]</td>\n",
       "      <td>[\\n5\\n]</td>\n",
       "      <td>[\\n5\\n]</td>\n",
       "      <td>[\\n0000/000\\n]</td>\n",
       "      <td>[\\n, Automatic, \\n]</td>\n",
       "      <td>[\\n1,798 cc\\n]</td>\n",
       "      <td>[\\n4\\n]</td>\n",
       "      <td>[\\n1,708 kg\\n]</td>\n",
       "      <td>[\\nfront\\n]</td>\n",
       "      <td>[\\n, Super 95 / Super Plus 98 (Particulate Fil...</td>\n",
       "      <td>[\\n, 7.4 l/100 km (comb), \\n, 9.2 l/100 km (ci...</td>\n",
       "      <td>[\\n168 g CO2/km (comb)\\n]</td>\n",
       "      <td>NaN</td>\n",
       "      <td>[Air conditioning, Automatic climate control, ...</td>\n",
       "      <td>[Bluetooth, Digital radio, Hands-free equipmen...</td>\n",
       "      <td>[Alloy wheels, Touch screen, Voice Control]</td>\n",
       "      <td>[ABS, Adaptive Cruise Control, Blind spot moni...</td>\n",
       "      <td>[\\nDach: Panorama-Glas-Schiebedach, Lackierung...</td>\n",
       "      <td>NaN</td>\n",
       "      <td>[\\n7\\n]</td>\n",
       "      <td>[\\nGermany\\n]</td>\n",
       "      <td>NaN</td>\n",
       "      <td>NaN</td>\n",
       "      <td>[[], [], []]</td>\n",
       "      <td>\\nin 5 days from ordering\\n</td>\n",
       "      <td>NaN</td>\n",
       "      <td>NaN</td>\n",
       "    </tr>\n",
       "    <tr>\n",
       "      <th>15916</th>\n",
       "      <td>https://www.autoscout24.com//offers/renault-es...</td>\n",
       "      <td>Renault Espace</td>\n",
       "      <td>Blue dCi 200 EDC Initiale Paris Leder LED Navi...</td>\n",
       "      <td>Van</td>\n",
       "      <td>39875</td>\n",
       "      <td>VAT deductible</td>\n",
       "      <td>15 km</td>\n",
       "      <td>03/2019</td>\n",
       "      <td>1 previous owner</td>\n",
       "      <td>NaN</td>\n",
       "      <td>146 kW</td>\n",
       "      <td>[, Pre-registered, , Diesel]</td>\n",
       "      <td>[\\n1\\n, \\n139 g CO2/km (comb)\\n]</td>\n",
       "      <td>NaN</td>\n",
       "      <td>[\\nYes\\n, \\nEuro 6d-TEMP\\n]</td>\n",
       "      <td>[\\n, \\n, \\n4 (Green)\\n]</td>\n",
       "      <td>[\\n, \\n]</td>\n",
       "      <td>[\\n, \\n]</td>\n",
       "      <td>[]</td>\n",
       "      <td>\\nRenault\\n</td>\n",
       "      <td>[\\n, Espace, \\n]</td>\n",
       "      <td>[\\nEspace16\\n]</td>\n",
       "      <td>[\\n, 2019, \\n]</td>\n",
       "      <td>[\\n, White, \\n]</td>\n",
       "      <td>NaN</td>\n",
       "      <td>[\\narktis-weiß\\n]</td>\n",
       "      <td>[\\nFull leather, Black\\n]</td>\n",
       "      <td>[\\n, Van, \\n]</td>\n",
       "      <td>[\\n5\\n]</td>\n",
       "      <td>[\\n7\\n]</td>\n",
       "      <td>NaN</td>\n",
       "      <td>[\\n, Automatic, \\n]</td>\n",
       "      <td>[\\n1,997 cc\\n]</td>\n",
       "      <td>[\\n4\\n]</td>\n",
       "      <td>NaN</td>\n",
       "      <td>[\\nfront\\n]</td>\n",
       "      <td>[\\n, Diesel, \\n]</td>\n",
       "      <td>[[5.3 l/100 km (comb)], [6.2 l/100 km (city)],...</td>\n",
       "      <td>[\\n139 g CO2/km (comb)\\n]</td>\n",
       "      <td>[\\nEuro 6d-TEMP\\n]</td>\n",
       "      <td>[Air conditioning, Armrest, Automatic climate ...</td>\n",
       "      <td>[Bluetooth, Hands-free equipment, On-board com...</td>\n",
       "      <td>[Alloy wheels]</td>\n",
       "      <td>[ABS, Adaptive Cruise Control, Blind spot moni...</td>\n",
       "      <td>[\\n, Getriebe:,  Automatik, Technik:,  Bordcom...</td>\n",
       "      <td>NaN</td>\n",
       "      <td>[\\n6\\n]</td>\n",
       "      <td>[\\nAustria\\n]</td>\n",
       "      <td>NaN</td>\n",
       "      <td>NaN</td>\n",
       "      <td>NaN</td>\n",
       "      <td>\\nin 120 days from ordering\\n</td>\n",
       "      <td>NaN</td>\n",
       "      <td>NaN</td>\n",
       "    </tr>\n",
       "    <tr>\n",
       "      <th>15917</th>\n",
       "      <td>https://www.autoscout24.com//offers/renault-es...</td>\n",
       "      <td>Renault Espace</td>\n",
       "      <td>Blue dCi 200CV EDC Business , NUOVA DA IMMATRI...</td>\n",
       "      <td>Van</td>\n",
       "      <td>39700</td>\n",
       "      <td>VAT deductible</td>\n",
       "      <td>10 km</td>\n",
       "      <td>06/2019</td>\n",
       "      <td>None</td>\n",
       "      <td>NaN</td>\n",
       "      <td>147 kW</td>\n",
       "      <td>[, Pre-registered, , Diesel]</td>\n",
       "      <td>NaN</td>\n",
       "      <td>NaN</td>\n",
       "      <td>NaN</td>\n",
       "      <td>\\n</td>\n",
       "      <td>NaN</td>\n",
       "      <td>NaN</td>\n",
       "      <td>[]</td>\n",
       "      <td>\\nRenault\\n</td>\n",
       "      <td>[\\n, Espace, \\n]</td>\n",
       "      <td>[\\n2691331\\n]</td>\n",
       "      <td>[\\n, 2019, \\n]</td>\n",
       "      <td>[\\n, Grey, \\n]</td>\n",
       "      <td>NaN</td>\n",
       "      <td>[\\nGrigio\\n]</td>\n",
       "      <td>[\\nPart leather\\n]</td>\n",
       "      <td>[\\n, Van, \\n]</td>\n",
       "      <td>[\\n5\\n]</td>\n",
       "      <td>[\\n7\\n]</td>\n",
       "      <td>NaN</td>\n",
       "      <td>[\\n, Automatic, \\n]</td>\n",
       "      <td>[\\n1,997 cc\\n]</td>\n",
       "      <td>[\\n4\\n]</td>\n",
       "      <td>[\\n1,758 kg\\n]</td>\n",
       "      <td>[\\nfront\\n]</td>\n",
       "      <td>[\\n, Diesel, \\n]</td>\n",
       "      <td>[[5.3 l/100 km (comb)], [6.2 l/100 km (city)],...</td>\n",
       "      <td>[\\n139 g CO2/km (comb)\\n]</td>\n",
       "      <td>[\\nEuro 6\\n]</td>\n",
       "      <td>[Air conditioning, Automatic climate control, ...</td>\n",
       "      <td>[Bluetooth, Digital radio, Radio, USB]</td>\n",
       "      <td>[Alloy wheels, Touch screen]</td>\n",
       "      <td>[ABS, Blind spot monitor, Driver-side airbag, ...</td>\n",
       "      <td>[\\nDEK:[2691331], Renault Espace Blue dCi 200C...</td>\n",
       "      <td>NaN</td>\n",
       "      <td>[\\n6\\n]</td>\n",
       "      <td>NaN</td>\n",
       "      <td>NaN</td>\n",
       "      <td>NaN</td>\n",
       "      <td>NaN</td>\n",
       "      <td>NaN</td>\n",
       "      <td>NaN</td>\n",
       "      <td>NaN</td>\n",
       "    </tr>\n",
       "    <tr>\n",
       "      <th>15918</th>\n",
       "      <td>https://www.autoscout24.com//offers/renault-es...</td>\n",
       "      <td>Renault Espace</td>\n",
       "      <td>INITIALE PARIS TCe 225 EDC GPF NAVI SHZ AUX</td>\n",
       "      <td>Van</td>\n",
       "      <td>40999</td>\n",
       "      <td>VAT deductible</td>\n",
       "      <td>- km</td>\n",
       "      <td>01/2019</td>\n",
       "      <td>1 previous owner</td>\n",
       "      <td>NaN</td>\n",
       "      <td>165 kW</td>\n",
       "      <td>[, Demonstration, , Super 95]</td>\n",
       "      <td>\\n1\\n</td>\n",
       "      <td>NaN</td>\n",
       "      <td>[\\nYes\\n, \\n153 g CO2/km (comb)\\n]</td>\n",
       "      <td>NaN</td>\n",
       "      <td>NaN</td>\n",
       "      <td>NaN</td>\n",
       "      <td>[]</td>\n",
       "      <td>\\nRenault\\n</td>\n",
       "      <td>[\\n, Espace, \\n]</td>\n",
       "      <td>[\\nRe_30000008029\\n]</td>\n",
       "      <td>[\\n, 2019, \\n]</td>\n",
       "      <td>[\\n, Grey, \\n]</td>\n",
       "      <td>[\\nMetallic\\n]</td>\n",
       "      <td>[\\nTitanium-Grau Metallic\\n]</td>\n",
       "      <td>[\\nFull leather, Brown\\n]</td>\n",
       "      <td>[\\n, Van, \\n]</td>\n",
       "      <td>[\\n5\\n]</td>\n",
       "      <td>[\\n5\\n]</td>\n",
       "      <td>[\\n3333/BHJ\\n]</td>\n",
       "      <td>[\\n, Automatic, \\n]</td>\n",
       "      <td>[\\n1,798 cc\\n]</td>\n",
       "      <td>[\\n4\\n]</td>\n",
       "      <td>[\\n1,685 kg\\n]</td>\n",
       "      <td>[\\n4WD\\n]</td>\n",
       "      <td>[\\n, Super 95, \\n]</td>\n",
       "      <td>[[6.8 l/100 km (comb)], [8.7 l/100 km (city)],...</td>\n",
       "      <td>[\\n153 g CO2/km (comb)\\n]</td>\n",
       "      <td>[\\nEuro 6\\n]</td>\n",
       "      <td>[Air conditioning, Automatic climate control, ...</td>\n",
       "      <td>[USB]</td>\n",
       "      <td>[Alloy wheels, Touch screen]</td>\n",
       "      <td>[ABS, Blind spot monitor, Daytime running ligh...</td>\n",
       "      <td>[\\n, Sicherheit Airbags:,  , Seitenairbag,  , ...</td>\n",
       "      <td>[\\n4 (Green)\\n]</td>\n",
       "      <td>NaN</td>\n",
       "      <td>[\\nGermany\\n]</td>\n",
       "      <td>NaN</td>\n",
       "      <td>NaN</td>\n",
       "      <td>NaN</td>\n",
       "      <td>NaN</td>\n",
       "      <td>NaN</td>\n",
       "      <td>NaN</td>\n",
       "    </tr>\n",
       "  </tbody>\n",
       "</table>\n",
       "</div>"
      ],
      "text/plain": [
       "                                                     url      make_model  \\\n",
       "15914  https://www.autoscout24.com//offers/renault-es...  Renault Espace   \n",
       "15915  https://www.autoscout24.com//offers/renault-es...  Renault Espace   \n",
       "15916  https://www.autoscout24.com//offers/renault-es...  Renault Espace   \n",
       "15917  https://www.autoscout24.com//offers/renault-es...  Renault Espace   \n",
       "15918  https://www.autoscout24.com//offers/renault-es...  Renault Espace   \n",
       "\n",
       "                                       short_description body_type  price  \\\n",
       "15914              Blue dCi 200CV EDC Executive 4Control       Van  39950   \n",
       "15915                TCe 225 EDC GPF LIM Deluxe Pano,RFK       Van  39885   \n",
       "15916  Blue dCi 200 EDC Initiale Paris Leder LED Navi...       Van  39875   \n",
       "15917  Blue dCi 200CV EDC Business , NUOVA DA IMMATRI...       Van  39700   \n",
       "15918        INITIALE PARIS TCe 225 EDC GPF NAVI SHZ AUX       Van  40999   \n",
       "\n",
       "                  vat        km registration        prev_owner  kW      hp  \\\n",
       "15914  VAT deductible      - km          -/-              None NaN  147 kW   \n",
       "15915  VAT deductible  9,900 km      01/2019  1 previous owner NaN  165 kW   \n",
       "15916  VAT deductible     15 km      03/2019  1 previous owner NaN  146 kW   \n",
       "15917  VAT deductible     10 km      06/2019              None NaN  147 kW   \n",
       "15918  VAT deductible      - km      01/2019  1 previous owner NaN  165 kW   \n",
       "\n",
       "                                                    Type  \\\n",
       "15914             [, New, , Diesel (Particulate Filter)]   \n",
       "15915  [, Used, , Super 95 / Super Plus 98 (Particula...   \n",
       "15916                       [, Pre-registered, , Diesel]   \n",
       "15917                       [, Pre-registered, , Diesel]   \n",
       "15918                      [, Demonstration, , Super 95]   \n",
       "\n",
       "                                         Previous Owners  \\\n",
       "15914                                                NaN   \n",
       "15915  [\\n1\\n, \\n, 7.4 l/100 km (comb), \\n, 9.2 l/100...   \n",
       "15916                   [\\n1\\n, \\n139 g CO2/km (comb)\\n]   \n",
       "15917                                                NaN   \n",
       "15918                                              \\n1\\n   \n",
       "\n",
       "                              Next Inspection  \\\n",
       "15914                                     NaN   \n",
       "15915  [\\n01/2022\\n, \\n168 g CO2/km (comb)\\n]   \n",
       "15916                                     NaN   \n",
       "15917                                     NaN   \n",
       "15918                                     NaN   \n",
       "\n",
       "                           Inspection new                 Warranty  \\\n",
       "15914                                 NaN            \\n24 months\\n   \n",
       "15915                                 NaN     [\\n, \\n, \\nEuro 6\\n]   \n",
       "15916         [\\nYes\\n, \\nEuro 6d-TEMP\\n]  [\\n, \\n, \\n4 (Green)\\n]   \n",
       "15917                                 NaN                       \\n   \n",
       "15918  [\\nYes\\n, \\n153 g CO2/km (comb)\\n]                      NaN   \n",
       "\n",
       "      Full Service      Non-smoking Vehicle null         Make  \\\n",
       "15914          NaN                      NaN   []  \\nRenault\\n   \n",
       "15915          NaN  [\\n, \\n, \\n4 (Green)\\n]   []  \\nRenault\\n   \n",
       "15916     [\\n, \\n]                 [\\n, \\n]   []  \\nRenault\\n   \n",
       "15917          NaN                      NaN   []  \\nRenault\\n   \n",
       "15918          NaN                      NaN   []  \\nRenault\\n   \n",
       "\n",
       "                  Model          Offer Number First Registration  \\\n",
       "15914  [\\n, Espace, \\n]        [\\n10988301\\n]                NaN   \n",
       "15915  [\\n, Espace, \\n]     [\\n507370_3223\\n]     [\\n, 2019, \\n]   \n",
       "15916  [\\n, Espace, \\n]        [\\nEspace16\\n]     [\\n, 2019, \\n]   \n",
       "15917  [\\n, Espace, \\n]         [\\n2691331\\n]     [\\n, 2019, \\n]   \n",
       "15918  [\\n, Espace, \\n]  [\\nRe_30000008029\\n]     [\\n, 2019, \\n]   \n",
       "\n",
       "            Body Color      Paint Type           Body Color Original  \\\n",
       "15914   [\\n, Grey, \\n]  [\\nMetallic\\n]            [\\nGrigio scuro\\n]   \n",
       "15915   [\\n, Grey, \\n]  [\\nMetallic\\n]     [\\nStahl-Grau Metallic\\n]   \n",
       "15916  [\\n, White, \\n]             NaN             [\\narktis-weiß\\n]   \n",
       "15917   [\\n, Grey, \\n]             NaN                  [\\nGrigio\\n]   \n",
       "15918   [\\n, Grey, \\n]  [\\nMetallic\\n]  [\\nTitanium-Grau Metallic\\n]   \n",
       "\n",
       "                      Upholstery           Body Nr. of Doors Nr. of Seats  \\\n",
       "15914                        NaN  [\\n, Van, \\n]      [\\n5\\n]      [\\n5\\n]   \n",
       "15915                [\\nCloth\\n]  [\\n, Van, \\n]      [\\n5\\n]      [\\n5\\n]   \n",
       "15916  [\\nFull leather, Black\\n]  [\\n, Van, \\n]      [\\n5\\n]      [\\n7\\n]   \n",
       "15917         [\\nPart leather\\n]  [\\n, Van, \\n]      [\\n5\\n]      [\\n7\\n]   \n",
       "15918  [\\nFull leather, Brown\\n]  [\\n, Van, \\n]      [\\n5\\n]      [\\n5\\n]   \n",
       "\n",
       "           Model Code         Gearing Type    Displacement Cylinders  \\\n",
       "15914             NaN  [\\n, Automatic, \\n]  [\\n1,997 cc\\n]   [\\n4\\n]   \n",
       "15915  [\\n0000/000\\n]  [\\n, Automatic, \\n]  [\\n1,798 cc\\n]   [\\n4\\n]   \n",
       "15916             NaN  [\\n, Automatic, \\n]  [\\n1,997 cc\\n]   [\\n4\\n]   \n",
       "15917             NaN  [\\n, Automatic, \\n]  [\\n1,997 cc\\n]   [\\n4\\n]   \n",
       "15918  [\\n3333/BHJ\\n]  [\\n, Automatic, \\n]  [\\n1,798 cc\\n]   [\\n4\\n]   \n",
       "\n",
       "               Weight  Drive chain  \\\n",
       "15914  [\\n1,758 kg\\n]  [\\nfront\\n]   \n",
       "15915  [\\n1,708 kg\\n]  [\\nfront\\n]   \n",
       "15916             NaN  [\\nfront\\n]   \n",
       "15917  [\\n1,758 kg\\n]  [\\nfront\\n]   \n",
       "15918  [\\n1,685 kg\\n]    [\\n4WD\\n]   \n",
       "\n",
       "                                                    Fuel  \\\n",
       "15914              [\\n, Diesel (Particulate Filter), \\n]   \n",
       "15915  [\\n, Super 95 / Super Plus 98 (Particulate Fil...   \n",
       "15916                                   [\\n, Diesel, \\n]   \n",
       "15917                                   [\\n, Diesel, \\n]   \n",
       "15918                                 [\\n, Super 95, \\n]   \n",
       "\n",
       "                                             Consumption  \\\n",
       "15914  [[5.3 l/100 km (comb)], [6.2 l/100 km (city)],...   \n",
       "15915  [\\n, 7.4 l/100 km (comb), \\n, 9.2 l/100 km (ci...   \n",
       "15916  [[5.3 l/100 km (comb)], [6.2 l/100 km (city)],...   \n",
       "15917  [[5.3 l/100 km (comb)], [6.2 l/100 km (city)],...   \n",
       "15918  [[6.8 l/100 km (comb)], [8.7 l/100 km (city)],...   \n",
       "\n",
       "                    CO2 Emission      Emission Class  \\\n",
       "15914  [\\n139 g CO2/km (comb)\\n]                 NaN   \n",
       "15915  [\\n168 g CO2/km (comb)\\n]                 NaN   \n",
       "15916  [\\n139 g CO2/km (comb)\\n]  [\\nEuro 6d-TEMP\\n]   \n",
       "15917  [\\n139 g CO2/km (comb)\\n]        [\\nEuro 6\\n]   \n",
       "15918  [\\n153 g CO2/km (comb)\\n]        [\\nEuro 6\\n]   \n",
       "\n",
       "                               \\nComfort & Convenience\\n  \\\n",
       "15914  [Air conditioning, Automatic climate control, ...   \n",
       "15915  [Air conditioning, Automatic climate control, ...   \n",
       "15916  [Air conditioning, Armrest, Automatic climate ...   \n",
       "15917  [Air conditioning, Automatic climate control, ...   \n",
       "15918  [Air conditioning, Automatic climate control, ...   \n",
       "\n",
       "                               \\nEntertainment & Media\\n  \\\n",
       "15914  [Bluetooth, Digital radio, Hands-free equipmen...   \n",
       "15915  [Bluetooth, Digital radio, Hands-free equipmen...   \n",
       "15916  [Bluetooth, Hands-free equipment, On-board com...   \n",
       "15917             [Bluetooth, Digital radio, Radio, USB]   \n",
       "15918                                              [USB]   \n",
       "\n",
       "                                        \\nExtras\\n  \\\n",
       "15914                 [Alloy wheels, Touch screen]   \n",
       "15915  [Alloy wheels, Touch screen, Voice Control]   \n",
       "15916                               [Alloy wheels]   \n",
       "15917                 [Alloy wheels, Touch screen]   \n",
       "15918                 [Alloy wheels, Touch screen]   \n",
       "\n",
       "                                   \\nSafety & Security\\n  \\\n",
       "15914  [ABS, Central door lock, Central door lock wit...   \n",
       "15915  [ABS, Adaptive Cruise Control, Blind spot moni...   \n",
       "15916  [ABS, Adaptive Cruise Control, Blind spot moni...   \n",
       "15917  [ABS, Blind spot monitor, Driver-side airbag, ...   \n",
       "15918  [ABS, Blind spot monitor, Daytime running ligh...   \n",
       "\n",
       "                                             description   Emission Label  \\\n",
       "15914  [\\nVettura visionabile nella sede in Via Roma ...              NaN   \n",
       "15915  [\\nDach: Panorama-Glas-Schiebedach, Lackierung...              NaN   \n",
       "15916  [\\n, Getriebe:,  Automatik, Technik:,  Bordcom...              NaN   \n",
       "15917  [\\nDEK:[2691331], Renault Espace Blue dCi 200C...              NaN   \n",
       "15918  [\\n, Sicherheit Airbags:,  , Seitenairbag,  , ...  [\\n4 (Green)\\n]   \n",
       "\n",
       "         Gears Country version Electricity consumption Last Service Date  \\\n",
       "15914  [\\n6\\n]             NaN                     NaN               NaN   \n",
       "15915  [\\n7\\n]   [\\nGermany\\n]                     NaN               NaN   \n",
       "15916  [\\n6\\n]   [\\nAustria\\n]                     NaN               NaN   \n",
       "15917  [\\n6\\n]             NaN                     NaN               NaN   \n",
       "15918      NaN   [\\nGermany\\n]                     NaN               NaN   \n",
       "\n",
       "      Other Fuel Types                   Availability  \\\n",
       "15914              NaN                            NaN   \n",
       "15915     [[], [], []]    \\nin 5 days from ordering\\n   \n",
       "15916              NaN  \\nin 120 days from ordering\\n   \n",
       "15917              NaN                            NaN   \n",
       "15918              NaN                            NaN   \n",
       "\n",
       "      Last Timing Belt Service Date Available from  \n",
       "15914                           NaN            NaN  \n",
       "15915                           NaN            NaN  \n",
       "15916                           NaN            NaN  \n",
       "15917                           NaN            NaN  \n",
       "15918                           NaN            NaN  "
      ]
     },
     "execution_count": 4,
     "metadata": {},
     "output_type": "execute_result"
    }
   ],
   "source": [
    "df= df0.copy()\n",
    "df.tail()"
   ]
  },
  {
   "cell_type": "code",
   "execution_count": 6,
   "id": "41c536b4",
   "metadata": {},
   "outputs": [
    {
     "data": {
      "text/plain": [
       "RangeIndex(start=0, stop=15919, step=1)"
      ]
     },
     "execution_count": 6,
     "metadata": {},
     "output_type": "execute_result"
    }
   ],
   "source": [
    "df.index"
   ]
  },
  {
   "cell_type": "code",
   "execution_count": 7,
   "id": "77c7dc59",
   "metadata": {},
   "outputs": [
    {
     "data": {
      "text/plain": [
       "(15919, 54)"
      ]
     },
     "execution_count": 7,
     "metadata": {},
     "output_type": "execute_result"
    }
   ],
   "source": [
    "df.shape"
   ]
  },
  {
   "cell_type": "code",
   "execution_count": 8,
   "id": "8315777f",
   "metadata": {},
   "outputs": [
    {
     "name": "stdout",
     "output_type": "stream",
     "text": [
      "<class 'pandas.core.frame.DataFrame'>\n",
      "RangeIndex: 15919 entries, 0 to 15918\n",
      "Data columns (total 54 columns):\n",
      " #   Column                         Non-Null Count  Dtype  \n",
      "---  ------                         --------------  -----  \n",
      " 0   url                            15919 non-null  object \n",
      " 1   make_model                     15919 non-null  object \n",
      " 2   short_description              15873 non-null  object \n",
      " 3   body_type                      15859 non-null  object \n",
      " 4   price                          15919 non-null  int64  \n",
      " 5   vat                            11406 non-null  object \n",
      " 6   km                             15919 non-null  object \n",
      " 7   registration                   15919 non-null  object \n",
      " 8   prev_owner                     9091 non-null   object \n",
      " 9   kW                             0 non-null      float64\n",
      " 10  hp                             15919 non-null  object \n",
      " 11  Type                           15917 non-null  object \n",
      " 12  Previous Owners                9279 non-null   object \n",
      " 13  Next Inspection                3535 non-null   object \n",
      " 14  Inspection new                 3932 non-null   object \n",
      " 15  Warranty                       10499 non-null  object \n",
      " 16  Full Service                   8215 non-null   object \n",
      " 17  Non-smoking Vehicle            7177 non-null   object \n",
      " 18  null                           15919 non-null  object \n",
      " 19  Make                           15919 non-null  object \n",
      " 20  Model                          15919 non-null  object \n",
      " 21  Offer Number                   12744 non-null  object \n",
      " 22  First Registration             14322 non-null  object \n",
      " 23  Body Color                     15322 non-null  object \n",
      " 24  Paint Type                     10147 non-null  object \n",
      " 25  Body Color Original            12160 non-null  object \n",
      " 26  Upholstery                     12199 non-null  object \n",
      " 27  Body                           15859 non-null  object \n",
      " 28  Nr. of Doors                   15707 non-null  object \n",
      " 29  Nr. of Seats                   14942 non-null  object \n",
      " 30  Model Code                     4978 non-null   object \n",
      " 31  Gearing Type                   15919 non-null  object \n",
      " 32  Displacement                   15423 non-null  object \n",
      " 33  Cylinders                      10239 non-null  object \n",
      " 34  Weight                         8945 non-null   object \n",
      " 35  Drive chain                    9061 non-null   object \n",
      " 36  Fuel                           15919 non-null  object \n",
      " 37  Consumption                    14013 non-null  object \n",
      " 38  CO2 Emission                   14111 non-null  object \n",
      " 39  Emission Class                 12898 non-null  object \n",
      " 40  \n",
      "Comfort & Convenience\n",
      "        14999 non-null  object \n",
      " 41  \n",
      "Entertainment & Media\n",
      "        14545 non-null  object \n",
      " 42  \n",
      "Extras\n",
      "                       12957 non-null  object \n",
      " 43  \n",
      "Safety & Security\n",
      "            14937 non-null  object \n",
      " 44  description                    15919 non-null  object \n",
      " 45  Emission Label                 3985 non-null   object \n",
      " 46  Gears                          11207 non-null  object \n",
      " 47  Country version                7586 non-null   object \n",
      " 48  Electricity consumption        137 non-null    object \n",
      " 49  Last Service Date              566 non-null    object \n",
      " 50  Other Fuel Types               880 non-null    object \n",
      " 51  Availability                   635 non-null    object \n",
      " 52  Last Timing Belt Service Date  16 non-null     object \n",
      " 53  Available from                 272 non-null    object \n",
      "dtypes: float64(1), int64(1), object(52)\n",
      "memory usage: 6.6+ MB\n"
     ]
    }
   ],
   "source": [
    "df.info()"
   ]
  },
  {
   "cell_type": "code",
   "execution_count": 9,
   "id": "3d816e29",
   "metadata": {},
   "outputs": [
    {
     "data": {
      "text/html": [
       "<div>\n",
       "<style scoped>\n",
       "    .dataframe tbody tr th:only-of-type {\n",
       "        vertical-align: middle;\n",
       "    }\n",
       "\n",
       "    .dataframe tbody tr th {\n",
       "        vertical-align: top;\n",
       "    }\n",
       "\n",
       "    .dataframe thead th {\n",
       "        text-align: right;\n",
       "    }\n",
       "</style>\n",
       "<table border=\"1\" class=\"dataframe\">\n",
       "  <thead>\n",
       "    <tr style=\"text-align: right;\">\n",
       "      <th></th>\n",
       "      <th>price</th>\n",
       "      <th>kW</th>\n",
       "    </tr>\n",
       "  </thead>\n",
       "  <tbody>\n",
       "    <tr>\n",
       "      <th>count</th>\n",
       "      <td>15919.000000</td>\n",
       "      <td>0.0</td>\n",
       "    </tr>\n",
       "    <tr>\n",
       "      <th>mean</th>\n",
       "      <td>18019.896727</td>\n",
       "      <td>NaN</td>\n",
       "    </tr>\n",
       "    <tr>\n",
       "      <th>std</th>\n",
       "      <td>7386.169409</td>\n",
       "      <td>NaN</td>\n",
       "    </tr>\n",
       "    <tr>\n",
       "      <th>min</th>\n",
       "      <td>13.000000</td>\n",
       "      <td>NaN</td>\n",
       "    </tr>\n",
       "    <tr>\n",
       "      <th>25%</th>\n",
       "      <td>12850.000000</td>\n",
       "      <td>NaN</td>\n",
       "    </tr>\n",
       "    <tr>\n",
       "      <th>50%</th>\n",
       "      <td>16900.000000</td>\n",
       "      <td>NaN</td>\n",
       "    </tr>\n",
       "    <tr>\n",
       "      <th>75%</th>\n",
       "      <td>21900.000000</td>\n",
       "      <td>NaN</td>\n",
       "    </tr>\n",
       "    <tr>\n",
       "      <th>max</th>\n",
       "      <td>74600.000000</td>\n",
       "      <td>NaN</td>\n",
       "    </tr>\n",
       "  </tbody>\n",
       "</table>\n",
       "</div>"
      ],
      "text/plain": [
       "              price   kW\n",
       "count  15919.000000  0.0\n",
       "mean   18019.896727  NaN\n",
       "std     7386.169409  NaN\n",
       "min       13.000000  NaN\n",
       "25%    12850.000000  NaN\n",
       "50%    16900.000000  NaN\n",
       "75%    21900.000000  NaN\n",
       "max    74600.000000  NaN"
      ]
     },
     "execution_count": 9,
     "metadata": {},
     "output_type": "execute_result"
    }
   ],
   "source": [
    "df.describe()"
   ]
  },
  {
   "cell_type": "code",
   "execution_count": 10,
   "id": "4614df43",
   "metadata": {},
   "outputs": [
    {
     "data": {
      "text/html": [
       "<div>\n",
       "<style scoped>\n",
       "    .dataframe tbody tr th:only-of-type {\n",
       "        vertical-align: middle;\n",
       "    }\n",
       "\n",
       "    .dataframe tbody tr th {\n",
       "        vertical-align: top;\n",
       "    }\n",
       "\n",
       "    .dataframe thead th {\n",
       "        text-align: right;\n",
       "    }\n",
       "</style>\n",
       "<table border=\"1\" class=\"dataframe\">\n",
       "  <thead>\n",
       "    <tr style=\"text-align: right;\">\n",
       "      <th></th>\n",
       "      <th>count</th>\n",
       "      <th>unique</th>\n",
       "      <th>top</th>\n",
       "      <th>freq</th>\n",
       "    </tr>\n",
       "  </thead>\n",
       "  <tbody>\n",
       "    <tr>\n",
       "      <th>url</th>\n",
       "      <td>15919</td>\n",
       "      <td>15919</td>\n",
       "      <td>https://www.autoscout24.com//offers/audi-a1-sp...</td>\n",
       "      <td>1</td>\n",
       "    </tr>\n",
       "    <tr>\n",
       "      <th>make_model</th>\n",
       "      <td>15919</td>\n",
       "      <td>9</td>\n",
       "      <td>Audi A3</td>\n",
       "      <td>3097</td>\n",
       "    </tr>\n",
       "    <tr>\n",
       "      <th>short_description</th>\n",
       "      <td>15873</td>\n",
       "      <td>10001</td>\n",
       "      <td>SPB 1.6 TDI 116 CV S tronic Sport</td>\n",
       "      <td>64</td>\n",
       "    </tr>\n",
       "    <tr>\n",
       "      <th>body_type</th>\n",
       "      <td>15859</td>\n",
       "      <td>9</td>\n",
       "      <td>Sedans</td>\n",
       "      <td>7903</td>\n",
       "    </tr>\n",
       "    <tr>\n",
       "      <th>vat</th>\n",
       "      <td>11406</td>\n",
       "      <td>2</td>\n",
       "      <td>VAT deductible</td>\n",
       "      <td>10980</td>\n",
       "    </tr>\n",
       "    <tr>\n",
       "      <th>km</th>\n",
       "      <td>15919</td>\n",
       "      <td>6690</td>\n",
       "      <td>10 km</td>\n",
       "      <td>1045</td>\n",
       "    </tr>\n",
       "    <tr>\n",
       "      <th>registration</th>\n",
       "      <td>15919</td>\n",
       "      <td>48</td>\n",
       "      <td>-/-</td>\n",
       "      <td>1597</td>\n",
       "    </tr>\n",
       "    <tr>\n",
       "      <th>prev_owner</th>\n",
       "      <td>9091</td>\n",
       "      <td>4</td>\n",
       "      <td>1 previous owner</td>\n",
       "      <td>8294</td>\n",
       "    </tr>\n",
       "    <tr>\n",
       "      <th>hp</th>\n",
       "      <td>15919</td>\n",
       "      <td>81</td>\n",
       "      <td>85 kW</td>\n",
       "      <td>2542</td>\n",
       "    </tr>\n",
       "    <tr>\n",
       "      <th>Type</th>\n",
       "      <td>15917</td>\n",
       "      <td>169</td>\n",
       "      <td>[, Used, , Diesel (Particulate Filter)]</td>\n",
       "      <td>3475</td>\n",
       "    </tr>\n",
       "    <tr>\n",
       "      <th>Previous Owners</th>\n",
       "      <td>9279</td>\n",
       "      <td>102</td>\n",
       "      <td>\\n1\\n</td>\n",
       "      <td>8101</td>\n",
       "    </tr>\n",
       "    <tr>\n",
       "      <th>Next Inspection</th>\n",
       "      <td>3535</td>\n",
       "      <td>1399</td>\n",
       "      <td>\\n04/2022\\n</td>\n",
       "      <td>62</td>\n",
       "    </tr>\n",
       "    <tr>\n",
       "      <th>Inspection new</th>\n",
       "      <td>3932</td>\n",
       "      <td>202</td>\n",
       "      <td>[\\nYes\\n, \\nEuro 6\\n]</td>\n",
       "      <td>523</td>\n",
       "    </tr>\n",
       "    <tr>\n",
       "      <th>Warranty</th>\n",
       "      <td>10499</td>\n",
       "      <td>515</td>\n",
       "      <td>[\\n, \\n, \\nEuro 6\\n]</td>\n",
       "      <td>1868</td>\n",
       "    </tr>\n",
       "    <tr>\n",
       "      <th>Full Service</th>\n",
       "      <td>8215</td>\n",
       "      <td>122</td>\n",
       "      <td>[\\n, \\n, \\n4 (Green)\\n]</td>\n",
       "      <td>2235</td>\n",
       "    </tr>\n",
       "    <tr>\n",
       "      <th>Non-smoking Vehicle</th>\n",
       "      <td>7177</td>\n",
       "      <td>94</td>\n",
       "      <td>[\\n, \\n]</td>\n",
       "      <td>3647</td>\n",
       "    </tr>\n",
       "    <tr>\n",
       "      <th>null</th>\n",
       "      <td>15919</td>\n",
       "      <td>1</td>\n",
       "      <td>[]</td>\n",
       "      <td>15919</td>\n",
       "    </tr>\n",
       "    <tr>\n",
       "      <th>Make</th>\n",
       "      <td>15919</td>\n",
       "      <td>3</td>\n",
       "      <td>\\nOpel\\n</td>\n",
       "      <td>7343</td>\n",
       "    </tr>\n",
       "    <tr>\n",
       "      <th>Model</th>\n",
       "      <td>15919</td>\n",
       "      <td>9</td>\n",
       "      <td>[\\n, A3, \\n]</td>\n",
       "      <td>3097</td>\n",
       "    </tr>\n",
       "    <tr>\n",
       "      <th>Offer Number</th>\n",
       "      <td>12744</td>\n",
       "      <td>11440</td>\n",
       "      <td>[\\nLT67679\\n]</td>\n",
       "      <td>27</td>\n",
       "    </tr>\n",
       "    <tr>\n",
       "      <th>First Registration</th>\n",
       "      <td>14322</td>\n",
       "      <td>4</td>\n",
       "      <td>[\\n, 2018, \\n]</td>\n",
       "      <td>4522</td>\n",
       "    </tr>\n",
       "    <tr>\n",
       "      <th>Body Color</th>\n",
       "      <td>15322</td>\n",
       "      <td>14</td>\n",
       "      <td>[\\n, Black, \\n]</td>\n",
       "      <td>3745</td>\n",
       "    </tr>\n",
       "    <tr>\n",
       "      <th>Paint Type</th>\n",
       "      <td>10147</td>\n",
       "      <td>3</td>\n",
       "      <td>[\\nMetallic\\n]</td>\n",
       "      <td>9794</td>\n",
       "    </tr>\n",
       "    <tr>\n",
       "      <th>Body Color Original</th>\n",
       "      <td>12160</td>\n",
       "      <td>1927</td>\n",
       "      <td>[\\nOnyx Schwarz\\n]</td>\n",
       "      <td>338</td>\n",
       "    </tr>\n",
       "    <tr>\n",
       "      <th>Upholstery</th>\n",
       "      <td>12199</td>\n",
       "      <td>46</td>\n",
       "      <td>[\\nCloth, Black\\n]</td>\n",
       "      <td>5821</td>\n",
       "    </tr>\n",
       "    <tr>\n",
       "      <th>Body</th>\n",
       "      <td>15859</td>\n",
       "      <td>9</td>\n",
       "      <td>[\\n, Sedans, \\n]</td>\n",
       "      <td>7903</td>\n",
       "    </tr>\n",
       "    <tr>\n",
       "      <th>Nr. of Doors</th>\n",
       "      <td>15707</td>\n",
       "      <td>6</td>\n",
       "      <td>[\\n5\\n]</td>\n",
       "      <td>11575</td>\n",
       "    </tr>\n",
       "    <tr>\n",
       "      <th>Nr. of Seats</th>\n",
       "      <td>14942</td>\n",
       "      <td>6</td>\n",
       "      <td>[\\n5\\n]</td>\n",
       "      <td>13336</td>\n",
       "    </tr>\n",
       "    <tr>\n",
       "      <th>Model Code</th>\n",
       "      <td>4978</td>\n",
       "      <td>232</td>\n",
       "      <td>[\\n0035/BCB\\n]</td>\n",
       "      <td>268</td>\n",
       "    </tr>\n",
       "    <tr>\n",
       "      <th>Gearing Type</th>\n",
       "      <td>15919</td>\n",
       "      <td>3</td>\n",
       "      <td>[\\n, Manual, \\n]</td>\n",
       "      <td>8153</td>\n",
       "    </tr>\n",
       "    <tr>\n",
       "      <th>Displacement</th>\n",
       "      <td>15423</td>\n",
       "      <td>77</td>\n",
       "      <td>[\\n1,598 cc\\n]</td>\n",
       "      <td>4761</td>\n",
       "    </tr>\n",
       "    <tr>\n",
       "      <th>Cylinders</th>\n",
       "      <td>10239</td>\n",
       "      <td>7</td>\n",
       "      <td>[\\n4\\n]</td>\n",
       "      <td>8105</td>\n",
       "    </tr>\n",
       "    <tr>\n",
       "      <th>Weight</th>\n",
       "      <td>8945</td>\n",
       "      <td>434</td>\n",
       "      <td>[\\n1,163 kg\\n]</td>\n",
       "      <td>574</td>\n",
       "    </tr>\n",
       "    <tr>\n",
       "      <th>Drive chain</th>\n",
       "      <td>9061</td>\n",
       "      <td>3</td>\n",
       "      <td>[\\nfront\\n]</td>\n",
       "      <td>8886</td>\n",
       "    </tr>\n",
       "    <tr>\n",
       "      <th>Fuel</th>\n",
       "      <td>15919</td>\n",
       "      <td>77</td>\n",
       "      <td>[\\n, Diesel (Particulate Filter), \\n]</td>\n",
       "      <td>4315</td>\n",
       "    </tr>\n",
       "    <tr>\n",
       "      <th>Consumption</th>\n",
       "      <td>14013</td>\n",
       "      <td>881</td>\n",
       "      <td>[[3.9 l/100 km (comb)], [4.1 l/100 km (city)],...</td>\n",
       "      <td>304</td>\n",
       "    </tr>\n",
       "    <tr>\n",
       "      <th>CO2 Emission</th>\n",
       "      <td>14111</td>\n",
       "      <td>123</td>\n",
       "      <td>[\\n120 g CO2/km (comb)\\n]</td>\n",
       "      <td>740</td>\n",
       "    </tr>\n",
       "    <tr>\n",
       "      <th>Emission Class</th>\n",
       "      <td>12898</td>\n",
       "      <td>7</td>\n",
       "      <td>[\\nEuro 6\\n]</td>\n",
       "      <td>10139</td>\n",
       "    </tr>\n",
       "    <tr>\n",
       "      <th>\\nComfort &amp; Convenience\\n</th>\n",
       "      <td>14999</td>\n",
       "      <td>6198</td>\n",
       "      <td>[Air conditioning, Electrical side mirrors, Hi...</td>\n",
       "      <td>216</td>\n",
       "    </tr>\n",
       "    <tr>\n",
       "      <th>\\nEntertainment &amp; Media\\n</th>\n",
       "      <td>14545</td>\n",
       "      <td>346</td>\n",
       "      <td>[Bluetooth, Hands-free equipment, On-board com...</td>\n",
       "      <td>1282</td>\n",
       "    </tr>\n",
       "    <tr>\n",
       "      <th>\\nExtras\\n</th>\n",
       "      <td>12957</td>\n",
       "      <td>659</td>\n",
       "      <td>[Alloy wheels]</td>\n",
       "      <td>3245</td>\n",
       "    </tr>\n",
       "    <tr>\n",
       "      <th>\\nSafety &amp; Security\\n</th>\n",
       "      <td>14937</td>\n",
       "      <td>4443</td>\n",
       "      <td>[ABS, Central door lock, Daytime running light...</td>\n",
       "      <td>538</td>\n",
       "    </tr>\n",
       "    <tr>\n",
       "      <th>description</th>\n",
       "      <td>15919</td>\n",
       "      <td>12874</td>\n",
       "      <td>[]</td>\n",
       "      <td>636</td>\n",
       "    </tr>\n",
       "    <tr>\n",
       "      <th>Emission Label</th>\n",
       "      <td>3985</td>\n",
       "      <td>6</td>\n",
       "      <td>[\\n4 (Green)\\n]</td>\n",
       "      <td>3553</td>\n",
       "    </tr>\n",
       "    <tr>\n",
       "      <th>Gears</th>\n",
       "      <td>11207</td>\n",
       "      <td>10</td>\n",
       "      <td>[\\n6\\n]</td>\n",
       "      <td>5822</td>\n",
       "    </tr>\n",
       "    <tr>\n",
       "      <th>Country version</th>\n",
       "      <td>7586</td>\n",
       "      <td>23</td>\n",
       "      <td>[\\nGermany\\n]</td>\n",
       "      <td>4502</td>\n",
       "    </tr>\n",
       "    <tr>\n",
       "      <th>Electricity consumption</th>\n",
       "      <td>137</td>\n",
       "      <td>1</td>\n",
       "      <td>[\\n0 kWh/100 km (comb)\\n]</td>\n",
       "      <td>137</td>\n",
       "    </tr>\n",
       "    <tr>\n",
       "      <th>Last Service Date</th>\n",
       "      <td>566</td>\n",
       "      <td>266</td>\n",
       "      <td>[\\n02/2019\\n, \\nEuro 6\\n]</td>\n",
       "      <td>23</td>\n",
       "    </tr>\n",
       "    <tr>\n",
       "      <th>Other Fuel Types</th>\n",
       "      <td>880</td>\n",
       "      <td>1</td>\n",
       "      <td>[[], [], []]</td>\n",
       "      <td>880</td>\n",
       "    </tr>\n",
       "    <tr>\n",
       "      <th>Availability</th>\n",
       "      <td>635</td>\n",
       "      <td>15</td>\n",
       "      <td>\\nin 90 days from ordering\\n</td>\n",
       "      <td>196</td>\n",
       "    </tr>\n",
       "    <tr>\n",
       "      <th>Last Timing Belt Service Date</th>\n",
       "      <td>16</td>\n",
       "      <td>15</td>\n",
       "      <td>[\\n04/2016\\n]</td>\n",
       "      <td>2</td>\n",
       "    </tr>\n",
       "    <tr>\n",
       "      <th>Available from</th>\n",
       "      <td>272</td>\n",
       "      <td>46</td>\n",
       "      <td>\\n31/08/19\\n</td>\n",
       "      <td>98</td>\n",
       "    </tr>\n",
       "  </tbody>\n",
       "</table>\n",
       "</div>"
      ],
      "text/plain": [
       "                               count unique  \\\n",
       "url                            15919  15919   \n",
       "make_model                     15919      9   \n",
       "short_description              15873  10001   \n",
       "body_type                      15859      9   \n",
       "vat                            11406      2   \n",
       "km                             15919   6690   \n",
       "registration                   15919     48   \n",
       "prev_owner                      9091      4   \n",
       "hp                             15919     81   \n",
       "Type                           15917    169   \n",
       "Previous Owners                 9279    102   \n",
       "Next Inspection                 3535   1399   \n",
       "Inspection new                  3932    202   \n",
       "Warranty                       10499    515   \n",
       "Full Service                    8215    122   \n",
       "Non-smoking Vehicle             7177     94   \n",
       "null                           15919      1   \n",
       "Make                           15919      3   \n",
       "Model                          15919      9   \n",
       "Offer Number                   12744  11440   \n",
       "First Registration             14322      4   \n",
       "Body Color                     15322     14   \n",
       "Paint Type                     10147      3   \n",
       "Body Color Original            12160   1927   \n",
       "Upholstery                     12199     46   \n",
       "Body                           15859      9   \n",
       "Nr. of Doors                   15707      6   \n",
       "Nr. of Seats                   14942      6   \n",
       "Model Code                      4978    232   \n",
       "Gearing Type                   15919      3   \n",
       "Displacement                   15423     77   \n",
       "Cylinders                      10239      7   \n",
       "Weight                          8945    434   \n",
       "Drive chain                     9061      3   \n",
       "Fuel                           15919     77   \n",
       "Consumption                    14013    881   \n",
       "CO2 Emission                   14111    123   \n",
       "Emission Class                 12898      7   \n",
       "\\nComfort & Convenience\\n      14999   6198   \n",
       "\\nEntertainment & Media\\n      14545    346   \n",
       "\\nExtras\\n                     12957    659   \n",
       "\\nSafety & Security\\n          14937   4443   \n",
       "description                    15919  12874   \n",
       "Emission Label                  3985      6   \n",
       "Gears                          11207     10   \n",
       "Country version                 7586     23   \n",
       "Electricity consumption          137      1   \n",
       "Last Service Date                566    266   \n",
       "Other Fuel Types                 880      1   \n",
       "Availability                     635     15   \n",
       "Last Timing Belt Service Date     16     15   \n",
       "Available from                   272     46   \n",
       "\n",
       "                                                                             top  \\\n",
       "url                            https://www.autoscout24.com//offers/audi-a1-sp...   \n",
       "make_model                                                               Audi A3   \n",
       "short_description                              SPB 1.6 TDI 116 CV S tronic Sport   \n",
       "body_type                                                                 Sedans   \n",
       "vat                                                               VAT deductible   \n",
       "km                                                                         10 km   \n",
       "registration                                                                 -/-   \n",
       "prev_owner                                                      1 previous owner   \n",
       "hp                                                                         85 kW   \n",
       "Type                                     [, Used, , Diesel (Particulate Filter)]   \n",
       "Previous Owners                                                            \\n1\\n   \n",
       "Next Inspection                                                      \\n04/2022\\n   \n",
       "Inspection new                                             [\\nYes\\n, \\nEuro 6\\n]   \n",
       "Warranty                                                    [\\n, \\n, \\nEuro 6\\n]   \n",
       "Full Service                                             [\\n, \\n, \\n4 (Green)\\n]   \n",
       "Non-smoking Vehicle                                                     [\\n, \\n]   \n",
       "null                                                                          []   \n",
       "Make                                                                    \\nOpel\\n   \n",
       "Model                                                               [\\n, A3, \\n]   \n",
       "Offer Number                                                       [\\nLT67679\\n]   \n",
       "First Registration                                                [\\n, 2018, \\n]   \n",
       "Body Color                                                       [\\n, Black, \\n]   \n",
       "Paint Type                                                        [\\nMetallic\\n]   \n",
       "Body Color Original                                           [\\nOnyx Schwarz\\n]   \n",
       "Upholstery                                                    [\\nCloth, Black\\n]   \n",
       "Body                                                            [\\n, Sedans, \\n]   \n",
       "Nr. of Doors                                                             [\\n5\\n]   \n",
       "Nr. of Seats                                                             [\\n5\\n]   \n",
       "Model Code                                                        [\\n0035/BCB\\n]   \n",
       "Gearing Type                                                    [\\n, Manual, \\n]   \n",
       "Displacement                                                      [\\n1,598 cc\\n]   \n",
       "Cylinders                                                                [\\n4\\n]   \n",
       "Weight                                                            [\\n1,163 kg\\n]   \n",
       "Drive chain                                                          [\\nfront\\n]   \n",
       "Fuel                                       [\\n, Diesel (Particulate Filter), \\n]   \n",
       "Consumption                    [[3.9 l/100 km (comb)], [4.1 l/100 km (city)],...   \n",
       "CO2 Emission                                           [\\n120 g CO2/km (comb)\\n]   \n",
       "Emission Class                                                      [\\nEuro 6\\n]   \n",
       "\\nComfort & Convenience\\n      [Air conditioning, Electrical side mirrors, Hi...   \n",
       "\\nEntertainment & Media\\n      [Bluetooth, Hands-free equipment, On-board com...   \n",
       "\\nExtras\\n                                                        [Alloy wheels]   \n",
       "\\nSafety & Security\\n          [ABS, Central door lock, Daytime running light...   \n",
       "description                                                                   []   \n",
       "Emission Label                                                   [\\n4 (Green)\\n]   \n",
       "Gears                                                                    [\\n6\\n]   \n",
       "Country version                                                    [\\nGermany\\n]   \n",
       "Electricity consumption                                [\\n0 kWh/100 km (comb)\\n]   \n",
       "Last Service Date                                      [\\n02/2019\\n, \\nEuro 6\\n]   \n",
       "Other Fuel Types                                                    [[], [], []]   \n",
       "Availability                                        \\nin 90 days from ordering\\n   \n",
       "Last Timing Belt Service Date                                      [\\n04/2016\\n]   \n",
       "Available from                                                      \\n31/08/19\\n   \n",
       "\n",
       "                                freq  \n",
       "url                                1  \n",
       "make_model                      3097  \n",
       "short_description                 64  \n",
       "body_type                       7903  \n",
       "vat                            10980  \n",
       "km                              1045  \n",
       "registration                    1597  \n",
       "prev_owner                      8294  \n",
       "hp                              2542  \n",
       "Type                            3475  \n",
       "Previous Owners                 8101  \n",
       "Next Inspection                   62  \n",
       "Inspection new                   523  \n",
       "Warranty                        1868  \n",
       "Full Service                    2235  \n",
       "Non-smoking Vehicle             3647  \n",
       "null                           15919  \n",
       "Make                            7343  \n",
       "Model                           3097  \n",
       "Offer Number                      27  \n",
       "First Registration              4522  \n",
       "Body Color                      3745  \n",
       "Paint Type                      9794  \n",
       "Body Color Original              338  \n",
       "Upholstery                      5821  \n",
       "Body                            7903  \n",
       "Nr. of Doors                   11575  \n",
       "Nr. of Seats                   13336  \n",
       "Model Code                       268  \n",
       "Gearing Type                    8153  \n",
       "Displacement                    4761  \n",
       "Cylinders                       8105  \n",
       "Weight                           574  \n",
       "Drive chain                     8886  \n",
       "Fuel                            4315  \n",
       "Consumption                      304  \n",
       "CO2 Emission                     740  \n",
       "Emission Class                 10139  \n",
       "\\nComfort & Convenience\\n        216  \n",
       "\\nEntertainment & Media\\n       1282  \n",
       "\\nExtras\\n                      3245  \n",
       "\\nSafety & Security\\n            538  \n",
       "description                      636  \n",
       "Emission Label                  3553  \n",
       "Gears                           5822  \n",
       "Country version                 4502  \n",
       "Electricity consumption          137  \n",
       "Last Service Date                 23  \n",
       "Other Fuel Types                 880  \n",
       "Availability                     196  \n",
       "Last Timing Belt Service Date      2  \n",
       "Available from                    98  "
      ]
     },
     "execution_count": 10,
     "metadata": {},
     "output_type": "execute_result"
    }
   ],
   "source": [
    "df.describe(include= 'object').T"
   ]
  },
  {
   "cell_type": "code",
   "execution_count": 11,
   "id": "c9125e57",
   "metadata": {},
   "outputs": [
    {
     "data": {
      "text/html": [
       "<div>\n",
       "<style scoped>\n",
       "    .dataframe tbody tr th:only-of-type {\n",
       "        vertical-align: middle;\n",
       "    }\n",
       "\n",
       "    .dataframe tbody tr th {\n",
       "        vertical-align: top;\n",
       "    }\n",
       "\n",
       "    .dataframe thead th {\n",
       "        text-align: right;\n",
       "    }\n",
       "</style>\n",
       "<table border=\"1\" class=\"dataframe\">\n",
       "  <thead>\n",
       "    <tr style=\"text-align: right;\">\n",
       "      <th></th>\n",
       "      <th>0</th>\n",
       "      <th>1</th>\n",
       "      <th>2</th>\n",
       "    </tr>\n",
       "  </thead>\n",
       "  <tbody>\n",
       "    <tr>\n",
       "      <th>url</th>\n",
       "      <td>https://www.autoscout24.com//offers/audi-a1-sp...</td>\n",
       "      <td>https://www.autoscout24.com//offers/audi-a1-1-...</td>\n",
       "      <td>https://www.autoscout24.com//offers/audi-a1-sp...</td>\n",
       "    </tr>\n",
       "    <tr>\n",
       "      <th>make_model</th>\n",
       "      <td>Audi A1</td>\n",
       "      <td>Audi A1</td>\n",
       "      <td>Audi A1</td>\n",
       "    </tr>\n",
       "    <tr>\n",
       "      <th>short_description</th>\n",
       "      <td>Sportback 1.4 TDI S-tronic Xenon Navi Klima</td>\n",
       "      <td>1.8 TFSI sport</td>\n",
       "      <td>Sportback 1.6 TDI S tronic Einparkhilfe plus+m...</td>\n",
       "    </tr>\n",
       "    <tr>\n",
       "      <th>body_type</th>\n",
       "      <td>Sedans</td>\n",
       "      <td>Sedans</td>\n",
       "      <td>Sedans</td>\n",
       "    </tr>\n",
       "    <tr>\n",
       "      <th>price</th>\n",
       "      <td>15770</td>\n",
       "      <td>14500</td>\n",
       "      <td>14640</td>\n",
       "    </tr>\n",
       "    <tr>\n",
       "      <th>vat</th>\n",
       "      <td>VAT deductible</td>\n",
       "      <td>Price negotiable</td>\n",
       "      <td>VAT deductible</td>\n",
       "    </tr>\n",
       "    <tr>\n",
       "      <th>km</th>\n",
       "      <td>56,013 km</td>\n",
       "      <td>80,000 km</td>\n",
       "      <td>83,450 km</td>\n",
       "    </tr>\n",
       "    <tr>\n",
       "      <th>registration</th>\n",
       "      <td>01/2016</td>\n",
       "      <td>03/2017</td>\n",
       "      <td>02/2016</td>\n",
       "    </tr>\n",
       "    <tr>\n",
       "      <th>prev_owner</th>\n",
       "      <td>2 previous owners</td>\n",
       "      <td>None</td>\n",
       "      <td>1 previous owner</td>\n",
       "    </tr>\n",
       "    <tr>\n",
       "      <th>kW</th>\n",
       "      <td>NaN</td>\n",
       "      <td>NaN</td>\n",
       "      <td>NaN</td>\n",
       "    </tr>\n",
       "    <tr>\n",
       "      <th>hp</th>\n",
       "      <td>66 kW</td>\n",
       "      <td>141 kW</td>\n",
       "      <td>85 kW</td>\n",
       "    </tr>\n",
       "    <tr>\n",
       "      <th>Type</th>\n",
       "      <td>[, Used, , Diesel (Particulate Filter)]</td>\n",
       "      <td>[, Used, , Gasoline]</td>\n",
       "      <td>[, Used, , Diesel (Particulate Filter)]</td>\n",
       "    </tr>\n",
       "    <tr>\n",
       "      <th>Previous Owners</th>\n",
       "      <td>\\n2\\n</td>\n",
       "      <td>NaN</td>\n",
       "      <td>\\n1\\n</td>\n",
       "    </tr>\n",
       "    <tr>\n",
       "      <th>Next Inspection</th>\n",
       "      <td>[\\n06/2021\\n, \\n99 g CO2/km (comb)\\n]</td>\n",
       "      <td>NaN</td>\n",
       "      <td>NaN</td>\n",
       "    </tr>\n",
       "    <tr>\n",
       "      <th>Inspection new</th>\n",
       "      <td>[\\nYes\\n, \\nEuro 6\\n]</td>\n",
       "      <td>NaN</td>\n",
       "      <td>NaN</td>\n",
       "    </tr>\n",
       "    <tr>\n",
       "      <th>Warranty</th>\n",
       "      <td>[\\n, \\n, \\n4 (Green)\\n]</td>\n",
       "      <td>NaN</td>\n",
       "      <td>[\\n, \\n, \\n99 g CO2/km (comb)\\n]</td>\n",
       "    </tr>\n",
       "    <tr>\n",
       "      <th>Full Service</th>\n",
       "      <td>[\\n, \\n]</td>\n",
       "      <td>NaN</td>\n",
       "      <td>NaN</td>\n",
       "    </tr>\n",
       "    <tr>\n",
       "      <th>Non-smoking Vehicle</th>\n",
       "      <td>[\\n, \\n]</td>\n",
       "      <td>NaN</td>\n",
       "      <td>NaN</td>\n",
       "    </tr>\n",
       "    <tr>\n",
       "      <th>null</th>\n",
       "      <td>[]</td>\n",
       "      <td>[]</td>\n",
       "      <td>[]</td>\n",
       "    </tr>\n",
       "    <tr>\n",
       "      <th>Make</th>\n",
       "      <td>\\nAudi\\n</td>\n",
       "      <td>\\nAudi\\n</td>\n",
       "      <td>\\nAudi\\n</td>\n",
       "    </tr>\n",
       "    <tr>\n",
       "      <th>Model</th>\n",
       "      <td>[\\n, A1, \\n]</td>\n",
       "      <td>[\\n, A1, \\n]</td>\n",
       "      <td>[\\n, A1, \\n]</td>\n",
       "    </tr>\n",
       "    <tr>\n",
       "      <th>Offer Number</th>\n",
       "      <td>[\\nLR-062483\\n]</td>\n",
       "      <td>NaN</td>\n",
       "      <td>[\\nAM-95365\\n]</td>\n",
       "    </tr>\n",
       "    <tr>\n",
       "      <th>First Registration</th>\n",
       "      <td>[\\n, 2016, \\n]</td>\n",
       "      <td>[\\n, 2017, \\n]</td>\n",
       "      <td>[\\n, 2016, \\n]</td>\n",
       "    </tr>\n",
       "    <tr>\n",
       "      <th>Body Color</th>\n",
       "      <td>[\\n, Black, \\n]</td>\n",
       "      <td>[\\n, Red, \\n]</td>\n",
       "      <td>[\\n, Black, \\n]</td>\n",
       "    </tr>\n",
       "    <tr>\n",
       "      <th>Paint Type</th>\n",
       "      <td>[\\nMetallic\\n]</td>\n",
       "      <td>NaN</td>\n",
       "      <td>[\\nMetallic\\n]</td>\n",
       "    </tr>\n",
       "    <tr>\n",
       "      <th>Body Color Original</th>\n",
       "      <td>[\\nMythosschwarz\\n]</td>\n",
       "      <td>NaN</td>\n",
       "      <td>[\\nmythosschwarz metallic\\n]</td>\n",
       "    </tr>\n",
       "    <tr>\n",
       "      <th>Upholstery</th>\n",
       "      <td>[\\nCloth, Black\\n]</td>\n",
       "      <td>[\\nCloth, Grey\\n]</td>\n",
       "      <td>[\\nCloth, Black\\n]</td>\n",
       "    </tr>\n",
       "    <tr>\n",
       "      <th>Body</th>\n",
       "      <td>[\\n, Sedans, \\n]</td>\n",
       "      <td>[\\n, Sedans, \\n]</td>\n",
       "      <td>[\\n, Sedans, \\n]</td>\n",
       "    </tr>\n",
       "    <tr>\n",
       "      <th>Nr. of Doors</th>\n",
       "      <td>[\\n5\\n]</td>\n",
       "      <td>[\\n3\\n]</td>\n",
       "      <td>[\\n4\\n]</td>\n",
       "    </tr>\n",
       "    <tr>\n",
       "      <th>Nr. of Seats</th>\n",
       "      <td>[\\n5\\n]</td>\n",
       "      <td>[\\n4\\n]</td>\n",
       "      <td>[\\n4\\n]</td>\n",
       "    </tr>\n",
       "    <tr>\n",
       "      <th>Model Code</th>\n",
       "      <td>[\\n0588/BDF\\n]</td>\n",
       "      <td>[\\n0588/BCY\\n]</td>\n",
       "      <td>NaN</td>\n",
       "    </tr>\n",
       "    <tr>\n",
       "      <th>Gearing Type</th>\n",
       "      <td>[\\n, Automatic, \\n]</td>\n",
       "      <td>[\\n, Automatic, \\n]</td>\n",
       "      <td>[\\n, Automatic, \\n]</td>\n",
       "    </tr>\n",
       "    <tr>\n",
       "      <th>Displacement</th>\n",
       "      <td>[\\n1,422 cc\\n]</td>\n",
       "      <td>[\\n1,798 cc\\n]</td>\n",
       "      <td>[\\n1,598 cc\\n]</td>\n",
       "    </tr>\n",
       "    <tr>\n",
       "      <th>Cylinders</th>\n",
       "      <td>[\\n3\\n]</td>\n",
       "      <td>[\\n4\\n]</td>\n",
       "      <td>NaN</td>\n",
       "    </tr>\n",
       "    <tr>\n",
       "      <th>Weight</th>\n",
       "      <td>[\\n1,220 kg\\n]</td>\n",
       "      <td>[\\n1,255 kg\\n]</td>\n",
       "      <td>NaN</td>\n",
       "    </tr>\n",
       "    <tr>\n",
       "      <th>Drive chain</th>\n",
       "      <td>[\\nfront\\n]</td>\n",
       "      <td>[\\nfront\\n]</td>\n",
       "      <td>[\\nfront\\n]</td>\n",
       "    </tr>\n",
       "    <tr>\n",
       "      <th>Fuel</th>\n",
       "      <td>[\\n, Diesel (Particulate Filter), \\n]</td>\n",
       "      <td>[\\n, Gasoline, \\n]</td>\n",
       "      <td>[\\n, Diesel (Particulate Filter), \\n]</td>\n",
       "    </tr>\n",
       "    <tr>\n",
       "      <th>Consumption</th>\n",
       "      <td>[[3.8 l/100 km (comb)], [4.3 l/100 km (city)],...</td>\n",
       "      <td>[[5.6 l/100 km (comb)], [7.1 l/100 km (city)],...</td>\n",
       "      <td>[[3.8 l/100 km (comb)], [4.4 l/100 km (city)],...</td>\n",
       "    </tr>\n",
       "    <tr>\n",
       "      <th>CO2 Emission</th>\n",
       "      <td>[\\n99 g CO2/km (comb)\\n]</td>\n",
       "      <td>[\\n129 g CO2/km (comb)\\n]</td>\n",
       "      <td>[\\n99 g CO2/km (comb)\\n]</td>\n",
       "    </tr>\n",
       "    <tr>\n",
       "      <th>Emission Class</th>\n",
       "      <td>[\\nEuro 6\\n]</td>\n",
       "      <td>[\\nEuro 6\\n]</td>\n",
       "      <td>[\\nEuro 6\\n]</td>\n",
       "    </tr>\n",
       "    <tr>\n",
       "      <th>\\nComfort &amp; Convenience\\n</th>\n",
       "      <td>[Air conditioning, Armrest, Automatic climate ...</td>\n",
       "      <td>[Air conditioning, Automatic climate control, ...</td>\n",
       "      <td>[Air conditioning, Cruise control, Electrical ...</td>\n",
       "    </tr>\n",
       "    <tr>\n",
       "      <th>\\nEntertainment &amp; Media\\n</th>\n",
       "      <td>[Bluetooth, Hands-free equipment, On-board com...</td>\n",
       "      <td>[Bluetooth, Hands-free equipment, On-board com...</td>\n",
       "      <td>[MP3, On-board computer]</td>\n",
       "    </tr>\n",
       "    <tr>\n",
       "      <th>\\nExtras\\n</th>\n",
       "      <td>[Alloy wheels, Catalytic Converter, Voice Cont...</td>\n",
       "      <td>[Alloy wheels, Sport seats, Sport suspension, ...</td>\n",
       "      <td>[Alloy wheels, Voice Control]</td>\n",
       "    </tr>\n",
       "    <tr>\n",
       "      <th>\\nSafety &amp; Security\\n</th>\n",
       "      <td>[ABS, Central door lock, Daytime running light...</td>\n",
       "      <td>[ABS, Central door lock, Central door lock wit...</td>\n",
       "      <td>[ABS, Central door lock, Daytime running light...</td>\n",
       "    </tr>\n",
       "    <tr>\n",
       "      <th>description</th>\n",
       "      <td>[\\n, Sicherheit:,  , Deaktivierung für Beifahr...</td>\n",
       "      <td>[\\nLangstreckenfahrzeug daher die hohe Kilomet...</td>\n",
       "      <td>[\\n, Fahrzeug-Nummer: AM-95365,  , Ehem. UPE 2...</td>\n",
       "    </tr>\n",
       "    <tr>\n",
       "      <th>Emission Label</th>\n",
       "      <td>NaN</td>\n",
       "      <td>[\\n4 (Green)\\n]</td>\n",
       "      <td>[\\n4 (Green)\\n]</td>\n",
       "    </tr>\n",
       "    <tr>\n",
       "      <th>Gears</th>\n",
       "      <td>NaN</td>\n",
       "      <td>[\\n7\\n]</td>\n",
       "      <td>NaN</td>\n",
       "    </tr>\n",
       "    <tr>\n",
       "      <th>Country version</th>\n",
       "      <td>NaN</td>\n",
       "      <td>NaN</td>\n",
       "      <td>NaN</td>\n",
       "    </tr>\n",
       "    <tr>\n",
       "      <th>Electricity consumption</th>\n",
       "      <td>NaN</td>\n",
       "      <td>NaN</td>\n",
       "      <td>NaN</td>\n",
       "    </tr>\n",
       "    <tr>\n",
       "      <th>Last Service Date</th>\n",
       "      <td>NaN</td>\n",
       "      <td>NaN</td>\n",
       "      <td>NaN</td>\n",
       "    </tr>\n",
       "    <tr>\n",
       "      <th>Other Fuel Types</th>\n",
       "      <td>NaN</td>\n",
       "      <td>NaN</td>\n",
       "      <td>NaN</td>\n",
       "    </tr>\n",
       "    <tr>\n",
       "      <th>Availability</th>\n",
       "      <td>NaN</td>\n",
       "      <td>NaN</td>\n",
       "      <td>NaN</td>\n",
       "    </tr>\n",
       "    <tr>\n",
       "      <th>Last Timing Belt Service Date</th>\n",
       "      <td>NaN</td>\n",
       "      <td>NaN</td>\n",
       "      <td>NaN</td>\n",
       "    </tr>\n",
       "    <tr>\n",
       "      <th>Available from</th>\n",
       "      <td>NaN</td>\n",
       "      <td>NaN</td>\n",
       "      <td>NaN</td>\n",
       "    </tr>\n",
       "  </tbody>\n",
       "</table>\n",
       "</div>"
      ],
      "text/plain": [
       "                                                                               0  \\\n",
       "url                            https://www.autoscout24.com//offers/audi-a1-sp...   \n",
       "make_model                                                               Audi A1   \n",
       "short_description                    Sportback 1.4 TDI S-tronic Xenon Navi Klima   \n",
       "body_type                                                                 Sedans   \n",
       "price                                                                      15770   \n",
       "vat                                                               VAT deductible   \n",
       "km                                                                     56,013 km   \n",
       "registration                                                             01/2016   \n",
       "prev_owner                                                     2 previous owners   \n",
       "kW                                                                           NaN   \n",
       "hp                                                                         66 kW   \n",
       "Type                                     [, Used, , Diesel (Particulate Filter)]   \n",
       "Previous Owners                                                            \\n2\\n   \n",
       "Next Inspection                            [\\n06/2021\\n, \\n99 g CO2/km (comb)\\n]   \n",
       "Inspection new                                             [\\nYes\\n, \\nEuro 6\\n]   \n",
       "Warranty                                                 [\\n, \\n, \\n4 (Green)\\n]   \n",
       "Full Service                                                            [\\n, \\n]   \n",
       "Non-smoking Vehicle                                                     [\\n, \\n]   \n",
       "null                                                                          []   \n",
       "Make                                                                    \\nAudi\\n   \n",
       "Model                                                               [\\n, A1, \\n]   \n",
       "Offer Number                                                     [\\nLR-062483\\n]   \n",
       "First Registration                                                [\\n, 2016, \\n]   \n",
       "Body Color                                                       [\\n, Black, \\n]   \n",
       "Paint Type                                                        [\\nMetallic\\n]   \n",
       "Body Color Original                                          [\\nMythosschwarz\\n]   \n",
       "Upholstery                                                    [\\nCloth, Black\\n]   \n",
       "Body                                                            [\\n, Sedans, \\n]   \n",
       "Nr. of Doors                                                             [\\n5\\n]   \n",
       "Nr. of Seats                                                             [\\n5\\n]   \n",
       "Model Code                                                        [\\n0588/BDF\\n]   \n",
       "Gearing Type                                                 [\\n, Automatic, \\n]   \n",
       "Displacement                                                      [\\n1,422 cc\\n]   \n",
       "Cylinders                                                                [\\n3\\n]   \n",
       "Weight                                                            [\\n1,220 kg\\n]   \n",
       "Drive chain                                                          [\\nfront\\n]   \n",
       "Fuel                                       [\\n, Diesel (Particulate Filter), \\n]   \n",
       "Consumption                    [[3.8 l/100 km (comb)], [4.3 l/100 km (city)],...   \n",
       "CO2 Emission                                            [\\n99 g CO2/km (comb)\\n]   \n",
       "Emission Class                                                      [\\nEuro 6\\n]   \n",
       "\\nComfort & Convenience\\n      [Air conditioning, Armrest, Automatic climate ...   \n",
       "\\nEntertainment & Media\\n      [Bluetooth, Hands-free equipment, On-board com...   \n",
       "\\nExtras\\n                     [Alloy wheels, Catalytic Converter, Voice Cont...   \n",
       "\\nSafety & Security\\n          [ABS, Central door lock, Daytime running light...   \n",
       "description                    [\\n, Sicherheit:,  , Deaktivierung für Beifahr...   \n",
       "Emission Label                                                               NaN   \n",
       "Gears                                                                        NaN   \n",
       "Country version                                                              NaN   \n",
       "Electricity consumption                                                      NaN   \n",
       "Last Service Date                                                            NaN   \n",
       "Other Fuel Types                                                             NaN   \n",
       "Availability                                                                 NaN   \n",
       "Last Timing Belt Service Date                                                NaN   \n",
       "Available from                                                               NaN   \n",
       "\n",
       "                                                                               1  \\\n",
       "url                            https://www.autoscout24.com//offers/audi-a1-1-...   \n",
       "make_model                                                               Audi A1   \n",
       "short_description                                                 1.8 TFSI sport   \n",
       "body_type                                                                 Sedans   \n",
       "price                                                                      14500   \n",
       "vat                                                             Price negotiable   \n",
       "km                                                                     80,000 km   \n",
       "registration                                                             03/2017   \n",
       "prev_owner                                                                  None   \n",
       "kW                                                                           NaN   \n",
       "hp                                                                        141 kW   \n",
       "Type                                                        [, Used, , Gasoline]   \n",
       "Previous Owners                                                              NaN   \n",
       "Next Inspection                                                              NaN   \n",
       "Inspection new                                                               NaN   \n",
       "Warranty                                                                     NaN   \n",
       "Full Service                                                                 NaN   \n",
       "Non-smoking Vehicle                                                          NaN   \n",
       "null                                                                          []   \n",
       "Make                                                                    \\nAudi\\n   \n",
       "Model                                                               [\\n, A1, \\n]   \n",
       "Offer Number                                                                 NaN   \n",
       "First Registration                                                [\\n, 2017, \\n]   \n",
       "Body Color                                                         [\\n, Red, \\n]   \n",
       "Paint Type                                                                   NaN   \n",
       "Body Color Original                                                          NaN   \n",
       "Upholstery                                                     [\\nCloth, Grey\\n]   \n",
       "Body                                                            [\\n, Sedans, \\n]   \n",
       "Nr. of Doors                                                             [\\n3\\n]   \n",
       "Nr. of Seats                                                             [\\n4\\n]   \n",
       "Model Code                                                        [\\n0588/BCY\\n]   \n",
       "Gearing Type                                                 [\\n, Automatic, \\n]   \n",
       "Displacement                                                      [\\n1,798 cc\\n]   \n",
       "Cylinders                                                                [\\n4\\n]   \n",
       "Weight                                                            [\\n1,255 kg\\n]   \n",
       "Drive chain                                                          [\\nfront\\n]   \n",
       "Fuel                                                          [\\n, Gasoline, \\n]   \n",
       "Consumption                    [[5.6 l/100 km (comb)], [7.1 l/100 km (city)],...   \n",
       "CO2 Emission                                           [\\n129 g CO2/km (comb)\\n]   \n",
       "Emission Class                                                      [\\nEuro 6\\n]   \n",
       "\\nComfort & Convenience\\n      [Air conditioning, Automatic climate control, ...   \n",
       "\\nEntertainment & Media\\n      [Bluetooth, Hands-free equipment, On-board com...   \n",
       "\\nExtras\\n                     [Alloy wheels, Sport seats, Sport suspension, ...   \n",
       "\\nSafety & Security\\n          [ABS, Central door lock, Central door lock wit...   \n",
       "description                    [\\nLangstreckenfahrzeug daher die hohe Kilomet...   \n",
       "Emission Label                                                   [\\n4 (Green)\\n]   \n",
       "Gears                                                                    [\\n7\\n]   \n",
       "Country version                                                              NaN   \n",
       "Electricity consumption                                                      NaN   \n",
       "Last Service Date                                                            NaN   \n",
       "Other Fuel Types                                                             NaN   \n",
       "Availability                                                                 NaN   \n",
       "Last Timing Belt Service Date                                                NaN   \n",
       "Available from                                                               NaN   \n",
       "\n",
       "                                                                               2  \n",
       "url                            https://www.autoscout24.com//offers/audi-a1-sp...  \n",
       "make_model                                                               Audi A1  \n",
       "short_description              Sportback 1.6 TDI S tronic Einparkhilfe plus+m...  \n",
       "body_type                                                                 Sedans  \n",
       "price                                                                      14640  \n",
       "vat                                                               VAT deductible  \n",
       "km                                                                     83,450 km  \n",
       "registration                                                             02/2016  \n",
       "prev_owner                                                      1 previous owner  \n",
       "kW                                                                           NaN  \n",
       "hp                                                                         85 kW  \n",
       "Type                                     [, Used, , Diesel (Particulate Filter)]  \n",
       "Previous Owners                                                            \\n1\\n  \n",
       "Next Inspection                                                              NaN  \n",
       "Inspection new                                                               NaN  \n",
       "Warranty                                        [\\n, \\n, \\n99 g CO2/km (comb)\\n]  \n",
       "Full Service                                                                 NaN  \n",
       "Non-smoking Vehicle                                                          NaN  \n",
       "null                                                                          []  \n",
       "Make                                                                    \\nAudi\\n  \n",
       "Model                                                               [\\n, A1, \\n]  \n",
       "Offer Number                                                      [\\nAM-95365\\n]  \n",
       "First Registration                                                [\\n, 2016, \\n]  \n",
       "Body Color                                                       [\\n, Black, \\n]  \n",
       "Paint Type                                                        [\\nMetallic\\n]  \n",
       "Body Color Original                                 [\\nmythosschwarz metallic\\n]  \n",
       "Upholstery                                                    [\\nCloth, Black\\n]  \n",
       "Body                                                            [\\n, Sedans, \\n]  \n",
       "Nr. of Doors                                                             [\\n4\\n]  \n",
       "Nr. of Seats                                                             [\\n4\\n]  \n",
       "Model Code                                                                   NaN  \n",
       "Gearing Type                                                 [\\n, Automatic, \\n]  \n",
       "Displacement                                                      [\\n1,598 cc\\n]  \n",
       "Cylinders                                                                    NaN  \n",
       "Weight                                                                       NaN  \n",
       "Drive chain                                                          [\\nfront\\n]  \n",
       "Fuel                                       [\\n, Diesel (Particulate Filter), \\n]  \n",
       "Consumption                    [[3.8 l/100 km (comb)], [4.4 l/100 km (city)],...  \n",
       "CO2 Emission                                            [\\n99 g CO2/km (comb)\\n]  \n",
       "Emission Class                                                      [\\nEuro 6\\n]  \n",
       "\\nComfort & Convenience\\n      [Air conditioning, Cruise control, Electrical ...  \n",
       "\\nEntertainment & Media\\n                               [MP3, On-board computer]  \n",
       "\\nExtras\\n                                         [Alloy wheels, Voice Control]  \n",
       "\\nSafety & Security\\n          [ABS, Central door lock, Daytime running light...  \n",
       "description                    [\\n, Fahrzeug-Nummer: AM-95365,  , Ehem. UPE 2...  \n",
       "Emission Label                                                   [\\n4 (Green)\\n]  \n",
       "Gears                                                                        NaN  \n",
       "Country version                                                              NaN  \n",
       "Electricity consumption                                                      NaN  \n",
       "Last Service Date                                                            NaN  \n",
       "Other Fuel Types                                                             NaN  \n",
       "Availability                                                                 NaN  \n",
       "Last Timing Belt Service Date                                                NaN  \n",
       "Available from                                                               NaN  "
      ]
     },
     "execution_count": 11,
     "metadata": {},
     "output_type": "execute_result"
    }
   ],
   "source": [
    "df.head(3).T"
   ]
  },
  {
   "cell_type": "code",
   "execution_count": 5,
   "id": "89d3e913",
   "metadata": {},
   "outputs": [
    {
     "data": {
      "text/plain": [
       "Index(['url', 'make_model', 'short_description', 'body_type', 'price', 'vat',\n",
       "       'km', 'registration', 'prev_owner', 'kW', 'hp', 'Type',\n",
       "       'Previous Owners', 'Next Inspection', 'Inspection new', 'Warranty',\n",
       "       'Full Service', 'Non-smoking Vehicle', 'null', 'Make', 'Model',\n",
       "       'Offer Number', 'First Registration', 'Body Color', 'Paint Type',\n",
       "       'Body Color Original', 'Upholstery', 'Body', 'Nr. of Doors',\n",
       "       'Nr. of Seats', 'Model Code', 'Gearing Type', 'Displacement',\n",
       "       'Cylinders', 'Weight', 'Drive chain', 'Fuel', 'Consumption',\n",
       "       'CO2 Emission', 'Emission Class', '\\nComfort & Convenience\\n',\n",
       "       '\\nEntertainment & Media\\n', '\\nExtras\\n', '\\nSafety & Security\\n',\n",
       "       'description', 'Emission Label', 'Gears', 'Country version',\n",
       "       'Electricity consumption', 'Last Service Date', 'Other Fuel Types',\n",
       "       'Availability', 'Last Timing Belt Service Date', 'Available from'],\n",
       "      dtype='object')"
      ]
     },
     "execution_count": 5,
     "metadata": {},
     "output_type": "execute_result"
    }
   ],
   "source": [
    "df.columns"
   ]
  },
  {
   "cell_type": "markdown",
   "id": "7cb0ed54",
   "metadata": {},
   "source": [
    "As seen above, there is no standardization in column names. Since we can obtain data from many different sources, we can encounter column names in many different shapes and formats. It will be useful to standardize the column names at the beginning of our work.\n",
    "\n",
    "Column names can be standardized with simple coding. However, there is a great library for standardizing column names, 'skimpy'.\n",
    "\n",
    "I will show it as an application below. However, you can read the article in the link to get more detailed information.\n",
    "\n",
    "https://towardsdatascience.com/how-to-clean-messy-pandas-column-names-20dc7400cea7"
   ]
  },
  {
   "cell_type": "code",
   "execution_count": 6,
   "id": "3a6028f3",
   "metadata": {},
   "outputs": [],
   "source": [
    "from skimpy import clean_columns"
   ]
  },
  {
   "cell_type": "code",
   "execution_count": 8,
   "id": "e2efcbeb",
   "metadata": {},
   "outputs": [
    {
     "data": {
      "text/plain": [
       "['url',\n",
       " 'make_model',\n",
       " 'short_description',\n",
       " 'body_type',\n",
       " 'price',\n",
       " 'vat',\n",
       " 'km',\n",
       " 'registration',\n",
       " 'prev_owner',\n",
       " 'k_w',\n",
       " 'hp',\n",
       " 'type',\n",
       " 'previous_owners',\n",
       " 'next_inspection',\n",
       " 'inspection_new',\n",
       " 'warranty',\n",
       " 'full_service',\n",
       " 'non_smoking_vehicle',\n",
       " 'null',\n",
       " 'make',\n",
       " 'model',\n",
       " 'offer_number',\n",
       " 'first_registration',\n",
       " 'body_color',\n",
       " 'paint_type',\n",
       " 'body_color_original',\n",
       " 'upholstery',\n",
       " 'body',\n",
       " 'nr_of_doors',\n",
       " 'nr_of_seats',\n",
       " 'model_code',\n",
       " 'gearing_type',\n",
       " 'displacement',\n",
       " 'cylinders',\n",
       " 'weight',\n",
       " 'drive_chain',\n",
       " 'fuel',\n",
       " 'consumption',\n",
       " 'co_2_emission',\n",
       " 'emission_class',\n",
       " 'comfort_&_convenience',\n",
       " 'entertainment_&_media',\n",
       " 'extras',\n",
       " 'safety_&_security',\n",
       " 'description',\n",
       " 'emission_label',\n",
       " 'gears',\n",
       " 'country_version',\n",
       " 'electricity_consumption',\n",
       " 'last_service_date',\n",
       " 'other_fuel_types',\n",
       " 'availability',\n",
       " 'last_timing_belt_service_date',\n",
       " 'available_from']"
      ]
     },
     "execution_count": 8,
     "metadata": {},
     "output_type": "execute_result"
    }
   ],
   "source": [
    "columns= ['url', 'make_model', 'short_description', 'body_type', 'price', 'vat',\n",
    "       'km', 'registration', 'prev_owner', 'kW', 'hp', 'Type',\n",
    "       'Previous Owners', 'Next Inspection', 'Inspection new', 'Warranty',\n",
    "       'Full Service', 'Non-smoking Vehicle', 'null', 'Make', 'Model',\n",
    "       'Offer Number', 'First Registration', 'Body Color', 'Paint Type',\n",
    "       'Body Color Original', 'Upholstery', 'Body', 'Nr. of Doors',\n",
    "       'Nr. of Seats', 'Model Code', 'Gearing Type', 'Displacement',\n",
    "       'Cylinders', 'Weight', 'Drive chain', 'Fuel', 'Consumption',\n",
    "       'CO2 Emission', 'Emission Class', '\\nComfort & Convenience\\n',\n",
    "       '\\nEntertainment & Media\\n', '\\nExtras\\n', '\\nSafety & Security\\n',\n",
    "       'description', 'Emission Label', 'Gears', 'Country version',\n",
    "       'Electricity consumption', 'Last Service Date', 'Other Fuel Types',\n",
    "       'Availability', 'Last Timing Belt Service Date', 'Available from']\n",
    "\n",
    "messy_df = pd.DataFrame(data = [], columns = columns, index = [0])\n",
    "clean_df = clean_columns(messy_df)\n",
    "clean_df.columns.tolist()\n"
   ]
  },
  {
   "cell_type": "code",
   "execution_count": 9,
   "id": "3970e38d",
   "metadata": {},
   "outputs": [],
   "source": [
    "df.columns = clean_df.columns.tolist()"
   ]
  },
  {
   "cell_type": "code",
   "execution_count": 16,
   "id": "88212e04",
   "metadata": {},
   "outputs": [
    {
     "data": {
      "text/plain": [
       "Index(['url', 'make_model', 'short_description', 'body_type', 'price', 'vat',\n",
       "       'km', 'registration', 'prev_owner', 'k_w', 'hp', 'type',\n",
       "       'previous_owners', 'next_inspection', 'inspection_new', 'warranty',\n",
       "       'full_service', 'non_smoking_vehicle', 'null', 'make', 'model',\n",
       "       'offer_number', 'first_registration', 'body_color', 'paint_type',\n",
       "       'body_color_original', 'upholstery', 'body', 'nr_of_doors',\n",
       "       'nr_of_seats', 'model_code', 'gearing_type', 'displacement',\n",
       "       'cylinders', 'weight', 'drive_chain', 'fuel', 'consumption',\n",
       "       'co_2_emission', 'emission_class', 'comfort_&_convenience',\n",
       "       'entertainment_&_media', 'extras', 'safety_&_security', 'description',\n",
       "       'emission_label', 'gears', 'country_version', 'electricity_consumption',\n",
       "       'last_service_date', 'other_fuel_types', 'availability',\n",
       "       'last_timing_belt_service_date', 'available_from'],\n",
       "      dtype='object')"
      ]
     },
     "execution_count": 16,
     "metadata": {},
     "output_type": "execute_result"
    }
   ],
   "source": [
    "df.columns"
   ]
  },
  {
   "cell_type": "code",
   "execution_count": 17,
   "id": "de125dc3",
   "metadata": {},
   "outputs": [
    {
     "data": {
      "text/plain": [
       "https://www.autoscout24.com//offers/audi-a1-sportback-1-4-tdi-s-tronic-xenon-navi-klima-diesel-black-bdab349a-caa5-41b0-98eb-c1345b84445e                  1\n",
       "https://www.autoscout24.com//offers/opel-insignia-bus-inno-2-0-cdti-aut-navi-bi-xe-led-e6-diesel-black-8710b253-dd98-4ed0-9d46-cbad2d79532b                1\n",
       "https://www.autoscout24.com//offers/opel-insignia-sport-tourer-opel-sport-tourer-1-6-cdti-136-ch-a-c-diesel-silver-10b7463b-9f56-4348-af35-df3432b2b585    1\n",
       "https://www.autoscout24.com//offers/opel-insignia-2-0cdti-st-business-innovation-navi-bt-diesel-black-ba5a3368-dedc-4e51-9127-3976b26e93c2                 1\n",
       "https://www.autoscout24.com//offers/opel-insignia-sport-tourer-opel-sport-tourer-1-6-cdti-136-ch-a-c-diesel-silver-7b52f054-78d3-4d5e-9370-8a7d081d7edd    1\n",
       "                                                                                                                                                          ..\n",
       "https://www.autoscout24.com//offers/audi-a3-sb-30-1-6-tdi-business-116cv-s-tronic-diesel-black-cf50f7b1-4d7b-466f-93a2-4e11ec0b4107                        1\n",
       "https://www.autoscout24.com//offers/audi-a3-sb-30-1-6-tdi-business-116cv-s-tronic-diesel-grey-3f47eb34-15c4-4763-860d-78fcbbd2c9ff                         1\n",
       "https://www.autoscout24.com//offers/audi-a3-sb-30-1-6-tdi-business-116cv-s-tronic-diesel-silver-f7a4bc95-b2ef-4bac-9497-6bcbcd05db0b                       1\n",
       "https://www.autoscout24.com//offers/audi-a3-sb-30-1-6-tdi-business-116cv-s-tronic-diesel-silver-1c94c7a2-67b5-49ca-ae42-42a6800fb3f5                       1\n",
       "https://www.autoscout24.com//offers/renault-espace-initiale-paris-tce-225-edc-gpf-navi-shz-aux-gasoline-grey-0bd690d9-7e93-4cab-bc5a-9d5b63402481          1\n",
       "Name: url, Length: 15919, dtype: int64"
      ]
     },
     "execution_count": 17,
     "metadata": {},
     "output_type": "execute_result"
    }
   ],
   "source": [
    "df.url.value_counts()"
   ]
  },
  {
   "cell_type": "code",
   "execution_count": 18,
   "id": "e735b0b9",
   "metadata": {},
   "outputs": [
    {
     "data": {
      "text/plain": [
       "0    https://www.autoscout24.com//offers/audi-a1-sp...\n",
       "Name: url, dtype: object"
      ]
     },
     "execution_count": 18,
     "metadata": {},
     "output_type": "execute_result"
    }
   ],
   "source": [
    "df.url.head(1)"
   ]
  },
  {
   "cell_type": "code",
   "execution_count": 19,
   "id": "edad43f3",
   "metadata": {},
   "outputs": [
    {
     "data": {
      "text/plain": [
       "Audi A3           3097\n",
       "Audi A1           2614\n",
       "Opel Insignia     2598\n",
       "Opel Astra        2526\n",
       "Opel Corsa        2219\n",
       "Renault Clio      1839\n",
       "Renault Espace     991\n",
       "Renault Duster      34\n",
       "Audi A2              1\n",
       "Name: make_model, dtype: int64"
      ]
     },
     "execution_count": 19,
     "metadata": {},
     "output_type": "execute_result"
    }
   ],
   "source": [
    "df.make_model.value_counts( dropna = False)"
   ]
  },
  {
   "cell_type": "code",
   "execution_count": 20,
   "id": "423faa14",
   "metadata": {},
   "outputs": [
    {
     "data": {
      "text/plain": [
       "SPB 1.6 TDI 116 CV S tronic Sport                 64\n",
       "NaN                                               46\n",
       "1.4 66kW (90CV) Selective                         40\n",
       "MOVE KLIMA CD USB ALLWETTER BLUETOOTH             38\n",
       "SPB 30 TDI S tronic Business                      35\n",
       "                                                  ..\n",
       "K Sports Tourer Business **Navi*Voll**             1\n",
       "1.0 Turbo ecoFLEX Automatic Elective Park Navi     1\n",
       "1.6 CDTI Business *Navi*Automatik*Spurh.*          1\n",
       "1.6 136 CV Automatica Navi E 6 Garanzia Full       1\n",
       "TCe 225 EDC GPF LIM Deluxe Pano,RFK                1\n",
       "Name: short_description, Length: 10002, dtype: int64"
      ]
     },
     "execution_count": 20,
     "metadata": {},
     "output_type": "execute_result"
    }
   ],
   "source": [
    "df.short_description.value_counts(dropna = False)"
   ]
  },
  {
   "cell_type": "code",
   "execution_count": 21,
   "id": "8bacec99",
   "metadata": {},
   "outputs": [
    {
     "data": {
      "text/plain": [
       "Sedans           7903\n",
       "Station wagon    3553\n",
       "Compact          3153\n",
       "Van               783\n",
       "Other             290\n",
       "Transporter        88\n",
       "NaN                60\n",
       "Off-Road           56\n",
       "Coupe              25\n",
       "Convertible         8\n",
       "Name: body_type, dtype: int64"
      ]
     },
     "execution_count": 21,
     "metadata": {},
     "output_type": "execute_result"
    }
   ],
   "source": [
    "df.body_type.value_counts(dropna = False)"
   ]
  },
  {
   "cell_type": "code",
   "execution_count": 22,
   "id": "026bda78",
   "metadata": {},
   "outputs": [
    {
     "data": {
      "text/plain": [
       "count    15919.000000\n",
       "mean     18019.896727\n",
       "std       7386.169409\n",
       "min         13.000000\n",
       "25%      12850.000000\n",
       "50%      16900.000000\n",
       "75%      21900.000000\n",
       "max      74600.000000\n",
       "Name: price, dtype: float64"
      ]
     },
     "execution_count": 22,
     "metadata": {},
     "output_type": "execute_result"
    }
   ],
   "source": [
    "df.price.describe()"
   ]
  },
  {
   "cell_type": "code",
   "execution_count": 23,
   "id": "fffe6216",
   "metadata": {},
   "outputs": [
    {
     "data": {
      "text/plain": [
       "VAT deductible      10980\n",
       "NaN                  4513\n",
       "Price negotiable      426\n",
       "Name: vat, dtype: int64"
      ]
     },
     "execution_count": 23,
     "metadata": {},
     "output_type": "execute_result"
    }
   ],
   "source": [
    "df.vat.value_counts(dropna = False)"
   ]
  },
  {
   "cell_type": "code",
   "execution_count": 24,
   "id": "0d7238bf",
   "metadata": {},
   "outputs": [
    {
     "data": {
      "text/plain": [
       "0        56,013 km\n",
       "1        80,000 km\n",
       "2        83,450 km\n",
       "3        73,000 km\n",
       "4        16,200 km\n",
       "           ...    \n",
       "15914         - km\n",
       "15915     9,900 km\n",
       "15916        15 km\n",
       "15917        10 km\n",
       "15918         - km\n",
       "Name: km, Length: 15919, dtype: object"
      ]
     },
     "execution_count": 24,
     "metadata": {},
     "output_type": "execute_result"
    }
   ],
   "source": [
    "df.km"
   ]
  },
  {
   "cell_type": "code",
   "execution_count": 25,
   "id": "0da6ac87",
   "metadata": {},
   "outputs": [
    {
     "data": {
      "text/plain": [
       "10       1045\n",
       "-        1024\n",
       "1         367\n",
       "5         170\n",
       "50        148\n",
       "         ... \n",
       "67469       1\n",
       "43197       1\n",
       "10027       1\n",
       "35882       1\n",
       "57          1\n",
       "Name: km, Length: 6690, dtype: int64"
      ]
     },
     "execution_count": 25,
     "metadata": {},
     "output_type": "execute_result"
    }
   ],
   "source": [
    "df.km = df.km.str.strip(\" km\").str.replace(\",\" , \"\")\n",
    "df.km.value_counts(dropna= False)"
   ]
  },
  {
   "cell_type": "code",
   "execution_count": 26,
   "id": "65547a3d",
   "metadata": {},
   "outputs": [
    {
     "data": {
      "text/plain": [
       "10.0       1045\n",
       "NaN        1024\n",
       "1.0         367\n",
       "5.0         170\n",
       "50.0        148\n",
       "           ... \n",
       "67469.0       1\n",
       "43197.0       1\n",
       "10027.0       1\n",
       "35882.0       1\n",
       "57.0          1\n",
       "Name: km, Length: 6690, dtype: int64"
      ]
     },
     "execution_count": 26,
     "metadata": {},
     "output_type": "execute_result"
    }
   ],
   "source": [
    "df.km= df.km.astype(\"str\").replace(\"-\", np.nan).astype(float)\n",
    "df.km.value_counts(dropna= False)"
   ]
  },
  {
   "cell_type": "code",
   "execution_count": 27,
   "id": "c106cccc",
   "metadata": {},
   "outputs": [
    {
     "data": {
      "text/plain": [
       "dtype('float64')"
      ]
     },
     "execution_count": 27,
     "metadata": {},
     "output_type": "execute_result"
    }
   ],
   "source": [
    "df.km.dtype"
   ]
  },
  {
   "cell_type": "code",
   "execution_count": 28,
   "id": "fe926ce0",
   "metadata": {},
   "outputs": [
    {
     "data": {
      "text/plain": [
       "-/-        1597\n",
       "03/2018     695\n",
       "02/2019     585\n",
       "05/2018     572\n",
       "03/2019     543\n",
       "01/2019     541\n",
       "04/2018     541\n",
       "02/2018     539\n",
       "03/2016     536\n",
       "04/2016     532\n",
       "06/2018     532\n",
       "01/2018     511\n",
       "04/2019     506\n",
       "02/2016     472\n",
       "03/2017     471\n",
       "05/2016     459\n",
       "06/2016     452\n",
       "05/2019     440\n",
       "06/2017     409\n",
       "05/2017     404\n",
       "07/2018     396\n",
       "04/2017     380\n",
       "01/2016     376\n",
       "02/2017     368\n",
       "01/2017     306\n",
       "08/2018     285\n",
       "06/2019     224\n",
       "07/2017     215\n",
       "11/2017     180\n",
       "07/2016     176\n",
       "10/2016     160\n",
       "10/2017     154\n",
       "09/2017     149\n",
       "11/2016     142\n",
       "09/2018     141\n",
       "09/2016     141\n",
       "12/2016     134\n",
       "12/2017     123\n",
       "08/2017     114\n",
       "11/2018     110\n",
       "12/2018     103\n",
       "10/2018      97\n",
       "08/2016      94\n",
       "07/2019       6\n",
       "09/2019       5\n",
       "08/2019       1\n",
       "11/2019       1\n",
       "12/2019       1\n",
       "Name: registration, dtype: int64"
      ]
     },
     "execution_count": 28,
     "metadata": {},
     "output_type": "execute_result"
    }
   ],
   "source": [
    "df.registration.value_counts()"
   ]
  },
  {
   "cell_type": "code",
   "execution_count": 29,
   "id": "aacb30b3",
   "metadata": {},
   "outputs": [
    {
     "data": {
      "text/plain": [
       "dtype('O')"
      ]
     },
     "execution_count": 29,
     "metadata": {},
     "output_type": "execute_result"
    }
   ],
   "source": [
    "df.registration.dtype"
   ]
  },
  {
   "cell_type": "code",
   "execution_count": 30,
   "id": "6b1eed62",
   "metadata": {},
   "outputs": [
    {
     "data": {
      "text/plain": [
       "1 previous owner     8294\n",
       "NaN                  6828\n",
       "2 previous owners     778\n",
       "3 previous owners      17\n",
       "4 previous owners       2\n",
       "Name: prev_owner, dtype: int64"
      ]
     },
     "execution_count": 30,
     "metadata": {},
     "output_type": "execute_result"
    }
   ],
   "source": [
    "df.prev_owner.value_counts(dropna = False)"
   ]
  },
  {
   "cell_type": "code",
   "execution_count": 31,
   "id": "cee9674a",
   "metadata": {},
   "outputs": [
    {
     "data": {
      "text/plain": [
       "1.0    8294\n",
       "NaN    6828\n",
       "2.0     778\n",
       "3.0      17\n",
       "4.0       2\n",
       "Name: prev_owner, dtype: int64"
      ]
     },
     "execution_count": 31,
     "metadata": {},
     "output_type": "execute_result"
    }
   ],
   "source": [
    "df.prev_owner= df.prev_owner.str.strip(' previous owners').astype(float)\n",
    "df.prev_owner.value_counts(dropna= False)"
   ]
  },
  {
   "cell_type": "code",
   "execution_count": 32,
   "id": "0d28fee4",
   "metadata": {},
   "outputs": [
    {
     "data": {
      "text/plain": [
       "NaN    15919\n",
       "Name: k_w, dtype: int64"
      ]
     },
     "execution_count": 32,
     "metadata": {},
     "output_type": "execute_result"
    }
   ],
   "source": [
    "df.k_w.value_counts(dropna= False) "
   ]
  },
  {
   "cell_type": "code",
   "execution_count": 33,
   "id": "a9669f6e",
   "metadata": {},
   "outputs": [
    {
     "data": {
      "text/plain": [
       "85 kW     2542\n",
       "66 kW     2122\n",
       "81 kW     1402\n",
       "100 kW    1308\n",
       "110 kW    1112\n",
       "          ... \n",
       "84 kW        1\n",
       "195 kW       1\n",
       "44 kW        1\n",
       "239 kW       1\n",
       "9 kW         1\n",
       "Name: hp, Length: 81, dtype: int64"
      ]
     },
     "execution_count": 33,
     "metadata": {},
     "output_type": "execute_result"
    }
   ],
   "source": [
    "df.hp.value_counts(dropna= False)"
   ]
  },
  {
   "cell_type": "code",
   "execution_count": 34,
   "id": "20a3c8f0",
   "metadata": {},
   "outputs": [
    {
     "data": {
      "text/plain": [
       "85     2542\n",
       "66     2122\n",
       "81     1402\n",
       "100    1308\n",
       "110    1112\n",
       "       ... \n",
       "84        1\n",
       "195       1\n",
       "44        1\n",
       "239       1\n",
       "9         1\n",
       "Name: hp, Length: 81, dtype: int64"
      ]
     },
     "execution_count": 34,
     "metadata": {},
     "output_type": "execute_result"
    }
   ],
   "source": [
    "df['hp'] = df.hp.str.strip(\" kW\")\n",
    "df['hp'].value_counts()"
   ]
  },
  {
   "cell_type": "code",
   "execution_count": 35,
   "id": "8748619d",
   "metadata": {},
   "outputs": [
    {
     "data": {
      "text/plain": [
       "13158     -\n",
       "15472     -\n",
       "15439     -\n",
       "11183     -\n",
       "15438     -\n",
       "         ..\n",
       "15318    96\n",
       "15330    96\n",
       "15384    98\n",
       "15382    98\n",
       "15376    98\n",
       "Name: hp, Length: 15919, dtype: object"
      ]
     },
     "execution_count": 35,
     "metadata": {},
     "output_type": "execute_result"
    }
   ],
   "source": [
    "df.hp.sort_values()"
   ]
  },
  {
   "cell_type": "code",
   "execution_count": 36,
   "id": "5346d7a6",
   "metadata": {},
   "outputs": [
    {
     "data": {
      "text/plain": [
       "9285     1.0\n",
       "10579    1.0\n",
       "10468    1.0\n",
       "9289     1.0\n",
       "9288     1.0\n",
       "        ... \n",
       "15641    NaN\n",
       "15647    NaN\n",
       "15684    NaN\n",
       "15791    NaN\n",
       "15906    NaN\n",
       "Name: hp, Length: 15919, dtype: float64"
      ]
     },
     "execution_count": 36,
     "metadata": {},
     "output_type": "execute_result"
    }
   ],
   "source": [
    "df.hp= df.hp.replace(\"-\", np.nan).astype(float)\n",
    "df.hp.sort_values()"
   ]
  },
  {
   "cell_type": "code",
   "execution_count": 37,
   "id": "4d15d628",
   "metadata": {},
   "outputs": [
    {
     "data": {
      "text/plain": [
       "88"
      ]
     },
     "execution_count": 37,
     "metadata": {},
     "output_type": "execute_result"
    }
   ],
   "source": [
    "df.hp.isna().sum()"
   ]
  },
  {
   "cell_type": "code",
   "execution_count": 38,
   "id": "430a0bfc",
   "metadata": {},
   "outputs": [
    {
     "data": {
      "text/plain": [
       "85.0     2542\n",
       "66.0     2122\n",
       "81.0     1402\n",
       "100.0    1308\n",
       "110.0    1112\n",
       "         ... \n",
       "137.0       1\n",
       "9.0         1\n",
       "44.0        1\n",
       "133.0       1\n",
       "239.0       1\n",
       "Name: hp, Length: 80, dtype: int64"
      ]
     },
     "execution_count": 38,
     "metadata": {},
     "output_type": "execute_result"
    }
   ],
   "source": [
    "df['hp'].value_counts()"
   ]
  },
  {
   "cell_type": "code",
   "execution_count": 39,
   "id": "b5e86d9c",
   "metadata": {},
   "outputs": [],
   "source": [
    "df.rename(columns= {'hp': 'hp_kw'}, inplace= True)"
   ]
  },
  {
   "cell_type": "code",
   "execution_count": 40,
   "id": "372e7ad7",
   "metadata": {},
   "outputs": [
    {
     "ename": "TypeError",
     "evalue": "unhashable type: 'list'",
     "output_type": "error",
     "traceback": [
      "\u001b[1;31m---------------------------------------------------------------------------\u001b[0m",
      "\u001b[1;31mTypeError\u001b[0m                                 Traceback (most recent call last)",
      "\u001b[1;32mpandas\\_libs\\hashtable_class_helper.pxi\u001b[0m in \u001b[0;36mpandas._libs.hashtable.PyObjectHashTable.map_locations\u001b[1;34m()\u001b[0m\n",
      "\u001b[1;31mTypeError\u001b[0m: unhashable type: 'list'"
     ]
    },
    {
     "name": "stderr",
     "output_type": "stream",
     "text": [
      "Exception ignored in: 'pandas._libs.index.IndexEngine._call_map_locations'\n",
      "Traceback (most recent call last):\n",
      "  File \"pandas\\_libs\\hashtable_class_helper.pxi\", line 5231, in pandas._libs.hashtable.PyObjectHashTable.map_locations\n",
      "TypeError: unhashable type: 'list'\n"
     ]
    },
    {
     "data": {
      "text/plain": [
       "[, Used, , Diesel (Particulate Filter)]                                                                                 3475\n",
       "[, Used, , Diesel]                                                                                                      2516\n",
       "[, Used, , Gasoline]                                                                                                    2367\n",
       "[, Used, , Super 95]                                                                                                    1818\n",
       "[, Pre-registered, , Super 95]                                                                                           500\n",
       "                                                                                                                        ... \n",
       "[, New, , Regular/Benzine 91 / Super 95 / Super Plus 98 / Regular/Benzine E10 91 / Super Plus E10 98 / Super E10 95]       1\n",
       "[, Used, , Super 95 / Super Plus 98 / Super E10 95 / Super Plus E10 98 (Particulate Filter)]                               1\n",
       "[, Demonstration, , Super Plus 98]                                                                                         1\n",
       "[, New, , Super Plus E10 98]                                                                                               1\n",
       "[, Demonstration, , Regular/Benzine E10 91]                                                                                1\n",
       "Name: type, Length: 170, dtype: int64"
      ]
     },
     "execution_count": 40,
     "metadata": {},
     "output_type": "execute_result"
    }
   ],
   "source": [
    "df.type.value_counts(dropna = False)"
   ]
  },
  {
   "cell_type": "code",
   "execution_count": 41,
   "id": "fdc48933",
   "metadata": {},
   "outputs": [
    {
     "data": {
      "text/plain": [
       "0                          Diesel (Particulate Filter)\n",
       "1                                             Gasoline\n",
       "2                          Diesel (Particulate Filter)\n",
       "3                          Diesel (Particulate Filter)\n",
       "4                          Diesel (Particulate Filter)\n",
       "                             ...                      \n",
       "15914                      Diesel (Particulate Filter)\n",
       "15915    Super 95 / Super Plus 98 (Particulate Filter)\n",
       "15916                                           Diesel\n",
       "15917                                           Diesel\n",
       "15918                                         Super 95\n",
       "Name: fuel_type, Length: 15919, dtype: object"
      ]
     },
     "execution_count": 41,
     "metadata": {},
     "output_type": "execute_result"
    }
   ],
   "source": [
    "df['fuel_type']= [item[-1] if type(item)== list else item for item in df.type]\n",
    "df['fuel_type']\n"
   ]
  },
  {
   "cell_type": "code",
   "execution_count": 42,
   "id": "c5f855c0",
   "metadata": {},
   "outputs": [
    {
     "data": {
      "text/plain": [
       "Diesel (Particulate Filter)                                                                                  4315\n",
       "Super 95                                                                                                     3338\n",
       "Gasoline                                                                                                     3175\n",
       "Diesel                                                                                                       2982\n",
       "Super 95 / Regular/Benzine 91                                                                                 424\n",
       "                                                                                                             ... \n",
       "Regular/Benzine 91 / Super 95 / Regular/Benzine E10 91                                                          1\n",
       "Super Plus 98 / Super E10 95                                                                                    1\n",
       "Super 95 / Regular/Benzine 91 / Super Plus 98 / Regular/Benzine E10 91 / Super Plus E10 98 / Super E10 95       1\n",
       "Regular/Benzine 91 / Super Plus 98 / Regular/Benzine E10 91 / Super 95 / Super E10 95 / Super Plus E10 98       1\n",
       "Super Plus 98 / Super 95 / Super Plus E10 98                                                                    1\n",
       "Name: fuel_type, Length: 78, dtype: int64"
      ]
     },
     "execution_count": 42,
     "metadata": {},
     "output_type": "execute_result"
    }
   ],
   "source": [
    "df['fuel_type'].value_counts(dropna= False)"
   ]
  },
  {
   "cell_type": "code",
   "execution_count": 43,
   "id": "1d305371",
   "metadata": {},
   "outputs": [
    {
     "data": {
      "text/plain": [
       "(15919, 55)"
      ]
     },
     "execution_count": 43,
     "metadata": {},
     "output_type": "execute_result"
    }
   ],
   "source": [
    "df.shape"
   ]
  },
  {
   "cell_type": "code",
   "execution_count": 44,
   "id": "dbaf5f22",
   "metadata": {},
   "outputs": [
    {
     "data": {
      "text/plain": [
       "Used              11096\n",
       "New                1650\n",
       "Pre-registered     1364\n",
       "Employee's car     1011\n",
       "Demonstration       796\n",
       "NaN                   2\n",
       "Name: type, dtype: int64"
      ]
     },
     "execution_count": 44,
     "metadata": {},
     "output_type": "execute_result"
    }
   ],
   "source": [
    "df.type=[item[1] if type(item)== list else item for item in df.type]\n",
    "df.type.value_counts(dropna = False)"
   ]
  },
  {
   "cell_type": "markdown",
   "id": "c53e0b0b",
   "metadata": {},
   "source": []
  },
  {
   "cell_type": "code",
   "execution_count": 45,
   "id": "d720e87d",
   "metadata": {},
   "outputs": [
    {
     "ename": "TypeError",
     "evalue": "unhashable type: 'list'",
     "output_type": "error",
     "traceback": [
      "\u001b[1;31m---------------------------------------------------------------------------\u001b[0m",
      "\u001b[1;31mTypeError\u001b[0m                                 Traceback (most recent call last)",
      "\u001b[1;32mpandas\\_libs\\hashtable_class_helper.pxi\u001b[0m in \u001b[0;36mpandas._libs.hashtable.PyObjectHashTable.map_locations\u001b[1;34m()\u001b[0m\n",
      "\u001b[1;31mTypeError\u001b[0m: unhashable type: 'list'"
     ]
    },
    {
     "name": "stderr",
     "output_type": "stream",
     "text": [
      "Exception ignored in: 'pandas._libs.index.IndexEngine._call_map_locations'\n",
      "Traceback (most recent call last):\n",
      "  File \"pandas\\_libs\\hashtable_class_helper.pxi\", line 5231, in pandas._libs.hashtable.PyObjectHashTable.map_locations\n",
      "TypeError: unhashable type: 'list'\n"
     ]
    },
    {
     "data": {
      "text/plain": [
       "\\n1\\n                                                                                        8101\n",
       "NaN                                                                                          6640\n",
       "\\n2\\n                                                                                         766\n",
       "\\n0\\n                                                                                         163\n",
       "\\n3\\n                                                                                          17\n",
       "                                                                                             ... \n",
       "[\\n1\\n, \\n111 g CO2/km (comb)\\n]                                                                1\n",
       "[\\n1\\n, \\nEuro 6\\n]                                                                             1\n",
       "[\\n2\\n, \\n119 g CO2/km (comb)\\n]                                                                1\n",
       "[\\n1\\n, \\n, 6.6 l/100 km (comb), \\n, 8.1 l/100 km (city), \\n, 5.7 l/100 km (country), \\n]       1\n",
       "[\\n2\\n, \\n137 g CO2/km (comb)\\n]                                                                1\n",
       "Name: previous_owners, Length: 103, dtype: int64"
      ]
     },
     "execution_count": 45,
     "metadata": {},
     "output_type": "execute_result"
    }
   ],
   "source": [
    "df['previous_owners'].value_counts(dropna = False)"
   ]
  },
  {
   "cell_type": "code",
   "execution_count": 46,
   "id": "af996eb3",
   "metadata": {},
   "outputs": [
    {
     "data": {
      "text/plain": [
       "0        \\n2\\n\n",
       "1          NaN\n",
       "2        \\n1\\n\n",
       "3        \\n1\\n\n",
       "4        \\n1\\n\n",
       "         ...  \n",
       "15914      NaN\n",
       "15915    \\n1\\n\n",
       "15916    \\n1\\n\n",
       "15917      NaN\n",
       "15918    \\n1\\n\n",
       "Name: previous_owners, Length: 15919, dtype: object"
      ]
     },
     "execution_count": 46,
     "metadata": {},
     "output_type": "execute_result"
    }
   ],
   "source": [
    "df['previous_owners']= [item[0] if type(item)== list else item for item in df['previous_owners']]\n",
    "df['previous_owners']"
   ]
  },
  {
   "cell_type": "code",
   "execution_count": 47,
   "id": "d1006763",
   "metadata": {},
   "outputs": [
    {
     "data": {
      "text/plain": [
       "0          2\n",
       "1        NaN\n",
       "2          1\n",
       "3          1\n",
       "4          1\n",
       "        ... \n",
       "15914    NaN\n",
       "15915      1\n",
       "15916      1\n",
       "15917    NaN\n",
       "15918      1\n",
       "Name: previous_owners, Length: 15919, dtype: object"
      ]
     },
     "execution_count": 47,
     "metadata": {},
     "output_type": "execute_result"
    }
   ],
   "source": [
    "df['previous_owners'].str.strip(\"\\n\")"
   ]
  },
  {
   "cell_type": "code",
   "execution_count": 48,
   "id": "aff5e0c6",
   "metadata": {},
   "outputs": [],
   "source": [
    "#df['previous_owners'].str.rstrip(\"\\n\").str.lstrrip(\"\\n\")"
   ]
  },
  {
   "cell_type": "code",
   "execution_count": 49,
   "id": "e5ddf853",
   "metadata": {},
   "outputs": [
    {
     "data": {
      "text/plain": [
       "0        2.0\n",
       "1        NaN\n",
       "2        1.0\n",
       "3        1.0\n",
       "4        1.0\n",
       "        ... \n",
       "15914    NaN\n",
       "15915    1.0\n",
       "15916    1.0\n",
       "15917    NaN\n",
       "15918    1.0\n",
       "Name: previous_owners, Length: 15919, dtype: float64"
      ]
     },
     "execution_count": 49,
     "metadata": {},
     "output_type": "execute_result"
    }
   ],
   "source": [
    "df['previous_owners']= df['previous_owners'].str.strip(\"\\n\").astype(float)\n",
    "df['previous_owners']"
   ]
  },
  {
   "cell_type": "code",
   "execution_count": 50,
   "id": "1d433060",
   "metadata": {},
   "outputs": [
    {
     "data": {
      "text/plain": [
       "1.0    8294\n",
       "NaN    6640\n",
       "2.0     778\n",
       "0.0     188\n",
       "3.0      17\n",
       "4.0       2\n",
       "Name: previous_owners, dtype: int64"
      ]
     },
     "execution_count": 50,
     "metadata": {},
     "output_type": "execute_result"
    }
   ],
   "source": [
    "df['previous_owners'].value_counts(dropna= False)"
   ]
  },
  {
   "cell_type": "code",
   "execution_count": 51,
   "id": "cabf92f1",
   "metadata": {},
   "outputs": [
    {
     "data": {
      "text/plain": [
       "1.0    8294\n",
       "NaN    6828\n",
       "2.0     778\n",
       "3.0      17\n",
       "4.0       2\n",
       "Name: prev_owner, dtype: int64"
      ]
     },
     "execution_count": 51,
     "metadata": {},
     "output_type": "execute_result"
    }
   ],
   "source": [
    "df.prev_owner.value_counts(dropna = False)"
   ]
  },
  {
   "cell_type": "code",
   "execution_count": 52,
   "id": "1f2b12dd",
   "metadata": {},
   "outputs": [
    {
     "ename": "TypeError",
     "evalue": "unhashable type: 'list'",
     "output_type": "error",
     "traceback": [
      "\u001b[1;31m---------------------------------------------------------------------------\u001b[0m",
      "\u001b[1;31mTypeError\u001b[0m                                 Traceback (most recent call last)",
      "\u001b[1;32mpandas\\_libs\\hashtable_class_helper.pxi\u001b[0m in \u001b[0;36mpandas._libs.hashtable.PyObjectHashTable.map_locations\u001b[1;34m()\u001b[0m\n",
      "\u001b[1;31mTypeError\u001b[0m: unhashable type: 'list'"
     ]
    },
    {
     "name": "stderr",
     "output_type": "stream",
     "text": [
      "Exception ignored in: 'pandas._libs.index.IndexEngine._call_map_locations'\n",
      "Traceback (most recent call last):\n",
      "  File \"pandas\\_libs\\hashtable_class_helper.pxi\", line 5231, in pandas._libs.hashtable.PyObjectHashTable.map_locations\n",
      "TypeError: unhashable type: 'list'\n"
     ]
    },
    {
     "data": {
      "text/plain": [
       "NaN                                                                                            11987\n",
       "[\\nYes\\n, \\nEuro 6\\n]                                                                            523\n",
       "\\nYes\\n                                                                                          362\n",
       "[\\nYes\\n, \\n102 g CO2/km (comb)\\n]                                                               174\n",
       "[\\nYes\\n, \\n4 (Green)\\n]                                                                         166\n",
       "                                                                                               ...  \n",
       "[\\nYes\\n, \\n, 6 l/100 km (comb), \\n, 8 l/100 km (city), \\n, 4.9 l/100 km (country), \\n]            1\n",
       "[\\nYes\\n, \\n, 6.8 l/100 km (comb), \\n, 8.5 l/100 km (city), \\n, 6.1 l/100 km (country), \\n]        1\n",
       "[\\nYes\\n, \\n, 4.1 l/100 km (comb), \\n, 7.5 l/100 km (city), \\n, 5.2 l/100 km (country), \\n]        1\n",
       "[\\nYes\\n, \\n, 5.2 l/100 km (comb), \\n, 6.8 l/100 km (city), \\n, 4.3 l/100 km (country), \\n]        1\n",
       "[\\nYes\\n, \\n172 g CO2/km (comb)\\n]                                                                 1\n",
       "Name: inspection_new, Length: 203, dtype: int64"
      ]
     },
     "execution_count": 52,
     "metadata": {},
     "output_type": "execute_result"
    }
   ],
   "source": [
    "df['inspection_new'].value_counts(dropna = False)"
   ]
  },
  {
   "cell_type": "code",
   "execution_count": 53,
   "id": "9e9c675b",
   "metadata": {},
   "outputs": [
    {
     "data": {
      "text/plain": [
       "0        \\nYes\\n\n",
       "1            NaN\n",
       "2            NaN\n",
       "3            NaN\n",
       "4        \\nYes\\n\n",
       "          ...   \n",
       "15914        NaN\n",
       "15915        NaN\n",
       "15916    \\nYes\\n\n",
       "15917        NaN\n",
       "15918    \\nYes\\n\n",
       "Name: inspection_new, Length: 15919, dtype: object"
      ]
     },
     "execution_count": 53,
     "metadata": {},
     "output_type": "execute_result"
    }
   ],
   "source": [
    "df['inspection_new']= [item[0] if type(item)== list else item for item in df['inspection_new']]\n",
    "df['inspection_new']"
   ]
  },
  {
   "cell_type": "code",
   "execution_count": 54,
   "id": "9c652565",
   "metadata": {},
   "outputs": [
    {
     "data": {
      "text/plain": [
       "0        Yes\n",
       "1        NaN\n",
       "2        NaN\n",
       "3        NaN\n",
       "4        Yes\n",
       "        ... \n",
       "15914    NaN\n",
       "15915    NaN\n",
       "15916    Yes\n",
       "15917    NaN\n",
       "15918    Yes\n",
       "Name: inspection_new, Length: 15919, dtype: object"
      ]
     },
     "execution_count": 54,
     "metadata": {},
     "output_type": "execute_result"
    }
   ],
   "source": [
    "df['inspection_new']=df['inspection_new'].str.strip(\"\\n\")\n",
    "df['inspection_new']"
   ]
  },
  {
   "cell_type": "code",
   "execution_count": 55,
   "id": "248ebc9a",
   "metadata": {},
   "outputs": [
    {
     "data": {
      "text/plain": [
       "NaN    11987\n",
       "Yes     3932\n",
       "Name: inspection_new, dtype: int64"
      ]
     },
     "execution_count": 55,
     "metadata": {},
     "output_type": "execute_result"
    }
   ],
   "source": [
    "df['inspection_new'].value_counts(dropna = False)"
   ]
  },
  {
   "cell_type": "code",
   "execution_count": 56,
   "id": "52aef924",
   "metadata": {},
   "outputs": [
    {
     "ename": "TypeError",
     "evalue": "unhashable type: 'list'",
     "output_type": "error",
     "traceback": [
      "\u001b[1;31m---------------------------------------------------------------------------\u001b[0m",
      "\u001b[1;31mTypeError\u001b[0m                                 Traceback (most recent call last)",
      "\u001b[1;32mpandas\\_libs\\hashtable_class_helper.pxi\u001b[0m in \u001b[0;36mpandas._libs.hashtable.PyObjectHashTable.map_locations\u001b[1;34m()\u001b[0m\n",
      "\u001b[1;31mTypeError\u001b[0m: unhashable type: 'list'"
     ]
    },
    {
     "name": "stderr",
     "output_type": "stream",
     "text": [
      "Exception ignored in: 'pandas._libs.index.IndexEngine._call_map_locations'\n",
      "Traceback (most recent call last):\n",
      "  File \"pandas\\_libs\\hashtable_class_helper.pxi\", line 5231, in pandas._libs.hashtable.PyObjectHashTable.map_locations\n",
      "TypeError: unhashable type: 'list'\n"
     ]
    },
    {
     "data": {
      "text/plain": [
       "NaN                                       12384\n",
       "\\n04/2022\\n                                  62\n",
       "\\n03/2021\\n                                  38\n",
       "\\n03/2022\\n                                  36\n",
       "\\n06/2021\\n                                  34\n",
       "                                          ...  \n",
       "[\\n12/2018\\n, \\n97 g CO2/km (comb)\\n]         1\n",
       "[\\n03/2022\\n, \\n1 (No sticker)\\n]             1\n",
       "[\\n05/2021\\n, \\n93 g CO2/km (comb)\\n]         1\n",
       "[\\n06/2021\\n, \\n93 g CO2/km (comb)\\n]         1\n",
       "[\\n01/2022\\n, \\n168 g CO2/km (comb)\\n]        1\n",
       "Name: next_inspection, Length: 1400, dtype: int64"
      ]
     },
     "execution_count": 56,
     "metadata": {},
     "output_type": "execute_result"
    }
   ],
   "source": [
    "df['next_inspection'].value_counts(dropna = False)"
   ]
  },
  {
   "cell_type": "code",
   "execution_count": 57,
   "id": "cb4b36de",
   "metadata": {},
   "outputs": [
    {
     "data": {
      "text/plain": [
       "0        \\n06/2021\\n\n",
       "1                NaN\n",
       "2                NaN\n",
       "3                NaN\n",
       "4                NaN\n",
       "            ...     \n",
       "15914            NaN\n",
       "15915    \\n01/2022\\n\n",
       "15916            NaN\n",
       "15917            NaN\n",
       "15918            NaN\n",
       "Name: next_inspection, Length: 15919, dtype: object"
      ]
     },
     "execution_count": 57,
     "metadata": {},
     "output_type": "execute_result"
    }
   ],
   "source": [
    "df['next_inspection']=[item[0] if type(item)== list else item for item in df['next_inspection']]\n",
    "df['next_inspection']"
   ]
  },
  {
   "cell_type": "code",
   "execution_count": 58,
   "id": "ac9304b1",
   "metadata": {},
   "outputs": [
    {
     "data": {
      "text/plain": [
       "0        06/2021\n",
       "1            NaN\n",
       "2            NaN\n",
       "3            NaN\n",
       "4            NaN\n",
       "          ...   \n",
       "15914        NaN\n",
       "15915    01/2022\n",
       "15916        NaN\n",
       "15917        NaN\n",
       "15918        NaN\n",
       "Name: next_inspection, Length: 15919, dtype: object"
      ]
     },
     "execution_count": 58,
     "metadata": {},
     "output_type": "execute_result"
    }
   ],
   "source": [
    "df['next_inspection']=df['next_inspection'].str.strip('\\n')\n",
    "df['next_inspection']"
   ]
  },
  {
   "cell_type": "code",
   "execution_count": 59,
   "id": "feb43fef",
   "metadata": {},
   "outputs": [
    {
     "data": {
      "text/plain": [
       "NaN        12384\n",
       "06/2021      471\n",
       "03/2021      210\n",
       "05/2021      180\n",
       "04/2021      171\n",
       "           ...  \n",
       "05/2014        1\n",
       "04/2016        1\n",
       "01/1955        1\n",
       "01/2018        1\n",
       "11/2022        1\n",
       "Name: next_inspection, Length: 78, dtype: int64"
      ]
     },
     "execution_count": 59,
     "metadata": {},
     "output_type": "execute_result"
    }
   ],
   "source": [
    "df['next_inspection'].value_counts(dropna= False)"
   ]
  },
  {
   "cell_type": "code",
   "execution_count": 60,
   "id": "fb3fb5e0",
   "metadata": {},
   "outputs": [
    {
     "ename": "TypeError",
     "evalue": "unhashable type: 'list'",
     "output_type": "error",
     "traceback": [
      "\u001b[1;31m---------------------------------------------------------------------------\u001b[0m",
      "\u001b[1;31mTypeError\u001b[0m                                 Traceback (most recent call last)",
      "\u001b[1;32mpandas\\_libs\\hashtable_class_helper.pxi\u001b[0m in \u001b[0;36mpandas._libs.hashtable.PyObjectHashTable.map_locations\u001b[1;34m()\u001b[0m\n",
      "\u001b[1;31mTypeError\u001b[0m: unhashable type: 'list'"
     ]
    },
    {
     "name": "stderr",
     "output_type": "stream",
     "text": [
      "Exception ignored in: 'pandas._libs.index.IndexEngine._call_map_locations'\n",
      "Traceback (most recent call last):\n",
      "  File \"pandas\\_libs\\hashtable_class_helper.pxi\", line 5231, in pandas._libs.hashtable.PyObjectHashTable.map_locations\n",
      "TypeError: unhashable type: 'list'\n"
     ]
    },
    {
     "data": {
      "text/plain": [
       "NaN                                                                                                5420\n",
       "[\\n, \\n, \\nEuro 6\\n]                                                                               1868\n",
       "\\n12 months\\n                                                                                      1177\n",
       "\\n                                                                                                  979\n",
       "\\n24 months\\n                                                                                       566\n",
       "                                                                                                   ... \n",
       "[\\n72 months\\n, \\n125 g CO2/km (comb)\\n]                                                              1\n",
       "[\\n60 months\\n, \\n14 g CO2/km (comb)\\n]                                                               1\n",
       "[\\n24 months\\n, \\n121 g CO2/km (comb)\\n]                                                              1\n",
       "[\\n12 months\\n, \\nEuro 6d\\n]                                                                          1\n",
       "[\\n36 months\\n, \\n, 7.4 l/100 km (comb), \\n, 9.6 l/100 km (city), \\n, 6 l/100 km (country), \\n]       1\n",
       "Name: warranty, Length: 516, dtype: int64"
      ]
     },
     "execution_count": 60,
     "metadata": {},
     "output_type": "execute_result"
    }
   ],
   "source": [
    "df.warranty.value_counts(dropna = False)"
   ]
  },
  {
   "cell_type": "code",
   "execution_count": 61,
   "id": "3bcb923b",
   "metadata": {},
   "outputs": [
    {
     "data": {
      "text/plain": [
       "0                   \\n\n",
       "1                  NaN\n",
       "2                   \\n\n",
       "3                  NaN\n",
       "4                   \\n\n",
       "             ...      \n",
       "15914    \\n24 months\\n\n",
       "15915               \\n\n",
       "15916               \\n\n",
       "15917               \\n\n",
       "15918              NaN\n",
       "Name: warranty, Length: 15919, dtype: object"
      ]
     },
     "execution_count": 61,
     "metadata": {},
     "output_type": "execute_result"
    }
   ],
   "source": [
    "df.warranty = [item[0] if type(item)== list else item for item in df.warranty ]\n",
    "df.warranty "
   ]
  },
  {
   "cell_type": "code",
   "execution_count": 62,
   "id": "b68d061c",
   "metadata": {},
   "outputs": [
    {
     "data": {
      "text/plain": [
       "\\n               5645\n",
       "NaN              5420\n",
       "\\n12 months\\n    2594\n",
       "\\n24 months\\n    1118\n",
       "\\n60 months\\n     401\n",
       "\\n36 months\\n     279\n",
       "\\n48 months\\n     149\n",
       "\\n6 months\\n      125\n",
       "\\n72 months\\n      59\n",
       "\\n3 months\\n       33\n",
       "\\n23 months\\n      11\n",
       "\\n18 months\\n      10\n",
       "\\n20 months\\n       7\n",
       "\\n25 months\\n       6\n",
       "\\n2 months\\n        5\n",
       "\\n50 months\\n       4\n",
       "\\n26 months\\n       4\n",
       "\\n16 months\\n       4\n",
       "\\n1 months\\n        3\n",
       "\\n19 months\\n       3\n",
       "\\n4 months\\n        3\n",
       "\\n34 months\\n       3\n",
       "\\n13 months\\n       3\n",
       "\\n17 months\\n       2\n",
       "\\n45 months\\n       2\n",
       "\\n9 months\\n        2\n",
       "\\n21 months\\n       2\n",
       "\\n14 months\\n       2\n",
       "\\n28 months\\n       2\n",
       "\\n11 months\\n       2\n",
       "\\n22 months\\n       2\n",
       "\\n46 months\\n       2\n",
       "\\n10 months\\n       1\n",
       "\\n8 months\\n        1\n",
       "\\n7 months\\n        1\n",
       "\\n15 months\\n       1\n",
       "                    1\n",
       "\\n56 months\\n       1\n",
       "\\n49 months\\n       1\n",
       "\\n65 months\\n       1\n",
       "\\n47 months\\n       1\n",
       "\\n33 months\\n       1\n",
       "\\n40 months\\n       1\n",
       "\\n30 months\\n       1\n",
       "Name: warranty, dtype: int64"
      ]
     },
     "execution_count": 62,
     "metadata": {},
     "output_type": "execute_result"
    }
   ],
   "source": [
    "df.warranty.value_counts(dropna = False)"
   ]
  },
  {
   "cell_type": "code",
   "execution_count": 63,
   "id": "2f077b09",
   "metadata": {},
   "outputs": [
    {
     "data": {
      "text/plain": [
       "             5646\n",
       "NaN          5420\n",
       "12 months    2594\n",
       "24 months    1118\n",
       "60 months     401\n",
       "36 months     279\n",
       "48 months     149\n",
       "6 months      125\n",
       "72 months      59\n",
       "3 months       33\n",
       "23 months      11\n",
       "18 months      10\n",
       "20 months       7\n",
       "25 months       6\n",
       "2 months        5\n",
       "16 months       4\n",
       "26 months       4\n",
       "50 months       4\n",
       "1 months        3\n",
       "19 months       3\n",
       "13 months       3\n",
       "4 months        3\n",
       "34 months       3\n",
       "21 months       2\n",
       "9 months        2\n",
       "14 months       2\n",
       "45 months       2\n",
       "17 months       2\n",
       "28 months       2\n",
       "11 months       2\n",
       "22 months       2\n",
       "46 months       2\n",
       "8 months        1\n",
       "7 months        1\n",
       "15 months       1\n",
       "10 months       1\n",
       "56 months       1\n",
       "49 months       1\n",
       "65 months       1\n",
       "47 months       1\n",
       "33 months       1\n",
       "40 months       1\n",
       "30 months       1\n",
       "Name: warranty, dtype: int64"
      ]
     },
     "execution_count": 63,
     "metadata": {},
     "output_type": "execute_result"
    }
   ],
   "source": [
    "df.warranty= df.warranty.str.strip(\"\\n\")\n",
    "df.warranty.value_counts(dropna = False)"
   ]
  },
  {
   "cell_type": "code",
   "execution_count": 64,
   "id": "17a6491c",
   "metadata": {},
   "outputs": [
    {
     "data": {
      "text/plain": [
       "NaN          11066\n",
       "12 months     2594\n",
       "24 months     1118\n",
       "60 months      401\n",
       "36 months      279\n",
       "48 months      149\n",
       "6 months       125\n",
       "72 months       59\n",
       "3 months        33\n",
       "23 months       11\n",
       "18 months       10\n",
       "20 months        7\n",
       "25 months        6\n",
       "2 months         5\n",
       "50 months        4\n",
       "26 months        4\n",
       "16 months        4\n",
       "4 months         3\n",
       "1 months         3\n",
       "19 months        3\n",
       "34 months        3\n",
       "13 months        3\n",
       "28 months        2\n",
       "22 months        2\n",
       "14 months        2\n",
       "11 months        2\n",
       "46 months        2\n",
       "21 months        2\n",
       "9 months         2\n",
       "17 months        2\n",
       "45 months        2\n",
       "33 months        1\n",
       "40 months        1\n",
       "65 months        1\n",
       "10 months        1\n",
       "15 months        1\n",
       "7 months         1\n",
       "8 months         1\n",
       "56 months        1\n",
       "49 months        1\n",
       "47 months        1\n",
       "30 months        1\n",
       "Name: warranty, dtype: int64"
      ]
     },
     "execution_count": 64,
     "metadata": {},
     "output_type": "execute_result"
    }
   ],
   "source": [
    "df.warranty=df.warranty.replace(\"\", np.nan)\n",
    "df.warranty.value_counts(dropna = False)"
   ]
  },
  {
   "cell_type": "code",
   "execution_count": 65,
   "id": "b116d4aa",
   "metadata": {},
   "outputs": [
    {
     "data": {
      "text/plain": [
       "NaN     11066\n",
       "12.0     2594\n",
       "24.0     1118\n",
       "60.0      401\n",
       "36.0      279\n",
       "48.0      149\n",
       "6.0       125\n",
       "72.0       59\n",
       "3.0        33\n",
       "23.0       11\n",
       "18.0       10\n",
       "20.0        7\n",
       "25.0        6\n",
       "2.0         5\n",
       "50.0        4\n",
       "26.0        4\n",
       "16.0        4\n",
       "4.0         3\n",
       "1.0         3\n",
       "19.0        3\n",
       "34.0        3\n",
       "13.0        3\n",
       "28.0        2\n",
       "22.0        2\n",
       "14.0        2\n",
       "11.0        2\n",
       "46.0        2\n",
       "21.0        2\n",
       "9.0         2\n",
       "17.0        2\n",
       "45.0        2\n",
       "33.0        1\n",
       "40.0        1\n",
       "65.0        1\n",
       "10.0        1\n",
       "15.0        1\n",
       "7.0         1\n",
       "8.0         1\n",
       "56.0        1\n",
       "49.0        1\n",
       "47.0        1\n",
       "30.0        1\n",
       "Name: warranty, dtype: int64"
      ]
     },
     "execution_count": 65,
     "metadata": {},
     "output_type": "execute_result"
    }
   ],
   "source": [
    "df.warranty=df.warranty.str.strip(' months').astype(float)\n",
    "df.warranty.value_counts(dropna= False)"
   ]
  },
  {
   "cell_type": "code",
   "execution_count": 66,
   "id": "a5b0d67b",
   "metadata": {},
   "outputs": [],
   "source": [
    "df.rename(columns={\"warranty\": \"warranty_in_months\"}, inplace= True)"
   ]
  },
  {
   "cell_type": "code",
   "execution_count": 67,
   "id": "7f82cb8b",
   "metadata": {},
   "outputs": [
    {
     "data": {
      "text/html": [
       "<div>\n",
       "<style scoped>\n",
       "    .dataframe tbody tr th:only-of-type {\n",
       "        vertical-align: middle;\n",
       "    }\n",
       "\n",
       "    .dataframe tbody tr th {\n",
       "        vertical-align: top;\n",
       "    }\n",
       "\n",
       "    .dataframe thead th {\n",
       "        text-align: right;\n",
       "    }\n",
       "</style>\n",
       "<table border=\"1\" class=\"dataframe\">\n",
       "  <thead>\n",
       "    <tr style=\"text-align: right;\">\n",
       "      <th></th>\n",
       "      <th>url</th>\n",
       "      <th>make_model</th>\n",
       "      <th>short_description</th>\n",
       "      <th>body_type</th>\n",
       "      <th>price</th>\n",
       "      <th>vat</th>\n",
       "      <th>km</th>\n",
       "      <th>registration</th>\n",
       "      <th>prev_owner</th>\n",
       "      <th>k_w</th>\n",
       "      <th>hp_kw</th>\n",
       "      <th>type</th>\n",
       "      <th>previous_owners</th>\n",
       "      <th>next_inspection</th>\n",
       "      <th>inspection_new</th>\n",
       "      <th>warranty_in_months</th>\n",
       "      <th>full_service</th>\n",
       "      <th>non_smoking_vehicle</th>\n",
       "      <th>null</th>\n",
       "      <th>make</th>\n",
       "      <th>model</th>\n",
       "      <th>offer_number</th>\n",
       "      <th>first_registration</th>\n",
       "      <th>body_color</th>\n",
       "      <th>paint_type</th>\n",
       "      <th>body_color_original</th>\n",
       "      <th>upholstery</th>\n",
       "      <th>body</th>\n",
       "      <th>nr_of_doors</th>\n",
       "      <th>nr_of_seats</th>\n",
       "      <th>model_code</th>\n",
       "      <th>gearing_type</th>\n",
       "      <th>displacement</th>\n",
       "      <th>cylinders</th>\n",
       "      <th>weight</th>\n",
       "      <th>drive_chain</th>\n",
       "      <th>fuel</th>\n",
       "      <th>consumption</th>\n",
       "      <th>co_2_emission</th>\n",
       "      <th>emission_class</th>\n",
       "      <th>comfort_&amp;_convenience</th>\n",
       "      <th>entertainment_&amp;_media</th>\n",
       "      <th>extras</th>\n",
       "      <th>safety_&amp;_security</th>\n",
       "      <th>description</th>\n",
       "      <th>emission_label</th>\n",
       "      <th>gears</th>\n",
       "      <th>country_version</th>\n",
       "      <th>electricity_consumption</th>\n",
       "      <th>last_service_date</th>\n",
       "      <th>other_fuel_types</th>\n",
       "      <th>availability</th>\n",
       "      <th>last_timing_belt_service_date</th>\n",
       "      <th>available_from</th>\n",
       "      <th>fuel_type</th>\n",
       "    </tr>\n",
       "  </thead>\n",
       "  <tbody>\n",
       "    <tr>\n",
       "      <th>0</th>\n",
       "      <td>https://www.autoscout24.com//offers/audi-a1-sp...</td>\n",
       "      <td>Audi A1</td>\n",
       "      <td>Sportback 1.4 TDI S-tronic Xenon Navi Klima</td>\n",
       "      <td>Sedans</td>\n",
       "      <td>15770</td>\n",
       "      <td>VAT deductible</td>\n",
       "      <td>56013.0</td>\n",
       "      <td>01/2016</td>\n",
       "      <td>2.0</td>\n",
       "      <td>NaN</td>\n",
       "      <td>66.0</td>\n",
       "      <td>Used</td>\n",
       "      <td>2.0</td>\n",
       "      <td>06/2021</td>\n",
       "      <td>Yes</td>\n",
       "      <td>NaN</td>\n",
       "      <td>[\\n, \\n]</td>\n",
       "      <td>[\\n, \\n]</td>\n",
       "      <td>[]</td>\n",
       "      <td>\\nAudi\\n</td>\n",
       "      <td>[\\n, A1, \\n]</td>\n",
       "      <td>[\\nLR-062483\\n]</td>\n",
       "      <td>[\\n, 2016, \\n]</td>\n",
       "      <td>[\\n, Black, \\n]</td>\n",
       "      <td>[\\nMetallic\\n]</td>\n",
       "      <td>[\\nMythosschwarz\\n]</td>\n",
       "      <td>[\\nCloth, Black\\n]</td>\n",
       "      <td>[\\n, Sedans, \\n]</td>\n",
       "      <td>[\\n5\\n]</td>\n",
       "      <td>[\\n5\\n]</td>\n",
       "      <td>[\\n0588/BDF\\n]</td>\n",
       "      <td>[\\n, Automatic, \\n]</td>\n",
       "      <td>[\\n1,422 cc\\n]</td>\n",
       "      <td>[\\n3\\n]</td>\n",
       "      <td>[\\n1,220 kg\\n]</td>\n",
       "      <td>[\\nfront\\n]</td>\n",
       "      <td>[\\n, Diesel (Particulate Filter), \\n]</td>\n",
       "      <td>[[3.8 l/100 km (comb)], [4.3 l/100 km (city)],...</td>\n",
       "      <td>[\\n99 g CO2/km (comb)\\n]</td>\n",
       "      <td>[\\nEuro 6\\n]</td>\n",
       "      <td>[Air conditioning, Armrest, Automatic climate ...</td>\n",
       "      <td>[Bluetooth, Hands-free equipment, On-board com...</td>\n",
       "      <td>[Alloy wheels, Catalytic Converter, Voice Cont...</td>\n",
       "      <td>[ABS, Central door lock, Daytime running light...</td>\n",
       "      <td>[\\n, Sicherheit:,  , Deaktivierung für Beifahr...</td>\n",
       "      <td>NaN</td>\n",
       "      <td>NaN</td>\n",
       "      <td>NaN</td>\n",
       "      <td>NaN</td>\n",
       "      <td>NaN</td>\n",
       "      <td>NaN</td>\n",
       "      <td>NaN</td>\n",
       "      <td>NaN</td>\n",
       "      <td>NaN</td>\n",
       "      <td>Diesel (Particulate Filter)</td>\n",
       "    </tr>\n",
       "  </tbody>\n",
       "</table>\n",
       "</div>"
      ],
      "text/plain": [
       "                                                 url make_model  \\\n",
       "0  https://www.autoscout24.com//offers/audi-a1-sp...    Audi A1   \n",
       "\n",
       "                             short_description body_type  price  \\\n",
       "0  Sportback 1.4 TDI S-tronic Xenon Navi Klima    Sedans  15770   \n",
       "\n",
       "              vat       km registration  prev_owner  k_w  hp_kw  type  \\\n",
       "0  VAT deductible  56013.0      01/2016         2.0  NaN   66.0  Used   \n",
       "\n",
       "   previous_owners next_inspection inspection_new  warranty_in_months  \\\n",
       "0              2.0         06/2021            Yes                 NaN   \n",
       "\n",
       "  full_service non_smoking_vehicle null      make         model  \\\n",
       "0     [\\n, \\n]            [\\n, \\n]   []  \\nAudi\\n  [\\n, A1, \\n]   \n",
       "\n",
       "      offer_number first_registration       body_color      paint_type  \\\n",
       "0  [\\nLR-062483\\n]     [\\n, 2016, \\n]  [\\n, Black, \\n]  [\\nMetallic\\n]   \n",
       "\n",
       "   body_color_original          upholstery              body nr_of_doors  \\\n",
       "0  [\\nMythosschwarz\\n]  [\\nCloth, Black\\n]  [\\n, Sedans, \\n]     [\\n5\\n]   \n",
       "\n",
       "  nr_of_seats      model_code         gearing_type    displacement cylinders  \\\n",
       "0     [\\n5\\n]  [\\n0588/BDF\\n]  [\\n, Automatic, \\n]  [\\n1,422 cc\\n]   [\\n3\\n]   \n",
       "\n",
       "           weight  drive_chain                                   fuel  \\\n",
       "0  [\\n1,220 kg\\n]  [\\nfront\\n]  [\\n, Diesel (Particulate Filter), \\n]   \n",
       "\n",
       "                                         consumption  \\\n",
       "0  [[3.8 l/100 km (comb)], [4.3 l/100 km (city)],...   \n",
       "\n",
       "              co_2_emission emission_class  \\\n",
       "0  [\\n99 g CO2/km (comb)\\n]   [\\nEuro 6\\n]   \n",
       "\n",
       "                               comfort_&_convenience  \\\n",
       "0  [Air conditioning, Armrest, Automatic climate ...   \n",
       "\n",
       "                               entertainment_&_media  \\\n",
       "0  [Bluetooth, Hands-free equipment, On-board com...   \n",
       "\n",
       "                                              extras  \\\n",
       "0  [Alloy wheels, Catalytic Converter, Voice Cont...   \n",
       "\n",
       "                                   safety_&_security  \\\n",
       "0  [ABS, Central door lock, Daytime running light...   \n",
       "\n",
       "                                         description emission_label gears  \\\n",
       "0  [\\n, Sicherheit:,  , Deaktivierung für Beifahr...            NaN   NaN   \n",
       "\n",
       "  country_version electricity_consumption last_service_date other_fuel_types  \\\n",
       "0             NaN                     NaN               NaN              NaN   \n",
       "\n",
       "  availability last_timing_belt_service_date available_from  \\\n",
       "0          NaN                           NaN            NaN   \n",
       "\n",
       "                     fuel_type  \n",
       "0  Diesel (Particulate Filter)  "
      ]
     },
     "execution_count": 67,
     "metadata": {},
     "output_type": "execute_result"
    }
   ],
   "source": [
    "df.head(1)"
   ]
  },
  {
   "cell_type": "code",
   "execution_count": 68,
   "id": "0058265d",
   "metadata": {},
   "outputs": [
    {
     "ename": "TypeError",
     "evalue": "unhashable type: 'list'",
     "output_type": "error",
     "traceback": [
      "\u001b[1;31m---------------------------------------------------------------------------\u001b[0m",
      "\u001b[1;31mTypeError\u001b[0m                                 Traceback (most recent call last)",
      "\u001b[1;32mpandas\\_libs\\hashtable_class_helper.pxi\u001b[0m in \u001b[0;36mpandas._libs.hashtable.PyObjectHashTable.map_locations\u001b[1;34m()\u001b[0m\n",
      "\u001b[1;31mTypeError\u001b[0m: unhashable type: 'list'"
     ]
    },
    {
     "name": "stderr",
     "output_type": "stream",
     "text": [
      "Exception ignored in: 'pandas._libs.index.IndexEngine._call_map_locations'\n",
      "Traceback (most recent call last):\n",
      "  File \"pandas\\_libs\\hashtable_class_helper.pxi\", line 5231, in pandas._libs.hashtable.PyObjectHashTable.map_locations\n",
      "TypeError: unhashable type: 'list'\n"
     ]
    },
    {
     "data": {
      "text/plain": [
       "NaN                                                                                           7704\n",
       "[\\n, \\n, \\n4 (Green)\\n]                                                                       2235\n",
       "[\\n, \\n, \\nEuro 6\\n]                                                                          2097\n",
       "[\\n, \\n]                                                                                      1702\n",
       "[\\n, \\n, \\nEuro 6d-TEMP\\n]                                                                     399\n",
       "                                                                                              ... \n",
       "[\\n, \\n, \\n80 g CO2/km (comb)\\n]                                                                 1\n",
       "[\\n, \\n, \\n84 g CO2/km (comb)\\n]                                                                 1\n",
       "[\\n, \\n, \\n, 6 l/100 km (comb), \\n, 8 l/100 km (city), \\n, 4.9 l/100 km (country), \\n]           1\n",
       "[\\n, \\n, \\n, 4.9 l/100 km (comb), \\n, 6.2 l/100 km (city), \\n, 4.1 l/100 km (country), \\n]       1\n",
       "[\\n, \\n, \\nEuro 4\\n]                                                                             1\n",
       "Name: full_service, Length: 123, dtype: int64"
      ]
     },
     "execution_count": 68,
     "metadata": {},
     "output_type": "execute_result"
    }
   ],
   "source": [
    "df['full_service'].value_counts(dropna = False)"
   ]
  },
  {
   "cell_type": "code",
   "execution_count": 69,
   "id": "a2e856ab",
   "metadata": {},
   "outputs": [
    {
     "data": {
      "text/plain": [
       "0                               \\n,\\n\n",
       "1                                 NaN\n",
       "2                                 NaN\n",
       "3        \\n,\\n,\\n99 g CO2/km (comb)\\n\n",
       "4                 \\n,\\n,\\n4 (Green)\\n\n",
       "                     ...             \n",
       "15914                             NaN\n",
       "15915                             NaN\n",
       "15916                           \\n,\\n\n",
       "15917                             NaN\n",
       "15918                             NaN\n",
       "Name: full_service, Length: 15919, dtype: object"
      ]
     },
     "execution_count": 69,
     "metadata": {},
     "output_type": "execute_result"
    }
   ],
   "source": [
    "df.full_service.apply(lambda item: \",\".join(item) if type(item) == list else item)"
   ]
  },
  {
   "cell_type": "code",
   "execution_count": 70,
   "id": "3c25e22f",
   "metadata": {},
   "outputs": [
    {
     "data": {
      "text/plain": [
       "0                          \n",
       "1                       NaN\n",
       "2                       NaN\n",
       "3        99 g CO2/km (comb)\n",
       "4                 4 (Green)\n",
       "                ...        \n",
       "15914                   NaN\n",
       "15915                   NaN\n",
       "15916                      \n",
       "15917                   NaN\n",
       "15918                   NaN\n",
       "Name: full_service, Length: 15919, dtype: object"
      ]
     },
     "execution_count": 70,
     "metadata": {},
     "output_type": "execute_result"
    }
   ],
   "source": [
    "df.full_service = df.full_service.apply(lambda item: \",\".join(item) if type(item) == list else item)\n",
    "df.full_service = df.full_service.str.replace(\"\\n\",'').str.lstrip(',')\n",
    "df.full_service"
   ]
  },
  {
   "cell_type": "code",
   "execution_count": 71,
   "id": "1b02e978",
   "metadata": {},
   "outputs": [
    {
     "data": {
      "text/plain": [
       "NaN                                                                  7704\n",
       "4 (Green)                                                            2235\n",
       "Euro 6                                                               2097\n",
       "                                                                     1985\n",
       "Euro 6d-TEMP                                                          399\n",
       "                                                                     ... \n",
       "6 l/100 km (comb),,8 l/100 km (city),,4.9 l/100 km (country),           1\n",
       "84 g CO2/km (comb)                                                      1\n",
       "87 g CO2/km (comb)                                                      1\n",
       "5.7 l/100 km (comb),,7.3 l/100 km (city),,4.9 l/100 km (country),       1\n",
       "Euro 4                                                                  1\n",
       "Name: full_service, Length: 122, dtype: int64"
      ]
     },
     "execution_count": 71,
     "metadata": {},
     "output_type": "execute_result"
    }
   ],
   "source": [
    "df['full_service'].value_counts(dropna = False)"
   ]
  },
  {
   "cell_type": "code",
   "execution_count": 72,
   "id": "12f22b54",
   "metadata": {},
   "outputs": [
    {
     "data": {
      "text/plain": [
       "''"
      ]
     },
     "execution_count": 72,
     "metadata": {},
     "output_type": "execute_result"
    }
   ],
   "source": [
    "df['full_service'][0]"
   ]
  },
  {
   "cell_type": "code",
   "execution_count": 73,
   "id": "7bd24ce8",
   "metadata": {},
   "outputs": [
    {
     "data": {
      "text/plain": [
       "str"
      ]
     },
     "execution_count": 73,
     "metadata": {},
     "output_type": "execute_result"
    }
   ],
   "source": [
    "type(df['full_service'][0])"
   ]
  },
  {
   "cell_type": "code",
   "execution_count": 74,
   "id": "a16cb007",
   "metadata": {},
   "outputs": [
    {
     "data": {
      "text/plain": [
       "0                       NaN\n",
       "1                       NaN\n",
       "2                       NaN\n",
       "3        99 g CO2/km (comb)\n",
       "4                 4 (Green)\n",
       "                ...        \n",
       "15914                   NaN\n",
       "15915                   NaN\n",
       "15916                   NaN\n",
       "15917                   NaN\n",
       "15918                   NaN\n",
       "Name: full_service, Length: 15919, dtype: object"
      ]
     },
     "execution_count": 74,
     "metadata": {},
     "output_type": "execute_result"
    }
   ],
   "source": [
    "df['full_service']= df['full_service'].replace('',  np.nan)\n",
    "df['full_service']"
   ]
  },
  {
   "cell_type": "code",
   "execution_count": 75,
   "id": "ebfd804a",
   "metadata": {},
   "outputs": [
    {
     "data": {
      "text/plain": [
       "NaN                                                                  9689\n",
       "4 (Green)                                                            2235\n",
       "Euro 6                                                               2097\n",
       "Euro 6d-TEMP                                                          399\n",
       "120 g CO2/km (comb)                                                   105\n",
       "                                                                     ... \n",
       "6 l/100 km (comb),,8 l/100 km (city),,4.9 l/100 km (country),           1\n",
       "84 g CO2/km (comb)                                                      1\n",
       "87 g CO2/km (comb)                                                      1\n",
       "5.7 l/100 km (comb),,7.3 l/100 km (city),,4.9 l/100 km (country),       1\n",
       "Euro 4                                                                  1\n",
       "Name: full_service, Length: 121, dtype: int64"
      ]
     },
     "execution_count": 75,
     "metadata": {},
     "output_type": "execute_result"
    }
   ],
   "source": [
    "df['full_service'].value_counts(dropna = False)"
   ]
  },
  {
   "cell_type": "code",
   "execution_count": 76,
   "id": "bf60f21c",
   "metadata": {},
   "outputs": [
    {
     "ename": "TypeError",
     "evalue": "unhashable type: 'list'",
     "output_type": "error",
     "traceback": [
      "\u001b[1;31m---------------------------------------------------------------------------\u001b[0m",
      "\u001b[1;31mTypeError\u001b[0m                                 Traceback (most recent call last)",
      "\u001b[1;32mpandas\\_libs\\hashtable_class_helper.pxi\u001b[0m in \u001b[0;36mpandas._libs.hashtable.PyObjectHashTable.map_locations\u001b[1;34m()\u001b[0m\n",
      "\u001b[1;31mTypeError\u001b[0m: unhashable type: 'list'"
     ]
    },
    {
     "name": "stderr",
     "output_type": "stream",
     "text": [
      "Exception ignored in: 'pandas._libs.index.IndexEngine._call_map_locations'\n",
      "Traceback (most recent call last):\n",
      "  File \"pandas\\_libs\\hashtable_class_helper.pxi\", line 5231, in pandas._libs.hashtable.PyObjectHashTable.map_locations\n",
      "TypeError: unhashable type: 'list'\n"
     ]
    },
    {
     "data": {
      "text/plain": [
       "NaN                                                                                           8742\n",
       "[\\n, \\n]                                                                                      3647\n",
       "[\\n, \\n, \\n4 (Green)\\n]                                                                       1240\n",
       "[\\n, \\n, \\nEuro 6\\n]                                                                          1127\n",
       "[\\n, \\n, \\nEuro 6d-TEMP\\n]                                                                     345\n",
       "                                                                                              ... \n",
       "[\\n, \\n, \\n, 5.6 l/100 km (comb), \\n, 7.3 l/100 km (city), \\n, 4.7 l/100 km (country), \\n]       1\n",
       "[\\n, \\n, \\n122 g CO2/km (comb)\\n]                                                                1\n",
       "[\\n, \\n, \\n158 g CO2/km (comb)\\n]                                                                1\n",
       "[\\n, \\n, \\n150 g CO2/km (comb)\\n]                                                                1\n",
       "[\\n, \\n, \\n175 g CO2/km (comb)\\n]                                                                1\n",
       "Name: non_smoking_vehicle, Length: 95, dtype: int64"
      ]
     },
     "execution_count": 76,
     "metadata": {},
     "output_type": "execute_result"
    }
   ],
   "source": [
    "df['non_smoking_vehicle'].value_counts(dropna = False)"
   ]
  },
  {
   "cell_type": "code",
   "execution_count": 77,
   "id": "ce4266c0",
   "metadata": {},
   "outputs": [],
   "source": [
    "## burda bos degerler arasinda fark olusmus neden olabilir ???????"
   ]
  },
  {
   "cell_type": "code",
   "execution_count": 78,
   "id": "1fc546a5",
   "metadata": {},
   "outputs": [
    {
     "data": {
      "text/plain": [
       "NaN                                                                  8742\n",
       "                                                                     3717\n",
       "4 (Green)                                                            1240\n",
       "Euro 6                                                               1127\n",
       "Euro 6d-TEMP                                                          345\n",
       "                                                                     ... \n",
       "6.2 l/100 km (comb),,7.9 l/100 km (city),,5.3 l/100 km (country),       1\n",
       "91 g CO2/km (comb)                                                      1\n",
       "101 g CO2/km (comb)                                                     1\n",
       "5.7 l/100 km (comb),,7.3 l/100 km (city),,4.7 l/100 km (country),       1\n",
       "175 g CO2/km (comb)                                                     1\n",
       "Name: non_smoking_vehicle, Length: 94, dtype: int64"
      ]
     },
     "execution_count": 78,
     "metadata": {},
     "output_type": "execute_result"
    }
   ],
   "source": [
    "df['non_smoking_vehicle']= df['non_smoking_vehicle'].apply(lambda item: \",\".join(item) if type(item) == list else item)\n",
    "df['non_smoking_vehicle']= df['non_smoking_vehicle'].str.replace(\"\\n\",'').str.lstrip(',')\n",
    "df['non_smoking_vehicle'].value_counts(dropna = False)"
   ]
  },
  {
   "cell_type": "code",
   "execution_count": 79,
   "id": "b408575f",
   "metadata": {},
   "outputs": [
    {
     "data": {
      "text/plain": [
       "NaN                                                                  12459\n",
       "4 (Green)                                                             1240\n",
       "Euro 6                                                                1127\n",
       "Euro 6d-TEMP                                                           345\n",
       "120 g CO2/km (comb)                                                     63\n",
       "                                                                     ...  \n",
       "6.2 l/100 km (comb),,7.9 l/100 km (city),,5.3 l/100 km (country),        1\n",
       "91 g CO2/km (comb)                                                       1\n",
       "101 g CO2/km (comb)                                                      1\n",
       "5.7 l/100 km (comb),,7.3 l/100 km (city),,4.7 l/100 km (country),        1\n",
       "175 g CO2/km (comb)                                                      1\n",
       "Name: non_smoking_vehicle, Length: 93, dtype: int64"
      ]
     },
     "execution_count": 79,
     "metadata": {},
     "output_type": "execute_result"
    }
   ],
   "source": [
    "df['non_smoking_vehicle']= df['non_smoking_vehicle'].replace('',  np.nan)\n",
    "df['non_smoking_vehicle'].value_counts(dropna = False)"
   ]
  },
  {
   "cell_type": "code",
   "execution_count": 80,
   "id": "3f691057",
   "metadata": {},
   "outputs": [
    {
     "ename": "TypeError",
     "evalue": "unhashable type: 'list'",
     "output_type": "error",
     "traceback": [
      "\u001b[1;31m---------------------------------------------------------------------------\u001b[0m",
      "\u001b[1;31mTypeError\u001b[0m                                 Traceback (most recent call last)",
      "\u001b[1;32mpandas\\_libs\\hashtable_class_helper.pxi\u001b[0m in \u001b[0;36mpandas._libs.hashtable.PyObjectHashTable.map_locations\u001b[1;34m()\u001b[0m\n",
      "\u001b[1;31mTypeError\u001b[0m: unhashable type: 'list'"
     ]
    },
    {
     "name": "stderr",
     "output_type": "stream",
     "text": [
      "Exception ignored in: 'pandas._libs.index.IndexEngine._call_map_locations'\n",
      "Traceback (most recent call last):\n",
      "  File \"pandas\\_libs\\hashtable_class_helper.pxi\", line 5231, in pandas._libs.hashtable.PyObjectHashTable.map_locations\n",
      "TypeError: unhashable type: 'list'\n"
     ]
    },
    {
     "data": {
      "text/plain": [
       "[]    15919\n",
       "Name: null, dtype: int64"
      ]
     },
     "execution_count": 80,
     "metadata": {},
     "output_type": "execute_result"
    }
   ],
   "source": [
    "df.null.value_counts(dropna = False)"
   ]
  },
  {
   "cell_type": "code",
   "execution_count": 81,
   "id": "96f4c2ec",
   "metadata": {},
   "outputs": [
    {
     "data": {
      "text/html": [
       "<div>\n",
       "<style scoped>\n",
       "    .dataframe tbody tr th:only-of-type {\n",
       "        vertical-align: middle;\n",
       "    }\n",
       "\n",
       "    .dataframe tbody tr th {\n",
       "        vertical-align: top;\n",
       "    }\n",
       "\n",
       "    .dataframe thead th {\n",
       "        text-align: right;\n",
       "    }\n",
       "</style>\n",
       "<table border=\"1\" class=\"dataframe\">\n",
       "  <thead>\n",
       "    <tr style=\"text-align: right;\">\n",
       "      <th></th>\n",
       "      <th>url</th>\n",
       "      <th>make_model</th>\n",
       "      <th>short_description</th>\n",
       "      <th>body_type</th>\n",
       "      <th>price</th>\n",
       "      <th>vat</th>\n",
       "      <th>km</th>\n",
       "      <th>registration</th>\n",
       "      <th>prev_owner</th>\n",
       "      <th>k_w</th>\n",
       "      <th>hp_kw</th>\n",
       "      <th>type</th>\n",
       "      <th>previous_owners</th>\n",
       "      <th>next_inspection</th>\n",
       "      <th>inspection_new</th>\n",
       "      <th>warranty_in_months</th>\n",
       "      <th>full_service</th>\n",
       "      <th>non_smoking_vehicle</th>\n",
       "      <th>null</th>\n",
       "      <th>make</th>\n",
       "      <th>model</th>\n",
       "      <th>offer_number</th>\n",
       "      <th>first_registration</th>\n",
       "      <th>body_color</th>\n",
       "      <th>paint_type</th>\n",
       "      <th>body_color_original</th>\n",
       "      <th>upholstery</th>\n",
       "      <th>body</th>\n",
       "      <th>nr_of_doors</th>\n",
       "      <th>nr_of_seats</th>\n",
       "      <th>model_code</th>\n",
       "      <th>gearing_type</th>\n",
       "      <th>displacement</th>\n",
       "      <th>cylinders</th>\n",
       "      <th>weight</th>\n",
       "      <th>drive_chain</th>\n",
       "      <th>fuel</th>\n",
       "      <th>consumption</th>\n",
       "      <th>co_2_emission</th>\n",
       "      <th>emission_class</th>\n",
       "      <th>comfort_&amp;_convenience</th>\n",
       "      <th>entertainment_&amp;_media</th>\n",
       "      <th>extras</th>\n",
       "      <th>safety_&amp;_security</th>\n",
       "      <th>description</th>\n",
       "      <th>emission_label</th>\n",
       "      <th>gears</th>\n",
       "      <th>country_version</th>\n",
       "      <th>electricity_consumption</th>\n",
       "      <th>last_service_date</th>\n",
       "      <th>other_fuel_types</th>\n",
       "      <th>availability</th>\n",
       "      <th>last_timing_belt_service_date</th>\n",
       "      <th>available_from</th>\n",
       "      <th>fuel_type</th>\n",
       "    </tr>\n",
       "  </thead>\n",
       "  <tbody>\n",
       "    <tr>\n",
       "      <th>0</th>\n",
       "      <td>https://www.autoscout24.com//offers/audi-a1-sp...</td>\n",
       "      <td>Audi A1</td>\n",
       "      <td>Sportback 1.4 TDI S-tronic Xenon Navi Klima</td>\n",
       "      <td>Sedans</td>\n",
       "      <td>15770</td>\n",
       "      <td>VAT deductible</td>\n",
       "      <td>56013.0</td>\n",
       "      <td>01/2016</td>\n",
       "      <td>2.0</td>\n",
       "      <td>NaN</td>\n",
       "      <td>66.0</td>\n",
       "      <td>Used</td>\n",
       "      <td>2.0</td>\n",
       "      <td>06/2021</td>\n",
       "      <td>Yes</td>\n",
       "      <td>NaN</td>\n",
       "      <td>NaN</td>\n",
       "      <td>NaN</td>\n",
       "      <td>[]</td>\n",
       "      <td>\\nAudi\\n</td>\n",
       "      <td>[\\n, A1, \\n]</td>\n",
       "      <td>[\\nLR-062483\\n]</td>\n",
       "      <td>[\\n, 2016, \\n]</td>\n",
       "      <td>[\\n, Black, \\n]</td>\n",
       "      <td>[\\nMetallic\\n]</td>\n",
       "      <td>[\\nMythosschwarz\\n]</td>\n",
       "      <td>[\\nCloth, Black\\n]</td>\n",
       "      <td>[\\n, Sedans, \\n]</td>\n",
       "      <td>[\\n5\\n]</td>\n",
       "      <td>[\\n5\\n]</td>\n",
       "      <td>[\\n0588/BDF\\n]</td>\n",
       "      <td>[\\n, Automatic, \\n]</td>\n",
       "      <td>[\\n1,422 cc\\n]</td>\n",
       "      <td>[\\n3\\n]</td>\n",
       "      <td>[\\n1,220 kg\\n]</td>\n",
       "      <td>[\\nfront\\n]</td>\n",
       "      <td>[\\n, Diesel (Particulate Filter), \\n]</td>\n",
       "      <td>[[3.8 l/100 km (comb)], [4.3 l/100 km (city)],...</td>\n",
       "      <td>[\\n99 g CO2/km (comb)\\n]</td>\n",
       "      <td>[\\nEuro 6\\n]</td>\n",
       "      <td>[Air conditioning, Armrest, Automatic climate ...</td>\n",
       "      <td>[Bluetooth, Hands-free equipment, On-board com...</td>\n",
       "      <td>[Alloy wheels, Catalytic Converter, Voice Cont...</td>\n",
       "      <td>[ABS, Central door lock, Daytime running light...</td>\n",
       "      <td>[\\n, Sicherheit:,  , Deaktivierung für Beifahr...</td>\n",
       "      <td>NaN</td>\n",
       "      <td>NaN</td>\n",
       "      <td>NaN</td>\n",
       "      <td>NaN</td>\n",
       "      <td>NaN</td>\n",
       "      <td>NaN</td>\n",
       "      <td>NaN</td>\n",
       "      <td>NaN</td>\n",
       "      <td>NaN</td>\n",
       "      <td>Diesel (Particulate Filter)</td>\n",
       "    </tr>\n",
       "  </tbody>\n",
       "</table>\n",
       "</div>"
      ],
      "text/plain": [
       "                                                 url make_model  \\\n",
       "0  https://www.autoscout24.com//offers/audi-a1-sp...    Audi A1   \n",
       "\n",
       "                             short_description body_type  price  \\\n",
       "0  Sportback 1.4 TDI S-tronic Xenon Navi Klima    Sedans  15770   \n",
       "\n",
       "              vat       km registration  prev_owner  k_w  hp_kw  type  \\\n",
       "0  VAT deductible  56013.0      01/2016         2.0  NaN   66.0  Used   \n",
       "\n",
       "   previous_owners next_inspection inspection_new  warranty_in_months  \\\n",
       "0              2.0         06/2021            Yes                 NaN   \n",
       "\n",
       "  full_service non_smoking_vehicle null      make         model  \\\n",
       "0          NaN                 NaN   []  \\nAudi\\n  [\\n, A1, \\n]   \n",
       "\n",
       "      offer_number first_registration       body_color      paint_type  \\\n",
       "0  [\\nLR-062483\\n]     [\\n, 2016, \\n]  [\\n, Black, \\n]  [\\nMetallic\\n]   \n",
       "\n",
       "   body_color_original          upholstery              body nr_of_doors  \\\n",
       "0  [\\nMythosschwarz\\n]  [\\nCloth, Black\\n]  [\\n, Sedans, \\n]     [\\n5\\n]   \n",
       "\n",
       "  nr_of_seats      model_code         gearing_type    displacement cylinders  \\\n",
       "0     [\\n5\\n]  [\\n0588/BDF\\n]  [\\n, Automatic, \\n]  [\\n1,422 cc\\n]   [\\n3\\n]   \n",
       "\n",
       "           weight  drive_chain                                   fuel  \\\n",
       "0  [\\n1,220 kg\\n]  [\\nfront\\n]  [\\n, Diesel (Particulate Filter), \\n]   \n",
       "\n",
       "                                         consumption  \\\n",
       "0  [[3.8 l/100 km (comb)], [4.3 l/100 km (city)],...   \n",
       "\n",
       "              co_2_emission emission_class  \\\n",
       "0  [\\n99 g CO2/km (comb)\\n]   [\\nEuro 6\\n]   \n",
       "\n",
       "                               comfort_&_convenience  \\\n",
       "0  [Air conditioning, Armrest, Automatic climate ...   \n",
       "\n",
       "                               entertainment_&_media  \\\n",
       "0  [Bluetooth, Hands-free equipment, On-board com...   \n",
       "\n",
       "                                              extras  \\\n",
       "0  [Alloy wheels, Catalytic Converter, Voice Cont...   \n",
       "\n",
       "                                   safety_&_security  \\\n",
       "0  [ABS, Central door lock, Daytime running light...   \n",
       "\n",
       "                                         description emission_label gears  \\\n",
       "0  [\\n, Sicherheit:,  , Deaktivierung für Beifahr...            NaN   NaN   \n",
       "\n",
       "  country_version electricity_consumption last_service_date other_fuel_types  \\\n",
       "0             NaN                     NaN               NaN              NaN   \n",
       "\n",
       "  availability last_timing_belt_service_date available_from  \\\n",
       "0          NaN                           NaN            NaN   \n",
       "\n",
       "                     fuel_type  \n",
       "0  Diesel (Particulate Filter)  "
      ]
     },
     "execution_count": 81,
     "metadata": {},
     "output_type": "execute_result"
    }
   ],
   "source": [
    "df.head(1)"
   ]
  },
  {
   "cell_type": "code",
   "execution_count": 82,
   "id": "716f0c6c",
   "metadata": {},
   "outputs": [
    {
     "data": {
      "text/plain": [
       "\\nOpel\\n       7343\n",
       "\\nAudi\\n       5712\n",
       "\\nRenault\\n    2864\n",
       "Name: make, dtype: int64"
      ]
     },
     "execution_count": 82,
     "metadata": {},
     "output_type": "execute_result"
    }
   ],
   "source": [
    "df.make.value_counts(dropna = False)"
   ]
  },
  {
   "cell_type": "code",
   "execution_count": 83,
   "id": "d00b72ee",
   "metadata": {},
   "outputs": [
    {
     "data": {
      "text/plain": [
       "Opel       7343\n",
       "Audi       5712\n",
       "Renault    2864\n",
       "Name: make, dtype: int64"
      ]
     },
     "execution_count": 83,
     "metadata": {},
     "output_type": "execute_result"
    }
   ],
   "source": [
    "df.make= df.make.str.strip('\\n')\n",
    "df.make.value_counts(dropna = False)"
   ]
  },
  {
   "cell_type": "code",
   "execution_count": 84,
   "id": "9dbed78c",
   "metadata": {},
   "outputs": [
    {
     "ename": "TypeError",
     "evalue": "unhashable type: 'list'",
     "output_type": "error",
     "traceback": [
      "\u001b[1;31m---------------------------------------------------------------------------\u001b[0m",
      "\u001b[1;31mTypeError\u001b[0m                                 Traceback (most recent call last)",
      "\u001b[1;32mpandas\\_libs\\hashtable_class_helper.pxi\u001b[0m in \u001b[0;36mpandas._libs.hashtable.PyObjectHashTable.map_locations\u001b[1;34m()\u001b[0m\n",
      "\u001b[1;31mTypeError\u001b[0m: unhashable type: 'list'"
     ]
    },
    {
     "name": "stderr",
     "output_type": "stream",
     "text": [
      "Exception ignored in: 'pandas._libs.index.IndexEngine._call_map_locations'\n",
      "Traceback (most recent call last):\n",
      "  File \"pandas\\_libs\\hashtable_class_helper.pxi\", line 5231, in pandas._libs.hashtable.PyObjectHashTable.map_locations\n",
      "TypeError: unhashable type: 'list'\n"
     ]
    },
    {
     "data": {
      "text/plain": [
       "[\\n, A3, \\n]          3097\n",
       "[\\n, A1, \\n]          2614\n",
       "[\\n, Insignia, \\n]    2598\n",
       "[\\n, Astra, \\n]       2526\n",
       "[\\n, Corsa, \\n]       2219\n",
       "[\\n, Clio, \\n]        1839\n",
       "[\\n, Espace, \\n]       991\n",
       "[\\n, Duster, \\n]        34\n",
       "[\\n, A2, \\n]             1\n",
       "Name: model, dtype: int64"
      ]
     },
     "execution_count": 84,
     "metadata": {},
     "output_type": "execute_result"
    }
   ],
   "source": [
    "df.model.value_counts(dropna = False)"
   ]
  },
  {
   "cell_type": "code",
   "execution_count": 85,
   "id": "edd522ba",
   "metadata": {},
   "outputs": [
    {
     "data": {
      "text/plain": [
       "0            A1\n",
       "1            A1\n",
       "2            A1\n",
       "3            A1\n",
       "4            A1\n",
       "          ...  \n",
       "15914    Espace\n",
       "15915    Espace\n",
       "15916    Espace\n",
       "15917    Espace\n",
       "15918    Espace\n",
       "Name: model, Length: 15919, dtype: object"
      ]
     },
     "execution_count": 85,
     "metadata": {},
     "output_type": "execute_result"
    }
   ],
   "source": [
    "df.model= [item[1] if type(item)== list else item for item in df.model]\n",
    "df.model"
   ]
  },
  {
   "cell_type": "code",
   "execution_count": 86,
   "id": "4a54e5ab",
   "metadata": {},
   "outputs": [
    {
     "data": {
      "text/plain": [
       "A3          3097\n",
       "A1          2614\n",
       "Insignia    2598\n",
       "Astra       2526\n",
       "Corsa       2219\n",
       "Clio        1839\n",
       "Espace       991\n",
       "Duster        34\n",
       "A2             1\n",
       "Name: model, dtype: int64"
      ]
     },
     "execution_count": 86,
     "metadata": {},
     "output_type": "execute_result"
    }
   ],
   "source": [
    "df.model.value_counts(dropna = False)"
   ]
  },
  {
   "cell_type": "code",
   "execution_count": 87,
   "id": "c2d60a36",
   "metadata": {},
   "outputs": [
    {
     "ename": "TypeError",
     "evalue": "unhashable type: 'list'",
     "output_type": "error",
     "traceback": [
      "\u001b[1;31m---------------------------------------------------------------------------\u001b[0m",
      "\u001b[1;31mTypeError\u001b[0m                                 Traceback (most recent call last)",
      "\u001b[1;32mpandas\\_libs\\hashtable_class_helper.pxi\u001b[0m in \u001b[0;36mpandas._libs.hashtable.PyObjectHashTable.map_locations\u001b[1;34m()\u001b[0m\n",
      "\u001b[1;31mTypeError\u001b[0m: unhashable type: 'list'"
     ]
    },
    {
     "name": "stderr",
     "output_type": "stream",
     "text": [
      "Exception ignored in: 'pandas._libs.index.IndexEngine._call_map_locations'\n",
      "Traceback (most recent call last):\n",
      "  File \"pandas\\_libs\\hashtable_class_helper.pxi\", line 5231, in pandas._libs.hashtable.PyObjectHashTable.map_locations\n",
      "TypeError: unhashable type: 'list'\n"
     ]
    },
    {
     "data": {
      "text/plain": [
       "NaN                                               3175\n",
       "[\\nLT67679\\n]                                       27\n",
       "[\\nUN89904\\n]                                       27\n",
       "[\\nXJ38068\\n]                                       27\n",
       "[\\nJV03654\\n]                                       27\n",
       "                                                  ... \n",
       "[\\n160_dcbb6c3e-a6da-43a3-8754-ccd994cec93b\\n]       1\n",
       "[\\n6701576\\n]                                        1\n",
       "[\\n6701569\\n]                                        1\n",
       "[\\n158121\\n]                                         1\n",
       "[\\nRe_30000008029\\n]                                 1\n",
       "Name: offer_number, Length: 11441, dtype: int64"
      ]
     },
     "execution_count": 87,
     "metadata": {},
     "output_type": "execute_result"
    }
   ],
   "source": [
    "df['offer_number'].value_counts(dropna = False)"
   ]
  },
  {
   "cell_type": "code",
   "execution_count": 88,
   "id": "a825fd7c",
   "metadata": {},
   "outputs": [
    {
     "data": {
      "text/plain": [
       "NaN                                             3175\n",
       "\\nLT67679\\n                                       27\n",
       "\\nUN89904\\n                                       27\n",
       "\\nXJ38068\\n                                       27\n",
       "\\nJV03654\\n                                       27\n",
       "                                                ... \n",
       "\\n160_dcbb6c3e-a6da-43a3-8754-ccd994cec93b\\n       1\n",
       "\\n6701576\\n                                        1\n",
       "\\n6701569\\n                                        1\n",
       "\\n158121\\n                                         1\n",
       "\\nRe_30000008029\\n                                 1\n",
       "Name: offer_number, Length: 11441, dtype: int64"
      ]
     },
     "execution_count": 88,
     "metadata": {},
     "output_type": "execute_result"
    }
   ],
   "source": [
    "df['offer_number']= [item[0] if type(item)== list else item for item in df['offer_number']]\n",
    "df['offer_number'].value_counts(dropna = False)"
   ]
  },
  {
   "cell_type": "code",
   "execution_count": 89,
   "id": "843bc5f2",
   "metadata": {},
   "outputs": [
    {
     "data": {
      "text/plain": [
       "NaN                                         3175\n",
       "LT67679                                       27\n",
       "UN89904                                       27\n",
       "XJ38068                                       27\n",
       "JV03654                                       27\n",
       "                                            ... \n",
       "160_dcbb6c3e-a6da-43a3-8754-ccd994cec93b       1\n",
       "6701576                                        1\n",
       "6701569                                        1\n",
       "158121                                         1\n",
       "Re_30000008029                                 1\n",
       "Name: offer_number, Length: 11441, dtype: int64"
      ]
     },
     "execution_count": 89,
     "metadata": {},
     "output_type": "execute_result"
    }
   ],
   "source": [
    "df['offer_number']= df['offer_number'].str.strip(\"\\n\")\n",
    "df['offer_number'].value_counts(dropna = False)"
   ]
  },
  {
   "cell_type": "code",
   "execution_count": 90,
   "id": "740f7f51",
   "metadata": {},
   "outputs": [
    {
     "ename": "TypeError",
     "evalue": "unhashable type: 'list'",
     "output_type": "error",
     "traceback": [
      "\u001b[1;31m---------------------------------------------------------------------------\u001b[0m",
      "\u001b[1;31mTypeError\u001b[0m                                 Traceback (most recent call last)",
      "\u001b[1;32mpandas\\_libs\\hashtable_class_helper.pxi\u001b[0m in \u001b[0;36mpandas._libs.hashtable.PyObjectHashTable.map_locations\u001b[1;34m()\u001b[0m\n",
      "\u001b[1;31mTypeError\u001b[0m: unhashable type: 'list'"
     ]
    },
    {
     "name": "stderr",
     "output_type": "stream",
     "text": [
      "Exception ignored in: 'pandas._libs.index.IndexEngine._call_map_locations'\n",
      "Traceback (most recent call last):\n",
      "  File \"pandas\\_libs\\hashtable_class_helper.pxi\", line 5231, in pandas._libs.hashtable.PyObjectHashTable.map_locations\n",
      "TypeError: unhashable type: 'list'\n"
     ]
    },
    {
     "data": {
      "text/plain": [
       "[\\n, 2018, \\n]    4522\n",
       "[\\n, 2016, \\n]    3674\n",
       "[\\n, 2017, \\n]    3273\n",
       "[\\n, 2019, \\n]    2853\n",
       "Name: first_registration, dtype: int64"
      ]
     },
     "execution_count": 90,
     "metadata": {},
     "output_type": "execute_result"
    }
   ],
   "source": [
    "df['first_registration'].value_counts()"
   ]
  },
  {
   "cell_type": "code",
   "execution_count": 91,
   "id": "36c2d878",
   "metadata": {},
   "outputs": [
    {
     "data": {
      "text/plain": [
       "2018    4522\n",
       "2016    3674\n",
       "2017    3273\n",
       "2019    2853\n",
       "Name: first_registration, dtype: int64"
      ]
     },
     "execution_count": 91,
     "metadata": {},
     "output_type": "execute_result"
    }
   ],
   "source": [
    "df['first_registration']= [item[1] if type(item)== list else item for item in df['first_registration']]\n",
    "\n",
    "df['first_registration'].value_counts()"
   ]
  },
  {
   "cell_type": "code",
   "execution_count": 92,
   "id": "a2b96e15",
   "metadata": {},
   "outputs": [
    {
     "data": {
      "text/plain": [
       "2018    4522\n",
       "2016    3674\n",
       "2017    3273\n",
       "2019    2853\n",
       "NaN     1597\n",
       "Name: first_registration, dtype: int64"
      ]
     },
     "execution_count": 92,
     "metadata": {},
     "output_type": "execute_result"
    }
   ],
   "source": [
    "df['first_registration'].value_counts(dropna= False)"
   ]
  },
  {
   "cell_type": "code",
   "execution_count": 93,
   "id": "0c89ed30",
   "metadata": {},
   "outputs": [
    {
     "data": {
      "text/plain": [
       "-/-        1597\n",
       "03/2018     695\n",
       "02/2019     585\n",
       "05/2018     572\n",
       "03/2019     543\n",
       "01/2019     541\n",
       "04/2018     541\n",
       "02/2018     539\n",
       "03/2016     536\n",
       "04/2016     532\n",
       "06/2018     532\n",
       "01/2018     511\n",
       "04/2019     506\n",
       "02/2016     472\n",
       "03/2017     471\n",
       "05/2016     459\n",
       "06/2016     452\n",
       "05/2019     440\n",
       "06/2017     409\n",
       "05/2017     404\n",
       "07/2018     396\n",
       "04/2017     380\n",
       "01/2016     376\n",
       "02/2017     368\n",
       "01/2017     306\n",
       "08/2018     285\n",
       "06/2019     224\n",
       "07/2017     215\n",
       "11/2017     180\n",
       "07/2016     176\n",
       "10/2016     160\n",
       "10/2017     154\n",
       "09/2017     149\n",
       "11/2016     142\n",
       "09/2018     141\n",
       "09/2016     141\n",
       "12/2016     134\n",
       "12/2017     123\n",
       "08/2017     114\n",
       "11/2018     110\n",
       "12/2018     103\n",
       "10/2018      97\n",
       "08/2016      94\n",
       "07/2019       6\n",
       "09/2019       5\n",
       "08/2019       1\n",
       "11/2019       1\n",
       "12/2019       1\n",
       "Name: registration, dtype: int64"
      ]
     },
     "execution_count": 93,
     "metadata": {},
     "output_type": "execute_result"
    }
   ],
   "source": [
    "df.registration.value_counts()"
   ]
  },
  {
   "cell_type": "code",
   "execution_count": 94,
   "id": "fc87261a",
   "metadata": {},
   "outputs": [],
   "source": [
    "df['reg']=df.registration.str.split('/', n=1, expand= True)[1]"
   ]
  },
  {
   "cell_type": "code",
   "execution_count": 95,
   "id": "2cd46ced",
   "metadata": {},
   "outputs": [],
   "source": [
    "df.reg= df.reg.replace('-', np.nan).astype(float)"
   ]
  },
  {
   "cell_type": "code",
   "execution_count": 96,
   "id": "61d4aa6d",
   "metadata": {},
   "outputs": [
    {
     "data": {
      "text/plain": [
       "2018.0    4522\n",
       "2016.0    3674\n",
       "2017.0    3273\n",
       "2019.0    2853\n",
       "NaN       1597\n",
       "Name: reg, dtype: int64"
      ]
     },
     "execution_count": 96,
     "metadata": {},
     "output_type": "execute_result"
    }
   ],
   "source": [
    "df.reg.value_counts(dropna= False)"
   ]
  },
  {
   "cell_type": "code",
   "execution_count": 97,
   "id": "80a52588",
   "metadata": {},
   "outputs": [],
   "source": [
    "df.drop('reg', axis= 1, inplace= True)"
   ]
  },
  {
   "cell_type": "code",
   "execution_count": 98,
   "id": "86752a2b",
   "metadata": {},
   "outputs": [
    {
     "ename": "TypeError",
     "evalue": "unhashable type: 'list'",
     "output_type": "error",
     "traceback": [
      "\u001b[1;31m---------------------------------------------------------------------------\u001b[0m",
      "\u001b[1;31mTypeError\u001b[0m                                 Traceback (most recent call last)",
      "\u001b[1;32mpandas\\_libs\\hashtable_class_helper.pxi\u001b[0m in \u001b[0;36mpandas._libs.hashtable.PyObjectHashTable.map_locations\u001b[1;34m()\u001b[0m\n",
      "\u001b[1;31mTypeError\u001b[0m: unhashable type: 'list'"
     ]
    },
    {
     "name": "stderr",
     "output_type": "stream",
     "text": [
      "Exception ignored in: 'pandas._libs.index.IndexEngine._call_map_locations'\n",
      "Traceback (most recent call last):\n",
      "  File \"pandas\\_libs\\hashtable_class_helper.pxi\", line 5231, in pandas._libs.hashtable.PyObjectHashTable.map_locations\n",
      "TypeError: unhashable type: 'list'\n"
     ]
    },
    {
     "data": {
      "text/plain": [
       "[\\nMetallic\\n]       9794\n",
       "NaN                  5772\n",
       "[\\nUni/basic\\n]       347\n",
       "[\\nPerl effect\\n]       6\n",
       "Name: paint_type, dtype: int64"
      ]
     },
     "execution_count": 98,
     "metadata": {},
     "output_type": "execute_result"
    }
   ],
   "source": [
    "df['paint_type'].value_counts(dropna = False)"
   ]
  },
  {
   "cell_type": "code",
   "execution_count": 99,
   "id": "2375ddf1",
   "metadata": {},
   "outputs": [
    {
     "data": {
      "text/plain": [
       "\\nMetallic\\n       9794\n",
       "NaN                5772\n",
       "\\nUni/basic\\n       347\n",
       "\\nPerl effect\\n       6\n",
       "Name: paint_type, dtype: int64"
      ]
     },
     "execution_count": 99,
     "metadata": {},
     "output_type": "execute_result"
    }
   ],
   "source": [
    "df['paint_type']= [item[0] if type(item)== list else item for item in df['paint_type']]\n",
    "df['paint_type'].value_counts(dropna = False)"
   ]
  },
  {
   "cell_type": "code",
   "execution_count": 100,
   "id": "6af744b8",
   "metadata": {},
   "outputs": [
    {
     "data": {
      "text/plain": [
       "Metallic       9794\n",
       "NaN            5772\n",
       "Uni/basic       347\n",
       "Perl effect       6\n",
       "Name: paint_type, dtype: int64"
      ]
     },
     "execution_count": 100,
     "metadata": {},
     "output_type": "execute_result"
    }
   ],
   "source": [
    "df['paint_type']= df['paint_type'].str.strip(\"\\n\")\n",
    "df['paint_type'].value_counts(dropna = False)"
   ]
  },
  {
   "cell_type": "code",
   "execution_count": 101,
   "id": "c3bafc51",
   "metadata": {},
   "outputs": [
    {
     "ename": "TypeError",
     "evalue": "unhashable type: 'list'",
     "output_type": "error",
     "traceback": [
      "\u001b[1;31m---------------------------------------------------------------------------\u001b[0m",
      "\u001b[1;31mTypeError\u001b[0m                                 Traceback (most recent call last)",
      "\u001b[1;32mpandas\\_libs\\hashtable_class_helper.pxi\u001b[0m in \u001b[0;36mpandas._libs.hashtable.PyObjectHashTable.map_locations\u001b[1;34m()\u001b[0m\n",
      "\u001b[1;31mTypeError\u001b[0m: unhashable type: 'list'"
     ]
    },
    {
     "name": "stderr",
     "output_type": "stream",
     "text": [
      "Exception ignored in: 'pandas._libs.index.IndexEngine._call_map_locations'\n",
      "Traceback (most recent call last):\n",
      "  File \"pandas\\_libs\\hashtable_class_helper.pxi\", line 5231, in pandas._libs.hashtable.PyObjectHashTable.map_locations\n",
      "TypeError: unhashable type: 'list'\n"
     ]
    },
    {
     "data": {
      "text/plain": [
       "[\\n, Black, \\n]     3745\n",
       "[\\n, Grey, \\n]      3505\n",
       "[\\n, White, \\n]     3406\n",
       "[\\n, Silver, \\n]    1647\n",
       "[\\n, Blue, \\n]      1431\n",
       "[\\n, Red, \\n]        957\n",
       "NaN                  597\n",
       "[\\n, Brown, \\n]      289\n",
       "[\\n, Green, \\n]      154\n",
       "[\\n, Beige, \\n]      108\n",
       "[\\n, Yellow, \\n]      51\n",
       "[\\n, Violet, \\n]      18\n",
       "[\\n, Bronze, \\n]       6\n",
       "[\\n, Orange, \\n]       3\n",
       "[\\n, Gold, \\n]         2\n",
       "Name: body_color, dtype: int64"
      ]
     },
     "execution_count": 101,
     "metadata": {},
     "output_type": "execute_result"
    }
   ],
   "source": [
    "df['body_color'].value_counts(dropna = False)"
   ]
  },
  {
   "cell_type": "code",
   "execution_count": 102,
   "id": "cb9d73d3",
   "metadata": {},
   "outputs": [
    {
     "data": {
      "text/plain": [
       "Black     3745\n",
       "Grey      3505\n",
       "White     3406\n",
       "Silver    1647\n",
       "Blue      1431\n",
       "Red        957\n",
       "NaN        597\n",
       "Brown      289\n",
       "Green      154\n",
       "Beige      108\n",
       "Yellow      51\n",
       "Violet      18\n",
       "Bronze       6\n",
       "Orange       3\n",
       "Gold         2\n",
       "Name: body_color, dtype: int64"
      ]
     },
     "execution_count": 102,
     "metadata": {},
     "output_type": "execute_result"
    }
   ],
   "source": [
    "df['body_color']=[item[1] if type(item)== list else item for item in df['body_color']]\n",
    "df['body_color'].value_counts(dropna = False)"
   ]
  },
  {
   "cell_type": "code",
   "execution_count": 103,
   "id": "d3f18f0c",
   "metadata": {},
   "outputs": [
    {
     "ename": "TypeError",
     "evalue": "unhashable type: 'list'",
     "output_type": "error",
     "traceback": [
      "\u001b[1;31m---------------------------------------------------------------------------\u001b[0m",
      "\u001b[1;31mTypeError\u001b[0m                                 Traceback (most recent call last)",
      "\u001b[1;32mpandas\\_libs\\hashtable_class_helper.pxi\u001b[0m in \u001b[0;36mpandas._libs.hashtable.PyObjectHashTable.map_locations\u001b[1;34m()\u001b[0m\n",
      "\u001b[1;31mTypeError\u001b[0m: unhashable type: 'list'"
     ]
    },
    {
     "name": "stderr",
     "output_type": "stream",
     "text": [
      "Exception ignored in: 'pandas._libs.index.IndexEngine._call_map_locations'\n",
      "Traceback (most recent call last):\n",
      "  File \"pandas\\_libs\\hashtable_class_helper.pxi\", line 5231, in pandas._libs.hashtable.PyObjectHashTable.map_locations\n",
      "TypeError: unhashable type: 'list'\n"
     ]
    },
    {
     "data": {
      "text/plain": [
       "NaN                                    3759\n",
       "[\\nOnyx Schwarz\\n]                      338\n",
       "[\\nBianco\\n]                            282\n",
       "[\\nMythosschwarz Metallic\\n]            238\n",
       "[\\nBrillantschwarz\\n]                   216\n",
       "                                       ... \n",
       "[\\nRouge-Braun (G0Y)\\n]                   1\n",
       "[\\nVARI COLRI DISPONIBILI\\n]              1\n",
       "[\\nKokosnussbraun Metallic\\n]             1\n",
       "[\\nFarbe frei wählbar\\n]                  1\n",
       "[\\nPerlmutt-Weiß Metallic (Weiß)\\n]       1\n",
       "Name: body_color_original, Length: 1928, dtype: int64"
      ]
     },
     "execution_count": 103,
     "metadata": {},
     "output_type": "execute_result"
    }
   ],
   "source": [
    "df['body_color_original'].value_counts(dropna = False)"
   ]
  },
  {
   "cell_type": "code",
   "execution_count": 104,
   "id": "e69c245b",
   "metadata": {},
   "outputs": [
    {
     "data": {
      "text/plain": [
       "NaN                                  3759\n",
       "\\nOnyx Schwarz\\n                      338\n",
       "\\nBianco\\n                            282\n",
       "\\nMythosschwarz Metallic\\n            238\n",
       "\\nBrillantschwarz\\n                   216\n",
       "                                     ... \n",
       "\\nRouge-Braun (G0Y)\\n                   1\n",
       "\\nVARI COLRI DISPONIBILI\\n              1\n",
       "\\nKokosnussbraun Metallic\\n             1\n",
       "\\nFarbe frei wählbar\\n                  1\n",
       "\\nPerlmutt-Weiß Metallic (Weiß)\\n       1\n",
       "Name: body_color_original, Length: 1928, dtype: int64"
      ]
     },
     "execution_count": 104,
     "metadata": {},
     "output_type": "execute_result"
    }
   ],
   "source": [
    "df['body_color_original']=[item[0] if type(item)== list else item for item in df['body_color_original']]\n",
    "df['body_color_original'].value_counts(dropna = False)"
   ]
  },
  {
   "cell_type": "code",
   "execution_count": 105,
   "id": "850796c5",
   "metadata": {},
   "outputs": [
    {
     "data": {
      "text/plain": [
       "NaN                              3759\n",
       "Onyx Schwarz                      338\n",
       "Bianco                            282\n",
       "Mythosschwarz Metallic            238\n",
       "Brillantschwarz                   216\n",
       "                                 ... \n",
       "Rouge-Braun (G0Y)                   1\n",
       "VARI COLRI DISPONIBILI              1\n",
       "Kokosnussbraun Metallic             1\n",
       "Farbe frei wählbar                  1\n",
       "Perlmutt-Weiß Metallic (Weiß)       1\n",
       "Name: body_color_original, Length: 1928, dtype: int64"
      ]
     },
     "execution_count": 105,
     "metadata": {},
     "output_type": "execute_result"
    }
   ],
   "source": [
    "df['body_color_original']=df['body_color_original'].str.strip(\"\\n\")\n",
    "df['body_color_original'].value_counts(dropna = False)"
   ]
  },
  {
   "cell_type": "code",
   "execution_count": 106,
   "id": "810d1eca",
   "metadata": {},
   "outputs": [
    {
     "ename": "TypeError",
     "evalue": "unhashable type: 'list'",
     "output_type": "error",
     "traceback": [
      "\u001b[1;31m---------------------------------------------------------------------------\u001b[0m",
      "\u001b[1;31mTypeError\u001b[0m                                 Traceback (most recent call last)",
      "\u001b[1;32mpandas\\_libs\\hashtable_class_helper.pxi\u001b[0m in \u001b[0;36mpandas._libs.hashtable.PyObjectHashTable.map_locations\u001b[1;34m()\u001b[0m\n",
      "\u001b[1;31mTypeError\u001b[0m: unhashable type: 'list'"
     ]
    },
    {
     "name": "stderr",
     "output_type": "stream",
     "text": [
      "Exception ignored in: 'pandas._libs.index.IndexEngine._call_map_locations'\n",
      "Traceback (most recent call last):\n",
      "  File \"pandas\\_libs\\hashtable_class_helper.pxi\", line 5231, in pandas._libs.hashtable.PyObjectHashTable.map_locations\n",
      "TypeError: unhashable type: 'list'\n"
     ]
    },
    {
     "data": {
      "text/plain": [
       "[\\nCloth, Black\\n]           5821\n",
       "NaN                          3720\n",
       "[\\nPart leather, Black\\n]    1121\n",
       "[\\nCloth\\n]                  1005\n",
       "[\\nCloth, Grey\\n]             891\n",
       "[\\nCloth, Other\\n]            639\n",
       "[\\nFull leather, Black\\n]     575\n",
       "[\\nBlack\\n]                   491\n",
       "[\\nGrey\\n]                    273\n",
       "[\\nOther, Other\\n]            182\n",
       "[\\nPart leather\\n]            140\n",
       "[\\nFull leather\\n]            139\n",
       "[\\nFull leather, Brown\\n]     116\n",
       "[\\nPart leather, Grey\\n]      116\n",
       "[\\nOther, Black\\n]            110\n",
       "[\\nFull leather, Other\\n]      72\n",
       "[\\nFull leather, Grey\\n]       67\n",
       "[\\nPart leather, Other\\n]      65\n",
       "[\\nOther\\n]                    56\n",
       "[\\nPart leather, Brown\\n]      50\n",
       "[\\nalcantara, Black\\n]         47\n",
       "[\\nVelour, Black\\n]            36\n",
       "[\\nFull leather, Beige\\n]      36\n",
       "[\\nCloth, Brown\\n]             28\n",
       "[\\nVelour\\n]                   16\n",
       "[\\nOther, Grey\\n]              15\n",
       "[\\nCloth, Beige\\n]             13\n",
       "[\\nBrown\\n]                    12\n",
       "[\\nCloth, Blue\\n]              12\n",
       "[\\nVelour, Grey\\n]              8\n",
       "[\\nCloth, White\\n]              8\n",
       "[\\nalcantara, Grey\\n]           6\n",
       "[\\nCloth, Red\\n]                5\n",
       "[\\nOther, Yellow\\n]             4\n",
       "[\\nPart leather, Red\\n]         3\n",
       "[\\nBeige\\n]                     3\n",
       "[\\nPart leather, White\\n]       2\n",
       "[\\nFull leather, Blue\\n]        2\n",
       "[\\nalcantara, Other\\n]          2\n",
       "[\\nalcantara\\n]                 2\n",
       "[\\nWhite\\n]                     2\n",
       "[\\nPart leather, Beige\\n]       2\n",
       "[\\nBlue\\n]                      2\n",
       "[\\nCloth, Orange\\n]             1\n",
       "[\\nFull leather, Red\\n]         1\n",
       "[\\nOther, Brown\\n]              1\n",
       "[\\nFull leather, White\\n]       1\n",
       "Name: upholstery, dtype: int64"
      ]
     },
     "execution_count": 106,
     "metadata": {},
     "output_type": "execute_result"
    }
   ],
   "source": [
    "df.upholstery.value_counts(dropna = False)"
   ]
  },
  {
   "cell_type": "code",
   "execution_count": 107,
   "id": "519dff68",
   "metadata": {},
   "outputs": [
    {
     "data": {
      "text/plain": [
       "\\nCloth, Black\\n           5821\n",
       "NaN                        3720\n",
       "\\nPart leather, Black\\n    1121\n",
       "\\nCloth\\n                  1005\n",
       "\\nCloth, Grey\\n             891\n",
       "\\nCloth, Other\\n            639\n",
       "\\nFull leather, Black\\n     575\n",
       "\\nBlack\\n                   491\n",
       "\\nGrey\\n                    273\n",
       "\\nOther, Other\\n            182\n",
       "\\nPart leather\\n            140\n",
       "\\nFull leather\\n            139\n",
       "\\nFull leather, Brown\\n     116\n",
       "\\nPart leather, Grey\\n      116\n",
       "\\nOther, Black\\n            110\n",
       "\\nFull leather, Other\\n      72\n",
       "\\nFull leather, Grey\\n       67\n",
       "\\nPart leather, Other\\n      65\n",
       "\\nOther\\n                    56\n",
       "\\nPart leather, Brown\\n      50\n",
       "\\nalcantara, Black\\n         47\n",
       "\\nVelour, Black\\n            36\n",
       "\\nFull leather, Beige\\n      36\n",
       "\\nCloth, Brown\\n             28\n",
       "\\nVelour\\n                   16\n",
       "\\nOther, Grey\\n              15\n",
       "\\nCloth, Beige\\n             13\n",
       "\\nBrown\\n                    12\n",
       "\\nCloth, Blue\\n              12\n",
       "\\nVelour, Grey\\n              8\n",
       "\\nCloth, White\\n              8\n",
       "\\nalcantara, Grey\\n           6\n",
       "\\nCloth, Red\\n                5\n",
       "\\nOther, Yellow\\n             4\n",
       "\\nPart leather, Red\\n         3\n",
       "\\nBeige\\n                     3\n",
       "\\nPart leather, White\\n       2\n",
       "\\nFull leather, Blue\\n        2\n",
       "\\nalcantara, Other\\n          2\n",
       "\\nalcantara\\n                 2\n",
       "\\nWhite\\n                     2\n",
       "\\nPart leather, Beige\\n       2\n",
       "\\nBlue\\n                      2\n",
       "\\nCloth, Orange\\n             1\n",
       "\\nFull leather, Red\\n         1\n",
       "\\nOther, Brown\\n              1\n",
       "\\nFull leather, White\\n       1\n",
       "Name: upholstery, dtype: int64"
      ]
     },
     "execution_count": 107,
     "metadata": {},
     "output_type": "execute_result"
    }
   ],
   "source": [
    "df.upholstery=[item[0] if type(item)== list else item for item in df.upholstery]\n",
    "df.upholstery.value_counts(dropna = False)"
   ]
  },
  {
   "cell_type": "code",
   "execution_count": 108,
   "id": "2f8800f9",
   "metadata": {},
   "outputs": [
    {
     "data": {
      "text/plain": [
       "Cloth, Black           5821\n",
       "NaN                    3720\n",
       "Part leather, Black    1121\n",
       "Cloth                  1005\n",
       "Cloth, Grey             891\n",
       "Cloth, Other            639\n",
       "Full leather, Black     575\n",
       "Black                   491\n",
       "Grey                    273\n",
       "Other, Other            182\n",
       "Part leather            140\n",
       "Full leather            139\n",
       "Full leather, Brown     116\n",
       "Part leather, Grey      116\n",
       "Other, Black            110\n",
       "Full leather, Other      72\n",
       "Full leather, Grey       67\n",
       "Part leather, Other      65\n",
       "Other                    56\n",
       "Part leather, Brown      50\n",
       "alcantara, Black         47\n",
       "Velour, Black            36\n",
       "Full leather, Beige      36\n",
       "Cloth, Brown             28\n",
       "Velour                   16\n",
       "Other, Grey              15\n",
       "Cloth, Beige             13\n",
       "Brown                    12\n",
       "Cloth, Blue              12\n",
       "Velour, Grey              8\n",
       "Cloth, White              8\n",
       "alcantara, Grey           6\n",
       "Cloth, Red                5\n",
       "Other, Yellow             4\n",
       "Part leather, Red         3\n",
       "Beige                     3\n",
       "Part leather, White       2\n",
       "Full leather, Blue        2\n",
       "alcantara, Other          2\n",
       "alcantara                 2\n",
       "White                     2\n",
       "Part leather, Beige       2\n",
       "Blue                      2\n",
       "Cloth, Orange             1\n",
       "Full leather, Red         1\n",
       "Other, Brown              1\n",
       "Full leather, White       1\n",
       "Name: upholstery, dtype: int64"
      ]
     },
     "execution_count": 108,
     "metadata": {},
     "output_type": "execute_result"
    }
   ],
   "source": [
    "df.upholstery=df.upholstery.str.strip(\"\\n\")\n",
    "df.upholstery.value_counts(dropna = False)"
   ]
  },
  {
   "cell_type": "code",
   "execution_count": 109,
   "id": "a9e17cf7",
   "metadata": {},
   "outputs": [
    {
     "data": {
      "text/plain": [
       "11416"
      ]
     },
     "execution_count": 109,
     "metadata": {},
     "output_type": "execute_result"
    }
   ],
   "source": [
    "df.upholstery.str.contains('leather|Cloth|alcantara|Velour|Other', na=False, regex=True).sum()"
   ]
  },
  {
   "cell_type": "code",
   "execution_count": 110,
   "id": "6ffca443",
   "metadata": {},
   "outputs": [
    {
     "data": {
      "text/plain": [
       "11416"
      ]
     },
     "execution_count": 110,
     "metadata": {},
     "output_type": "execute_result"
    }
   ],
   "source": [
    "uph_clmn = df.upholstery.astype('string')\n",
    "uph_clmn[uph_clmn.isna()] = 'Null'\n",
    "uph_clmn.loc[uph_clmn.str.contains('Full leather')] = 'Full leather'\n",
    "uph_clmn.loc[uph_clmn.str.contains('Part leather')] = 'Part leather'\n",
    "uph_clmn.loc[uph_clmn.str.contains('alcantara')] = 'alcantara'\n",
    "uph_clmn.loc[uph_clmn.str.contains('Cloth')] = 'Cloth'\n",
    "uph_clmn.loc[uph_clmn.str.contains('Velour')] = 'Velour'\n",
    "uph_clmn.loc[uph_clmn.str.contains('Other')] = 'Other'\n",
    "uph_clmn.str.contains('leather|Cloth|alcantara|Velour|Other', na=False, regex=True).sum()"
   ]
  },
  {
   "cell_type": "code",
   "execution_count": 112,
   "id": "3306d152",
   "metadata": {},
   "outputs": [
    {
     "data": {
      "text/plain": [
       "Cloth           8423\n",
       "Null            3720\n",
       "Part leather    1499\n",
       "Full leather    1009\n",
       "Black            491\n",
       "Other            368\n",
       "Grey             273\n",
       "Velour            60\n",
       "alcantara         57\n",
       "Brown             12\n",
       "Beige              3\n",
       "Blue               2\n",
       "White              2\n",
       "Name: upholstery, dtype: Int64"
      ]
     },
     "execution_count": 112,
     "metadata": {},
     "output_type": "execute_result"
    }
   ],
   "source": [
    "uph_clmn.value_counts()"
   ]
  },
  {
   "cell_type": "code",
   "execution_count": 113,
   "id": "01d8dd37",
   "metadata": {},
   "outputs": [
    {
     "data": {
      "text/plain": [
       "Cloth           8423\n",
       "NaN             4503\n",
       "Part leather    1499\n",
       "Full leather    1009\n",
       "Other            368\n",
       "Velour            60\n",
       "alcantara         57\n",
       "Name: upholstery, dtype: int64"
      ]
     },
     "execution_count": 113,
     "metadata": {},
     "output_type": "execute_result"
    }
   ],
   "source": [
    "uph_clmn = uph_clmn.apply(lambda x: x if x in ['Full leather','Part leather','Cloth','alcantara','Velour','Other'] else np.nan)\n",
    "uph_clmn.value_counts(dropna=False)"
   ]
  },
  {
   "cell_type": "code",
   "execution_count": 114,
   "id": "76326cf5",
   "metadata": {},
   "outputs": [],
   "source": [
    "df['seat_cover'] = uph_clmn"
   ]
  },
  {
   "cell_type": "code",
   "execution_count": 334,
   "id": "3aad99fa",
   "metadata": {},
   "outputs": [
    {
     "ename": "TypeError",
     "evalue": "unhashable type: 'list'",
     "output_type": "error",
     "traceback": [
      "\u001b[1;31m---------------------------------------------------------------------------\u001b[0m",
      "\u001b[1;31mTypeError\u001b[0m                                 Traceback (most recent call last)",
      "\u001b[1;32mpandas\\_libs\\hashtable_class_helper.pxi\u001b[0m in \u001b[0;36mpandas._libs.hashtable.PyObjectHashTable.map_locations\u001b[1;34m()\u001b[0m\n",
      "\u001b[1;31mTypeError\u001b[0m: unhashable type: 'list'"
     ]
    },
    {
     "name": "stderr",
     "output_type": "stream",
     "text": [
      "Exception ignored in: 'pandas._libs.index.IndexEngine._call_map_locations'\n",
      "Traceback (most recent call last):\n",
      "  File \"pandas\\_libs\\hashtable_class_helper.pxi\", line 5231, in pandas._libs.hashtable.PyObjectHashTable.map_locations\n",
      "TypeError: unhashable type: 'list'\n"
     ]
    },
    {
     "data": {
      "text/plain": [
       "[\\n, Sedans, \\n]           7903\n",
       "[\\n, Station wagon, \\n]    3553\n",
       "[\\n, Compact, \\n]          3153\n",
       "[\\n, Van, \\n]               783\n",
       "[\\n, Other, \\n]             290\n",
       "[\\n, Transporter, \\n]        88\n",
       "NaN                          60\n",
       "[\\n, Off-Road, \\n]           56\n",
       "[\\n, Coupe, \\n]              25\n",
       "[\\n, Convertible, \\n]         8\n",
       "Name: body, dtype: int64"
      ]
     },
     "execution_count": 334,
     "metadata": {},
     "output_type": "execute_result"
    }
   ],
   "source": [
    "df.body.value_counts(dropna = False)"
   ]
  },
  {
   "cell_type": "code",
   "execution_count": 335,
   "id": "19b8b5d4",
   "metadata": {},
   "outputs": [
    {
     "data": {
      "text/plain": [
       "Sedans           7903\n",
       "Station wagon    3553\n",
       "Compact          3153\n",
       "Van               783\n",
       "Other             290\n",
       "Transporter        88\n",
       "NaN                60\n",
       "Off-Road           56\n",
       "Coupe              25\n",
       "Convertible         8\n",
       "Name: body, dtype: int64"
      ]
     },
     "execution_count": 335,
     "metadata": {},
     "output_type": "execute_result"
    }
   ],
   "source": [
    "df.body=[item[1] if type(item)== list else item for item in df.body]\n",
    "df.body.value_counts(dropna = False)"
   ]
  },
  {
   "cell_type": "code",
   "execution_count": 336,
   "id": "5dd36e84",
   "metadata": {},
   "outputs": [
    {
     "ename": "TypeError",
     "evalue": "unhashable type: 'list'",
     "output_type": "error",
     "traceback": [
      "\u001b[1;31m---------------------------------------------------------------------------\u001b[0m",
      "\u001b[1;31mTypeError\u001b[0m                                 Traceback (most recent call last)",
      "\u001b[1;32mpandas\\_libs\\hashtable_class_helper.pxi\u001b[0m in \u001b[0;36mpandas._libs.hashtable.PyObjectHashTable.map_locations\u001b[1;34m()\u001b[0m\n",
      "\u001b[1;31mTypeError\u001b[0m: unhashable type: 'list'"
     ]
    },
    {
     "name": "stderr",
     "output_type": "stream",
     "text": [
      "Exception ignored in: 'pandas._libs.index.IndexEngine._call_map_locations'\n",
      "Traceback (most recent call last):\n",
      "  File \"pandas\\_libs\\hashtable_class_helper.pxi\", line 5231, in pandas._libs.hashtable.PyObjectHashTable.map_locations\n",
      "TypeError: unhashable type: 'list'\n"
     ]
    },
    {
     "data": {
      "text/plain": [
       "[\\n5\\n]    11575\n",
       "[\\n4\\n]     3079\n",
       "[\\n3\\n]      832\n",
       "[\\n2\\n]      219\n",
       "NaN          212\n",
       "[\\n1\\n]        1\n",
       "[\\n7\\n]        1\n",
       "Name: nr_of_doors, dtype: int64"
      ]
     },
     "execution_count": 336,
     "metadata": {},
     "output_type": "execute_result"
    }
   ],
   "source": [
    "df['nr_of_doors'].value_counts(dropna = False)"
   ]
  },
  {
   "cell_type": "code",
   "execution_count": 337,
   "id": "fbf94c29",
   "metadata": {},
   "outputs": [
    {
     "data": {
      "text/plain": [
       "\\n5\\n    11575\n",
       "\\n4\\n     3079\n",
       "\\n3\\n      832\n",
       "\\n2\\n      219\n",
       "NaN        212\n",
       "\\n1\\n        1\n",
       "\\n7\\n        1\n",
       "Name: nr_of_doors, dtype: int64"
      ]
     },
     "execution_count": 337,
     "metadata": {},
     "output_type": "execute_result"
    }
   ],
   "source": [
    "df['nr_of_doors']=[item[0] if type(item)== list else item for item in df['nr_of_doors']]\n",
    "df['nr_of_doors'].value_counts(dropna = False)"
   ]
  },
  {
   "cell_type": "code",
   "execution_count": 338,
   "id": "b42b29b9",
   "metadata": {},
   "outputs": [
    {
     "data": {
      "text/plain": [
       "5.0    11575\n",
       "4.0     3079\n",
       "3.0      832\n",
       "2.0      219\n",
       "NaN      212\n",
       "1.0        1\n",
       "7.0        1\n",
       "Name: nr_of_doors, dtype: int64"
      ]
     },
     "execution_count": 338,
     "metadata": {},
     "output_type": "execute_result"
    }
   ],
   "source": [
    "df['nr_of_doors']= df['nr_of_doors'].str.strip('\\n').astype(float)\n",
    "df['nr_of_doors'].value_counts(dropna = False)"
   ]
  },
  {
   "cell_type": "code",
   "execution_count": 339,
   "id": "2eba135d",
   "metadata": {},
   "outputs": [
    {
     "ename": "TypeError",
     "evalue": "unhashable type: 'list'",
     "output_type": "error",
     "traceback": [
      "\u001b[1;31m---------------------------------------------------------------------------\u001b[0m",
      "\u001b[1;31mTypeError\u001b[0m                                 Traceback (most recent call last)",
      "\u001b[1;32mpandas\\_libs\\hashtable_class_helper.pxi\u001b[0m in \u001b[0;36mpandas._libs.hashtable.PyObjectHashTable.map_locations\u001b[1;34m()\u001b[0m\n",
      "\u001b[1;31mTypeError\u001b[0m: unhashable type: 'list'"
     ]
    },
    {
     "name": "stderr",
     "output_type": "stream",
     "text": [
      "Exception ignored in: 'pandas._libs.index.IndexEngine._call_map_locations'\n",
      "Traceback (most recent call last):\n",
      "  File \"pandas\\_libs\\hashtable_class_helper.pxi\", line 5231, in pandas._libs.hashtable.PyObjectHashTable.map_locations\n",
      "TypeError: unhashable type: 'list'\n"
     ]
    },
    {
     "data": {
      "text/plain": [
       "[\\n5\\n]    13336\n",
       "[\\n4\\n]     1125\n",
       "NaN          977\n",
       "[\\n7\\n]      362\n",
       "[\\n2\\n]      116\n",
       "[\\n6\\n]        2\n",
       "[\\n3\\n]        1\n",
       "Name: nr_of_seats, dtype: int64"
      ]
     },
     "execution_count": 339,
     "metadata": {},
     "output_type": "execute_result"
    }
   ],
   "source": [
    "df['nr_of_seats'].value_counts(dropna = False)"
   ]
  },
  {
   "cell_type": "code",
   "execution_count": 340,
   "id": "ca8e3ef6",
   "metadata": {},
   "outputs": [
    {
     "data": {
      "text/plain": [
       "\\n5\\n    13336\n",
       "\\n4\\n     1125\n",
       "NaN        977\n",
       "\\n7\\n      362\n",
       "\\n2\\n      116\n",
       "\\n6\\n        2\n",
       "\\n3\\n        1\n",
       "Name: nr_of_seats, dtype: int64"
      ]
     },
     "execution_count": 340,
     "metadata": {},
     "output_type": "execute_result"
    }
   ],
   "source": [
    "df['nr_of_seats']=[item[0] if type(item)== list else item for item in df['nr_of_seats']]\n",
    "df['nr_of_seats'].value_counts(dropna = False)"
   ]
  },
  {
   "cell_type": "code",
   "execution_count": 341,
   "id": "454fee71",
   "metadata": {},
   "outputs": [
    {
     "data": {
      "text/plain": [
       "5.0    13336\n",
       "4.0     1125\n",
       "NaN      977\n",
       "7.0      362\n",
       "2.0      116\n",
       "6.0        2\n",
       "3.0        1\n",
       "Name: nr_of_seats, dtype: int64"
      ]
     },
     "execution_count": 341,
     "metadata": {},
     "output_type": "execute_result"
    }
   ],
   "source": [
    "df['nr_of_seats']= df['nr_of_seats'].str.strip('\\n').astype(float)\n",
    "df['nr_of_seats'].value_counts(dropna = False)"
   ]
  },
  {
   "cell_type": "code",
   "execution_count": 342,
   "id": "c509684c",
   "metadata": {},
   "outputs": [
    {
     "data": {
      "text/plain": [
       "dtype('float64')"
      ]
     },
     "execution_count": 342,
     "metadata": {},
     "output_type": "execute_result"
    }
   ],
   "source": [
    "df.nr_of_seats.dtype"
   ]
  },
  {
   "cell_type": "code",
   "execution_count": 343,
   "id": "75a63582",
   "metadata": {},
   "outputs": [
    {
     "ename": "TypeError",
     "evalue": "unhashable type: 'list'",
     "output_type": "error",
     "traceback": [
      "\u001b[1;31m---------------------------------------------------------------------------\u001b[0m",
      "\u001b[1;31mTypeError\u001b[0m                                 Traceback (most recent call last)",
      "\u001b[1;32mpandas\\_libs\\hashtable_class_helper.pxi\u001b[0m in \u001b[0;36mpandas._libs.hashtable.PyObjectHashTable.map_locations\u001b[1;34m()\u001b[0m\n",
      "\u001b[1;31mTypeError\u001b[0m: unhashable type: 'list'"
     ]
    },
    {
     "name": "stderr",
     "output_type": "stream",
     "text": [
      "Exception ignored in: 'pandas._libs.index.IndexEngine._call_map_locations'\n",
      "Traceback (most recent call last):\n",
      "  File \"pandas\\_libs\\hashtable_class_helper.pxi\", line 5231, in pandas._libs.hashtable.PyObjectHashTable.map_locations\n",
      "TypeError: unhashable type: 'list'\n"
     ]
    },
    {
     "data": {
      "text/plain": [
       "NaN               10941\n",
       "[\\n0035/BCB\\n]      268\n",
       "[\\n0588/BNO\\n]      245\n",
       "[\\n0588/BDB\\n]      206\n",
       "[\\n0588/BHX\\n]      188\n",
       "                  ...  \n",
       "[\\n0035/AVN\\n]        1\n",
       "[\\n0035/BEM\\n]        1\n",
       "[\\n0035/BAG\\n]        1\n",
       "[\\n0035/BAA\\n]        1\n",
       "[\\n3333/BKG\\n]        1\n",
       "Name: model_code, Length: 233, dtype: int64"
      ]
     },
     "execution_count": 343,
     "metadata": {},
     "output_type": "execute_result"
    }
   ],
   "source": [
    "df['model_code'].value_counts(dropna = False)"
   ]
  },
  {
   "cell_type": "code",
   "execution_count": 344,
   "id": "2ba7c7c1",
   "metadata": {},
   "outputs": [
    {
     "data": {
      "text/plain": [
       "NaN             10941\n",
       "\\n0035/BCB\\n      268\n",
       "\\n0588/BNO\\n      245\n",
       "\\n0588/BDB\\n      206\n",
       "\\n0588/BHX\\n      188\n",
       "                ...  \n",
       "\\n0035/AVN\\n        1\n",
       "\\n0035/BEM\\n        1\n",
       "\\n0035/BAG\\n        1\n",
       "\\n0035/BAA\\n        1\n",
       "\\n3333/BKG\\n        1\n",
       "Name: model_code, Length: 233, dtype: int64"
      ]
     },
     "execution_count": 344,
     "metadata": {},
     "output_type": "execute_result"
    }
   ],
   "source": [
    "df['model_code']=[item[0] if type(item)== list else item for item in df['model_code']]\n",
    "df['model_code'].value_counts(dropna = False)"
   ]
  },
  {
   "cell_type": "code",
   "execution_count": 345,
   "id": "d69b8a42",
   "metadata": {},
   "outputs": [
    {
     "data": {
      "text/plain": [
       "NaN         10941\n",
       "0035/BCB      268\n",
       "0588/BNO      245\n",
       "0588/BDB      206\n",
       "0588/BHX      188\n",
       "            ...  \n",
       "0035/AVN        1\n",
       "0035/BEM        1\n",
       "0035/BAG        1\n",
       "0035/BAA        1\n",
       "3333/BKG        1\n",
       "Name: model_code, Length: 233, dtype: int64"
      ]
     },
     "execution_count": 345,
     "metadata": {},
     "output_type": "execute_result"
    }
   ],
   "source": [
    "df['model_code']=df['model_code'].str.strip(\"\\n\")\n",
    "df['model_code'].value_counts(dropna = False)"
   ]
  },
  {
   "cell_type": "code",
   "execution_count": 346,
   "id": "f4b2f062",
   "metadata": {},
   "outputs": [
    {
     "ename": "TypeError",
     "evalue": "unhashable type: 'list'",
     "output_type": "error",
     "traceback": [
      "\u001b[1;31m---------------------------------------------------------------------------\u001b[0m",
      "\u001b[1;31mTypeError\u001b[0m                                 Traceback (most recent call last)",
      "\u001b[1;32mpandas\\_libs\\hashtable_class_helper.pxi\u001b[0m in \u001b[0;36mpandas._libs.hashtable.PyObjectHashTable.map_locations\u001b[1;34m()\u001b[0m\n",
      "\u001b[1;31mTypeError\u001b[0m: unhashable type: 'list'"
     ]
    },
    {
     "name": "stderr",
     "output_type": "stream",
     "text": [
      "Exception ignored in: 'pandas._libs.index.IndexEngine._call_map_locations'\n",
      "Traceback (most recent call last):\n",
      "  File \"pandas\\_libs\\hashtable_class_helper.pxi\", line 5231, in pandas._libs.hashtable.PyObjectHashTable.map_locations\n",
      "TypeError: unhashable type: 'list'\n"
     ]
    },
    {
     "data": {
      "text/plain": [
       "[\\n, Manual, \\n]            8153\n",
       "[\\n, Automatic, \\n]         7297\n",
       "[\\n, Semi-automatic, \\n]     469\n",
       "Name: gearing_type, dtype: int64"
      ]
     },
     "execution_count": 346,
     "metadata": {},
     "output_type": "execute_result"
    }
   ],
   "source": [
    "df['gearing_type'].value_counts(dropna = False)"
   ]
  },
  {
   "cell_type": "code",
   "execution_count": 347,
   "id": "5db494dc",
   "metadata": {},
   "outputs": [
    {
     "data": {
      "text/plain": [
       "Manual            8153\n",
       "Automatic         7297\n",
       "Semi-automatic     469\n",
       "Name: gearing_type, dtype: int64"
      ]
     },
     "execution_count": 347,
     "metadata": {},
     "output_type": "execute_result"
    }
   ],
   "source": [
    "df['gearing_type']=[item[1] if type(item)== list else item for item in df['gearing_type']]\n",
    "df['gearing_type'].value_counts(dropna = False)"
   ]
  },
  {
   "cell_type": "code",
   "execution_count": 348,
   "id": "2dcecf48",
   "metadata": {},
   "outputs": [
    {
     "ename": "TypeError",
     "evalue": "unhashable type: 'list'",
     "output_type": "error",
     "traceback": [
      "\u001b[1;31m---------------------------------------------------------------------------\u001b[0m",
      "\u001b[1;31mTypeError\u001b[0m                                 Traceback (most recent call last)",
      "\u001b[1;32mpandas\\_libs\\hashtable_class_helper.pxi\u001b[0m in \u001b[0;36mpandas._libs.hashtable.PyObjectHashTable.map_locations\u001b[1;34m()\u001b[0m\n",
      "\u001b[1;31mTypeError\u001b[0m: unhashable type: 'list'"
     ]
    },
    {
     "name": "stderr",
     "output_type": "stream",
     "text": [
      "Exception ignored in: 'pandas._libs.index.IndexEngine._call_map_locations'\n",
      "Traceback (most recent call last):\n",
      "  File \"pandas\\_libs\\hashtable_class_helper.pxi\", line 5231, in pandas._libs.hashtable.PyObjectHashTable.map_locations\n",
      "TypeError: unhashable type: 'list'\n"
     ]
    },
    {
     "data": {
      "text/plain": [
       "[\\n1,598 cc\\n]    4761\n",
       "[\\n999 cc\\n]      2438\n",
       "[\\n1,398 cc\\n]    1314\n",
       "[\\n1,399 cc\\n]     749\n",
       "[\\n1,229 cc\\n]     677\n",
       "                  ... \n",
       "[\\n122 cc\\n]         1\n",
       "[\\n1,198 cc\\n]       1\n",
       "[\\n1,195 cc\\n]       1\n",
       "[\\n2,967 cc\\n]       1\n",
       "[\\n1,800 cc\\n]       1\n",
       "Name: displacement, Length: 78, dtype: int64"
      ]
     },
     "execution_count": 348,
     "metadata": {},
     "output_type": "execute_result"
    }
   ],
   "source": [
    "df.displacement.value_counts(dropna = False)"
   ]
  },
  {
   "cell_type": "code",
   "execution_count": 349,
   "id": "53dd7132",
   "metadata": {},
   "outputs": [
    {
     "data": {
      "text/plain": [
       "\\n1,598 cc\\n    4761\n",
       "\\n999 cc\\n      2438\n",
       "\\n1,398 cc\\n    1314\n",
       "\\n1,399 cc\\n     749\n",
       "\\n1,229 cc\\n     677\n",
       "                ... \n",
       "\\n122 cc\\n         1\n",
       "\\n1,198 cc\\n       1\n",
       "\\n1,195 cc\\n       1\n",
       "\\n2,967 cc\\n       1\n",
       "\\n1,800 cc\\n       1\n",
       "Name: displacement, Length: 78, dtype: int64"
      ]
     },
     "execution_count": 349,
     "metadata": {},
     "output_type": "execute_result"
    }
   ],
   "source": [
    "df.displacement= [item[0] if type(item)== list else item for item in df.displacement]\n",
    "df.displacement.value_counts(dropna = False)"
   ]
  },
  {
   "cell_type": "code",
   "execution_count": 350,
   "id": "99e8f271",
   "metadata": {},
   "outputs": [
    {
     "data": {
      "text/plain": [
       "0        1,422 \n",
       "1        1,798 \n",
       "2        1,598 \n",
       "3        1,422 \n",
       "4        1,422 \n",
       "          ...  \n",
       "15914    1,997 \n",
       "15915    1,798 \n",
       "15916    1,997 \n",
       "15917    1,997 \n",
       "15918    1,798 \n",
       "Name: displacement, Length: 15919, dtype: object"
      ]
     },
     "execution_count": 350,
     "metadata": {},
     "output_type": "execute_result"
    }
   ],
   "source": [
    "df.displacement.str.strip(\"\\ncc\")"
   ]
  },
  {
   "cell_type": "code",
   "execution_count": 351,
   "id": "7f11ac67",
   "metadata": {},
   "outputs": [
    {
     "data": {
      "text/plain": [
       "1.598      4761\n",
       "999.000    2438\n",
       "1.398      1314\n",
       "1.399       749\n",
       "1.229       677\n",
       "           ... \n",
       "1.390         1\n",
       "122.000       1\n",
       "1.195         1\n",
       "2.967         1\n",
       "1.800         1\n",
       "Name: displacement, Length: 76, dtype: int64"
      ]
     },
     "execution_count": 351,
     "metadata": {},
     "output_type": "execute_result"
    }
   ],
   "source": [
    "df.displacement=df.displacement.str.strip(\"\\ncc\").str.replace(\",\" , \".\").astype(float)\n",
    "df.displacement.value_counts(dropna = False)"
   ]
  },
  {
   "cell_type": "code",
   "execution_count": 352,
   "id": "e8f78f07",
   "metadata": {},
   "outputs": [],
   "source": [
    "df.rename(columns= {'displacement':'displacement_in_cc'}, inplace= True)"
   ]
  },
  {
   "cell_type": "code",
   "execution_count": 353,
   "id": "161b8aa8",
   "metadata": {},
   "outputs": [
    {
     "data": {
      "text/html": [
       "<div>\n",
       "<style scoped>\n",
       "    .dataframe tbody tr th:only-of-type {\n",
       "        vertical-align: middle;\n",
       "    }\n",
       "\n",
       "    .dataframe tbody tr th {\n",
       "        vertical-align: top;\n",
       "    }\n",
       "\n",
       "    .dataframe thead th {\n",
       "        text-align: right;\n",
       "    }\n",
       "</style>\n",
       "<table border=\"1\" class=\"dataframe\">\n",
       "  <thead>\n",
       "    <tr style=\"text-align: right;\">\n",
       "      <th></th>\n",
       "      <th>url</th>\n",
       "      <th>make_model</th>\n",
       "      <th>short_description</th>\n",
       "      <th>body_type</th>\n",
       "      <th>price</th>\n",
       "      <th>vat</th>\n",
       "      <th>km</th>\n",
       "      <th>registration</th>\n",
       "      <th>prev_owner</th>\n",
       "      <th>k_w</th>\n",
       "      <th>hp_kw</th>\n",
       "      <th>type</th>\n",
       "      <th>previous_owners</th>\n",
       "      <th>next_inspection</th>\n",
       "      <th>inspection_new</th>\n",
       "      <th>warranty_in_months</th>\n",
       "      <th>full_service</th>\n",
       "      <th>non_smoking_vehicle</th>\n",
       "      <th>null</th>\n",
       "      <th>make</th>\n",
       "      <th>model</th>\n",
       "      <th>offer_number</th>\n",
       "      <th>first_registration</th>\n",
       "      <th>body_color</th>\n",
       "      <th>paint_type</th>\n",
       "      <th>body_color_original</th>\n",
       "      <th>upholstery</th>\n",
       "      <th>body</th>\n",
       "      <th>nr_of_doors</th>\n",
       "      <th>nr_of_seats</th>\n",
       "      <th>model_code</th>\n",
       "      <th>gearing_type</th>\n",
       "      <th>displacement_in_cc</th>\n",
       "      <th>cylinders</th>\n",
       "      <th>weight</th>\n",
       "      <th>drive_chain</th>\n",
       "      <th>fuel</th>\n",
       "      <th>consumption</th>\n",
       "      <th>co_2_emission</th>\n",
       "      <th>emission_class</th>\n",
       "      <th>comfort_&amp;_convenience</th>\n",
       "      <th>entertainment_&amp;_media</th>\n",
       "      <th>extras</th>\n",
       "      <th>safety_&amp;_security</th>\n",
       "      <th>description</th>\n",
       "      <th>emission_label</th>\n",
       "      <th>gears</th>\n",
       "      <th>country_version</th>\n",
       "      <th>electricity_consumption</th>\n",
       "      <th>last_service_date</th>\n",
       "      <th>other_fuel_types</th>\n",
       "      <th>availability</th>\n",
       "      <th>last_timing_belt_service_date</th>\n",
       "      <th>available_from</th>\n",
       "      <th>fuel_type</th>\n",
       "    </tr>\n",
       "  </thead>\n",
       "  <tbody>\n",
       "    <tr>\n",
       "      <th>0</th>\n",
       "      <td>https://www.autoscout24.com//offers/audi-a1-sp...</td>\n",
       "      <td>Audi A1</td>\n",
       "      <td>Sportback 1.4 TDI S-tronic Xenon Navi Klima</td>\n",
       "      <td>Sedans</td>\n",
       "      <td>15770</td>\n",
       "      <td>VAT deductible</td>\n",
       "      <td>56013.0</td>\n",
       "      <td>01/2016</td>\n",
       "      <td>2.0</td>\n",
       "      <td>NaN</td>\n",
       "      <td>66.0</td>\n",
       "      <td>Used</td>\n",
       "      <td>2.0</td>\n",
       "      <td>06/2021</td>\n",
       "      <td>Yes</td>\n",
       "      <td>NaN</td>\n",
       "      <td>NaN</td>\n",
       "      <td>NaN</td>\n",
       "      <td>[]</td>\n",
       "      <td>Audi</td>\n",
       "      <td>A1</td>\n",
       "      <td>LR-062483</td>\n",
       "      <td>2016</td>\n",
       "      <td>Black</td>\n",
       "      <td>Metallic</td>\n",
       "      <td>Mythosschwarz</td>\n",
       "      <td>Cloth, Black</td>\n",
       "      <td>Sedans</td>\n",
       "      <td>5.0</td>\n",
       "      <td>5.0</td>\n",
       "      <td>0588/BDF</td>\n",
       "      <td>Automatic</td>\n",
       "      <td>1.422</td>\n",
       "      <td>[\\n3\\n]</td>\n",
       "      <td>[\\n1,220 kg\\n]</td>\n",
       "      <td>[\\nfront\\n]</td>\n",
       "      <td>[\\n, Diesel (Particulate Filter), \\n]</td>\n",
       "      <td>[[3.8 l/100 km (comb)], [4.3 l/100 km (city)],...</td>\n",
       "      <td>[\\n99 g CO2/km (comb)\\n]</td>\n",
       "      <td>[\\nEuro 6\\n]</td>\n",
       "      <td>[Air conditioning, Armrest, Automatic climate ...</td>\n",
       "      <td>[Bluetooth, Hands-free equipment, On-board com...</td>\n",
       "      <td>[Alloy wheels, Catalytic Converter, Voice Cont...</td>\n",
       "      <td>[ABS, Central door lock, Daytime running light...</td>\n",
       "      <td>[\\n, Sicherheit:,  , Deaktivierung für Beifahr...</td>\n",
       "      <td>NaN</td>\n",
       "      <td>NaN</td>\n",
       "      <td>NaN</td>\n",
       "      <td>NaN</td>\n",
       "      <td>NaN</td>\n",
       "      <td>NaN</td>\n",
       "      <td>NaN</td>\n",
       "      <td>NaN</td>\n",
       "      <td>NaN</td>\n",
       "      <td>Diesel (Particulate Filter)</td>\n",
       "    </tr>\n",
       "  </tbody>\n",
       "</table>\n",
       "</div>"
      ],
      "text/plain": [
       "                                                 url make_model  \\\n",
       "0  https://www.autoscout24.com//offers/audi-a1-sp...    Audi A1   \n",
       "\n",
       "                             short_description body_type  price  \\\n",
       "0  Sportback 1.4 TDI S-tronic Xenon Navi Klima    Sedans  15770   \n",
       "\n",
       "              vat       km registration  prev_owner  k_w  hp_kw  type  \\\n",
       "0  VAT deductible  56013.0      01/2016         2.0  NaN   66.0  Used   \n",
       "\n",
       "   previous_owners next_inspection inspection_new  warranty_in_months  \\\n",
       "0              2.0         06/2021            Yes                 NaN   \n",
       "\n",
       "  full_service non_smoking_vehicle null  make model offer_number  \\\n",
       "0          NaN                 NaN   []  Audi    A1    LR-062483   \n",
       "\n",
       "  first_registration body_color paint_type body_color_original    upholstery  \\\n",
       "0               2016      Black   Metallic       Mythosschwarz  Cloth, Black   \n",
       "\n",
       "     body  nr_of_doors  nr_of_seats model_code gearing_type  \\\n",
       "0  Sedans          5.0          5.0   0588/BDF    Automatic   \n",
       "\n",
       "   displacement_in_cc cylinders          weight  drive_chain  \\\n",
       "0               1.422   [\\n3\\n]  [\\n1,220 kg\\n]  [\\nfront\\n]   \n",
       "\n",
       "                                    fuel  \\\n",
       "0  [\\n, Diesel (Particulate Filter), \\n]   \n",
       "\n",
       "                                         consumption  \\\n",
       "0  [[3.8 l/100 km (comb)], [4.3 l/100 km (city)],...   \n",
       "\n",
       "              co_2_emission emission_class  \\\n",
       "0  [\\n99 g CO2/km (comb)\\n]   [\\nEuro 6\\n]   \n",
       "\n",
       "                               comfort_&_convenience  \\\n",
       "0  [Air conditioning, Armrest, Automatic climate ...   \n",
       "\n",
       "                               entertainment_&_media  \\\n",
       "0  [Bluetooth, Hands-free equipment, On-board com...   \n",
       "\n",
       "                                              extras  \\\n",
       "0  [Alloy wheels, Catalytic Converter, Voice Cont...   \n",
       "\n",
       "                                   safety_&_security  \\\n",
       "0  [ABS, Central door lock, Daytime running light...   \n",
       "\n",
       "                                         description emission_label gears  \\\n",
       "0  [\\n, Sicherheit:,  , Deaktivierung für Beifahr...            NaN   NaN   \n",
       "\n",
       "  country_version electricity_consumption last_service_date other_fuel_types  \\\n",
       "0             NaN                     NaN               NaN              NaN   \n",
       "\n",
       "  availability last_timing_belt_service_date available_from  \\\n",
       "0          NaN                           NaN            NaN   \n",
       "\n",
       "                     fuel_type  \n",
       "0  Diesel (Particulate Filter)  "
      ]
     },
     "execution_count": 353,
     "metadata": {},
     "output_type": "execute_result"
    }
   ],
   "source": [
    "df.head(1)"
   ]
  },
  {
   "cell_type": "code",
   "execution_count": 354,
   "id": "16606a71",
   "metadata": {},
   "outputs": [
    {
     "ename": "TypeError",
     "evalue": "unhashable type: 'list'",
     "output_type": "error",
     "traceback": [
      "\u001b[1;31m---------------------------------------------------------------------------\u001b[0m",
      "\u001b[1;31mTypeError\u001b[0m                                 Traceback (most recent call last)",
      "\u001b[1;32mpandas\\_libs\\hashtable_class_helper.pxi\u001b[0m in \u001b[0;36mpandas._libs.hashtable.PyObjectHashTable.map_locations\u001b[1;34m()\u001b[0m\n",
      "\u001b[1;31mTypeError\u001b[0m: unhashable type: 'list'"
     ]
    },
    {
     "name": "stderr",
     "output_type": "stream",
     "text": [
      "Exception ignored in: 'pandas._libs.index.IndexEngine._call_map_locations'\n",
      "Traceback (most recent call last):\n",
      "  File \"pandas\\_libs\\hashtable_class_helper.pxi\", line 5231, in pandas._libs.hashtable.PyObjectHashTable.map_locations\n",
      "TypeError: unhashable type: 'list'\n"
     ]
    },
    {
     "data": {
      "text/plain": [
       "[\\n4\\n]    8105\n",
       "NaN        5680\n",
       "[\\n3\\n]    2104\n",
       "[\\n5\\n]      22\n",
       "[\\n6\\n]       3\n",
       "[\\n8\\n]       2\n",
       "[\\n2\\n]       2\n",
       "[\\n1\\n]       1\n",
       "Name: cylinders, dtype: int64"
      ]
     },
     "execution_count": 354,
     "metadata": {},
     "output_type": "execute_result"
    }
   ],
   "source": [
    "df.cylinders.value_counts(dropna = False)"
   ]
  },
  {
   "cell_type": "code",
   "execution_count": 355,
   "id": "97d962ba",
   "metadata": {},
   "outputs": [
    {
     "data": {
      "text/plain": [
       "4      8105\n",
       "NaN    5680\n",
       "3      2104\n",
       "5        22\n",
       "6         3\n",
       "8         2\n",
       "2         2\n",
       "1         1\n",
       "Name: cylinders, dtype: int64"
      ]
     },
     "execution_count": 355,
     "metadata": {},
     "output_type": "execute_result"
    }
   ],
   "source": [
    "df.cylinders=[item[0] if type(item)== list else item for item in df.cylinders]\n",
    "df.cylinders=df.cylinders.str.strip(\"\\n\")\n",
    "df.cylinders.value_counts(dropna = False)"
   ]
  },
  {
   "cell_type": "code",
   "execution_count": 356,
   "id": "a87e5041",
   "metadata": {},
   "outputs": [
    {
     "data": {
      "text/plain": [
       "4.0    8105\n",
       "NaN    5680\n",
       "3.0    2104\n",
       "5.0      22\n",
       "6.0       3\n",
       "8.0       2\n",
       "2.0       2\n",
       "1.0       1\n",
       "Name: cylinders, dtype: int64"
      ]
     },
     "execution_count": 356,
     "metadata": {},
     "output_type": "execute_result"
    }
   ],
   "source": [
    "df.cylinders= df.cylinders.astype(float)\n",
    "df.cylinders.value_counts(dropna = False)"
   ]
  },
  {
   "cell_type": "code",
   "execution_count": 357,
   "id": "bd0b0815",
   "metadata": {},
   "outputs": [
    {
     "data": {
      "text/plain": [
       "0        3.0\n",
       "1        4.0\n",
       "2        NaN\n",
       "3        3.0\n",
       "4        3.0\n",
       "        ... \n",
       "15914    4.0\n",
       "15915    4.0\n",
       "15916    4.0\n",
       "15917    4.0\n",
       "15918    4.0\n",
       "Name: cylinders, Length: 15919, dtype: float64"
      ]
     },
     "execution_count": 357,
     "metadata": {},
     "output_type": "execute_result"
    }
   ],
   "source": [
    "df.cylinders"
   ]
  },
  {
   "cell_type": "code",
   "execution_count": 358,
   "id": "e93f5ce9",
   "metadata": {},
   "outputs": [
    {
     "ename": "TypeError",
     "evalue": "unhashable type: 'list'",
     "output_type": "error",
     "traceback": [
      "\u001b[1;31m---------------------------------------------------------------------------\u001b[0m",
      "\u001b[1;31mTypeError\u001b[0m                                 Traceback (most recent call last)",
      "\u001b[1;32mpandas\\_libs\\hashtable_class_helper.pxi\u001b[0m in \u001b[0;36mpandas._libs.hashtable.PyObjectHashTable.map_locations\u001b[1;34m()\u001b[0m\n",
      "\u001b[1;31mTypeError\u001b[0m: unhashable type: 'list'"
     ]
    },
    {
     "name": "stderr",
     "output_type": "stream",
     "text": [
      "Exception ignored in: 'pandas._libs.index.IndexEngine._call_map_locations'\n",
      "Traceback (most recent call last):\n",
      "  File \"pandas\\_libs\\hashtable_class_helper.pxi\", line 5231, in pandas._libs.hashtable.PyObjectHashTable.map_locations\n",
      "TypeError: unhashable type: 'list'\n"
     ]
    },
    {
     "data": {
      "text/plain": [
       "NaN               6974\n",
       "[\\n1,163 kg\\n]     574\n",
       "[\\n1,360 kg\\n]     356\n",
       "[\\n1,165 kg\\n]     301\n",
       "[\\n1,335 kg\\n]     242\n",
       "                  ... \n",
       "[\\n1,960 kg\\n]       1\n",
       "[\\n1,258 kg\\n]       1\n",
       "[\\n1,167 kg\\n]       1\n",
       "[\\n1,331 kg\\n]       1\n",
       "[\\n2,037 kg\\n]       1\n",
       "Name: weight, Length: 435, dtype: int64"
      ]
     },
     "execution_count": 358,
     "metadata": {},
     "output_type": "execute_result"
    }
   ],
   "source": [
    "df.weight.value_counts(dropna= False)"
   ]
  },
  {
   "cell_type": "code",
   "execution_count": 359,
   "id": "d6e62bd9",
   "metadata": {},
   "outputs": [
    {
     "data": {
      "text/plain": [
       "NaN      6974\n",
       "1.163     574\n",
       "1.360     356\n",
       "1.165     301\n",
       "1.335     242\n",
       "         ... \n",
       "1.960       1\n",
       "1.258       1\n",
       "1.167       1\n",
       "1.331       1\n",
       "2.037       1\n",
       "Name: weight, Length: 435, dtype: int64"
      ]
     },
     "execution_count": 359,
     "metadata": {},
     "output_type": "execute_result"
    }
   ],
   "source": [
    "df.weight=[item[0] if type(item)== list else item for item in df.weight]\n",
    "df.weight=df.weight.str.strip(\"\\n\").str.strip(\" kg\").str.replace(',', '.').astype(float)\n",
    "df.weight.value_counts(dropna = False)"
   ]
  },
  {
   "cell_type": "code",
   "execution_count": 360,
   "id": "f17223c1",
   "metadata": {},
   "outputs": [
    {
     "ename": "TypeError",
     "evalue": "unhashable type: 'list'",
     "output_type": "error",
     "traceback": [
      "\u001b[1;31m---------------------------------------------------------------------------\u001b[0m",
      "\u001b[1;31mTypeError\u001b[0m                                 Traceback (most recent call last)",
      "\u001b[1;32mpandas\\_libs\\hashtable_class_helper.pxi\u001b[0m in \u001b[0;36mpandas._libs.hashtable.PyObjectHashTable.map_locations\u001b[1;34m()\u001b[0m\n",
      "\u001b[1;31mTypeError\u001b[0m: unhashable type: 'list'"
     ]
    },
    {
     "name": "stderr",
     "output_type": "stream",
     "text": [
      "Exception ignored in: 'pandas._libs.index.IndexEngine._call_map_locations'\n",
      "Traceback (most recent call last):\n",
      "  File \"pandas\\_libs\\hashtable_class_helper.pxi\", line 5231, in pandas._libs.hashtable.PyObjectHashTable.map_locations\n",
      "TypeError: unhashable type: 'list'\n"
     ]
    },
    {
     "data": {
      "text/plain": [
       "[\\nfront\\n]    8886\n",
       "NaN            6858\n",
       "[\\n4WD\\n]       171\n",
       "[\\nrear\\n]        4\n",
       "Name: drive_chain, dtype: int64"
      ]
     },
     "execution_count": 360,
     "metadata": {},
     "output_type": "execute_result"
    }
   ],
   "source": [
    "df['drive_chain'].value_counts(dropna = False)"
   ]
  },
  {
   "cell_type": "code",
   "execution_count": 361,
   "id": "d7dafe7f",
   "metadata": {},
   "outputs": [
    {
     "data": {
      "text/plain": [
       "front    8886\n",
       "NaN      6858\n",
       "4WD       171\n",
       "rear        4\n",
       "Name: drive_chain, dtype: int64"
      ]
     },
     "execution_count": 361,
     "metadata": {},
     "output_type": "execute_result"
    }
   ],
   "source": [
    "df.drive_chain=[item[0] if type(item)== list else item for item in df.drive_chain]\n",
    "df.drive_chain=df.drive_chain.str.strip(\"\\n\")\n",
    "df.drive_chain.value_counts(dropna = False)"
   ]
  },
  {
   "cell_type": "code",
   "execution_count": 362,
   "id": "c458b6f6",
   "metadata": {},
   "outputs": [
    {
     "ename": "TypeError",
     "evalue": "unhashable type: 'list'",
     "output_type": "error",
     "traceback": [
      "\u001b[1;31m---------------------------------------------------------------------------\u001b[0m",
      "\u001b[1;31mTypeError\u001b[0m                                 Traceback (most recent call last)",
      "\u001b[1;32mpandas\\_libs\\hashtable_class_helper.pxi\u001b[0m in \u001b[0;36mpandas._libs.hashtable.PyObjectHashTable.map_locations\u001b[1;34m()\u001b[0m\n",
      "\u001b[1;31mTypeError\u001b[0m: unhashable type: 'list'"
     ]
    },
    {
     "name": "stderr",
     "output_type": "stream",
     "text": [
      "Exception ignored in: 'pandas._libs.index.IndexEngine._call_map_locations'\n",
      "Traceback (most recent call last):\n",
      "  File \"pandas\\_libs\\hashtable_class_helper.pxi\", line 5231, in pandas._libs.hashtable.PyObjectHashTable.map_locations\n",
      "TypeError: unhashable type: 'list'\n"
     ]
    },
    {
     "data": {
      "text/plain": [
       "[\\n, Diesel (Particulate Filter), \\n]                                                                                  4315\n",
       "[\\n, Super 95, \\n]                                                                                                     3338\n",
       "[\\n, Gasoline, \\n]                                                                                                     3175\n",
       "[\\n, Diesel, \\n]                                                                                                       2984\n",
       "[\\n, Super 95 / Regular/Benzine 91, \\n]                                                                                 424\n",
       "                                                                                                                       ... \n",
       "[\\n, Regular/Benzine 91 / Super 95 / Regular/Benzine E10 91, \\n]                                                          1\n",
       "[\\n, Super Plus 98 / Super E10 95, \\n]                                                                                    1\n",
       "[\\n, Regular/Benzine 91 / Super 95 / Regular/Benzine E10 91 / Super E10 95 / Super Plus 98 / Super Plus E10 98, \\n]       1\n",
       "[\\n, Regular/Benzine 91 / Super Plus 98 / Regular/Benzine E10 91 / Super 95 / Super E10 95 / Super Plus E10 98, \\n]       1\n",
       "[\\n, Super Plus 98 / Super 95 / Super Plus E10 98, \\n]                                                                    1\n",
       "Name: fuel, Length: 77, dtype: int64"
      ]
     },
     "execution_count": 362,
     "metadata": {},
     "output_type": "execute_result"
    }
   ],
   "source": [
    "df.fuel.value_counts(dropna = False)"
   ]
  },
  {
   "cell_type": "code",
   "execution_count": 363,
   "id": "4f236166",
   "metadata": {},
   "outputs": [
    {
     "data": {
      "text/plain": [
       "Diesel (Particulate Filter)                                                                                  4315\n",
       "Super 95                                                                                                     3338\n",
       "Gasoline                                                                                                     3175\n",
       "Diesel                                                                                                       2984\n",
       "Super 95 / Regular/Benzine 91                                                                                 424\n",
       "                                                                                                             ... \n",
       "Regular/Benzine 91 / Super 95 / Regular/Benzine E10 91                                                          1\n",
       "Super Plus 98 / Super E10 95                                                                                    1\n",
       "Regular/Benzine 91 / Super 95 / Regular/Benzine E10 91 / Super E10 95 / Super Plus 98 / Super Plus E10 98       1\n",
       "Regular/Benzine 91 / Super Plus 98 / Regular/Benzine E10 91 / Super 95 / Super E10 95 / Super Plus E10 98       1\n",
       "Super Plus 98 / Super 95 / Super Plus E10 98                                                                    1\n",
       "Name: fuel, Length: 77, dtype: int64"
      ]
     },
     "execution_count": 363,
     "metadata": {},
     "output_type": "execute_result"
    }
   ],
   "source": [
    "df.fuel= [item[1] if type(item)== list else item for item in df.fuel]\n",
    "df.fuel.value_counts(dropna = False)"
   ]
  },
  {
   "cell_type": "code",
   "execution_count": 364,
   "id": "4c666764",
   "metadata": {},
   "outputs": [
    {
     "ename": "TypeError",
     "evalue": "unhashable type: 'list'",
     "output_type": "error",
     "traceback": [
      "\u001b[1;31m---------------------------------------------------------------------------\u001b[0m",
      "\u001b[1;31mTypeError\u001b[0m                                 Traceback (most recent call last)",
      "\u001b[1;32mpandas\\_libs\\hashtable_class_helper.pxi\u001b[0m in \u001b[0;36mpandas._libs.hashtable.PyObjectHashTable.map_locations\u001b[1;34m()\u001b[0m\n",
      "\u001b[1;31mTypeError\u001b[0m: unhashable type: 'list'"
     ]
    },
    {
     "name": "stderr",
     "output_type": "stream",
     "text": [
      "Exception ignored in: 'pandas._libs.index.IndexEngine._call_map_locations'\n",
      "Traceback (most recent call last):\n",
      "  File \"pandas\\_libs\\hashtable_class_helper.pxi\", line 5231, in pandas._libs.hashtable.PyObjectHashTable.map_locations\n",
      "TypeError: unhashable type: 'list'\n"
     ]
    },
    {
     "data": {
      "text/plain": [
       "NaN                                                                                   1906\n",
       "[[3.9 l/100 km (comb)], [4.1 l/100 km (city)], [3.7 l/100 km (country)]]               304\n",
       "[[4.2 l/100 km (comb)], [5 l/100 km (city)], [3.7 l/100 km (country)]]                 276\n",
       "[[5.4 l/100 km (comb)], [6.8 l/100 km (city)], [4.5 l/100 km (country)]]               257\n",
       "[[3.8 l/100 km (comb)], [4.3 l/100 km (city)], [3.5 l/100 km (country)]]               253\n",
       "                                                                                      ... \n",
       "[[4.2 l/100 km (comb)], [5.3 l/100 km (city)], [3.6 l/100 km (country)]]                 1\n",
       "[\\n, 5.1 l/100 km (comb), \\n, 6.4 l/100 km (city), \\n, 4.3 l/100 km (country), \\n]       1\n",
       "[[4.6 l/100 km (comb)], [5.4 l/100 km (city)], [6.7 l/100 km (country)]]                 1\n",
       "[\\n, 6.3 l/100 km (comb), \\n, \\n, \\n]                                                    1\n",
       "[\\n, 7.4 l/100 km (comb), \\n, 9.6 l/100 km (city), \\n, 6 l/100 km (country), \\n]         1\n",
       "Name: consumption, Length: 882, dtype: int64"
      ]
     },
     "execution_count": 364,
     "metadata": {},
     "output_type": "execute_result"
    }
   ],
   "source": [
    "df.consumption.value_counts(dropna = False)"
   ]
  },
  {
   "cell_type": "code",
   "execution_count": 365,
   "id": "bbcf0971",
   "metadata": {},
   "outputs": [
    {
     "data": {
      "text/plain": [
       "0        [3.8 l/100 km (comb)]\n",
       "1        [5.6 l/100 km (comb)]\n",
       "2        [3.8 l/100 km (comb)]\n",
       "3        [3.8 l/100 km (comb)]\n",
       "4        [4.1 l/100 km (comb)]\n",
       "                 ...          \n",
       "15914    [5.3 l/100 km (comb)]\n",
       "15915                       \\n\n",
       "15916    [5.3 l/100 km (comb)]\n",
       "15917    [5.3 l/100 km (comb)]\n",
       "15918    [6.8 l/100 km (comb)]\n",
       "Name: consumption_comb(l/100_km), Length: 15919, dtype: object"
      ]
     },
     "execution_count": 365,
     "metadata": {},
     "output_type": "execute_result"
    }
   ],
   "source": [
    "df['consumption_comb(l/100_km)']=[item[0] if type(item) == list else item for item in df.consumption]\n",
    "df['consumption_comb(l/100_km)']"
   ]
  },
  {
   "cell_type": "code",
   "execution_count": 366,
   "id": "68d8a2cb",
   "metadata": {},
   "outputs": [],
   "source": [
    "df['consumption_city(l/100_km)'] = [item[1] if type(item) == list else item for item in df.consumption]"
   ]
  },
  {
   "cell_type": "code",
   "execution_count": null,
   "id": "406ebd41",
   "metadata": {},
   "outputs": [],
   "source": []
  },
  {
   "cell_type": "code",
   "execution_count": 367,
   "id": "8c65e56e",
   "metadata": {},
   "outputs": [],
   "source": [
    "df['consumption_country(l/100_km)'] = [item[2] if type(item) == list else item for item in df.consumption]"
   ]
  },
  {
   "cell_type": "code",
   "execution_count": 368,
   "id": "d5ee941e",
   "metadata": {},
   "outputs": [
    {
     "data": {
      "text/plain": [
       "0        3.8\n",
       "1        5.6\n",
       "2        3.8\n",
       "3        3.8\n",
       "4         4.\n",
       "        ... \n",
       "15914    5.3\n",
       "15915       \n",
       "15916    5.3\n",
       "15917    5.3\n",
       "15918    6.8\n",
       "Name: consumption_comb(l/100_km), Length: 15919, dtype: string"
      ]
     },
     "execution_count": 368,
     "metadata": {},
     "output_type": "execute_result"
    }
   ],
   "source": [
    "df['consumption_comb(l/100_km)'] = df['consumption_comb(l/100_km)'].astype('string').str.strip(\"['\\nkg l/100 km (comb)']\")\n",
    "df['consumption_comb(l/100_km)']"
   ]
  },
  {
   "cell_type": "code",
   "execution_count": 369,
   "id": "d2663776",
   "metadata": {},
   "outputs": [],
   "source": [
    "df['consumption_comb(l/100_km)'] = df['consumption_comb(l/100_km)'].replace('',np.nan).astype(float)"
   ]
  },
  {
   "cell_type": "code",
   "execution_count": 370,
   "id": "81926229",
   "metadata": {},
   "outputs": [
    {
     "data": {
      "text/plain": [
       "NaN     2921\n",
       "5.0     1148\n",
       "4.0     1055\n",
       "3.9      732\n",
       "5.4      663\n",
       "4.4      595\n",
       "3.8      586\n",
       "5.6      568\n",
       "4.7      555\n",
       "4.8      523\n",
       "4.5      511\n",
       "5.2      429\n",
       "4.6      420\n",
       "6.0      413\n",
       "4.2      408\n",
       "5.3      375\n",
       "3.7      369\n",
       "4.9      348\n",
       "5.5      342\n",
       "5.9      308\n",
       "3.3      307\n",
       "5.7      302\n",
       "4.3      295\n",
       "3.5      288\n",
       "3.6      194\n",
       "6.2      184\n",
       "5.8      142\n",
       "6.3      141\n",
       "6.8      134\n",
       "6.6      119\n",
       "3.4      106\n",
       "3.0       76\n",
       "6.4       64\n",
       "7.4       62\n",
       "7.0       47\n",
       "6.5       36\n",
       "6.7       33\n",
       "3.2       25\n",
       "6.9       21\n",
       "8.3       20\n",
       "7.6       14\n",
       "8.0        7\n",
       "7.2        6\n",
       "7.8        6\n",
       "8.6        3\n",
       "8.7        3\n",
       "38.0       2\n",
       "7.9        2\n",
       "7.3        2\n",
       "43.0       1\n",
       "9.0        1\n",
       "7.5        1\n",
       "55.0       1\n",
       "54.0       1\n",
       "0.2        1\n",
       "32.0       1\n",
       "33.0       1\n",
       "46.0       1\n",
       "Name: consumption_comb(l/100_km), dtype: int64"
      ]
     },
     "execution_count": 370,
     "metadata": {},
     "output_type": "execute_result"
    }
   ],
   "source": [
    "df['consumption_comb(l/100_km)'].value_counts(dropna= False)"
   ]
  },
  {
   "cell_type": "code",
   "execution_count": 371,
   "id": "739ba42a",
   "metadata": {},
   "outputs": [],
   "source": [
    "df['consumption_city(l/100_km)'] = df['consumption_city(l/100_km)'].astype('string').str.strip(\"['\\nkg l/100 km (comb) (city)'.]\")"
   ]
  },
  {
   "cell_type": "code",
   "execution_count": 372,
   "id": "5fb5b27d",
   "metadata": {},
   "outputs": [],
   "source": [
    "df['consumption_city(l/100_km)'] = df['consumption_city(l/100_km)'].replace('',np.nan).astype(float)"
   ]
  },
  {
   "cell_type": "code",
   "execution_count": 373,
   "id": "9028240c",
   "metadata": {},
   "outputs": [],
   "source": [
    "df['consumption_country(l/100_km)'] = df['consumption_country(l/100_km)'].astype('string').str.strip(\"['\\nkg l/100 km (comb) (city)(country)'.]\")"
   ]
  },
  {
   "cell_type": "code",
   "execution_count": 374,
   "id": "54287f14",
   "metadata": {},
   "outputs": [],
   "source": [
    "df['consumption_country(l/100_km)'] = df['consumption_country(l/100_km)'].replace('',np.nan).astype(float)"
   ]
  },
  {
   "cell_type": "code",
   "execution_count": 375,
   "id": "8eb6f0ea",
   "metadata": {},
   "outputs": [
    {
     "data": {
      "text/plain": [
       "NaN     3254\n",
       "4.0     1124\n",
       "4.2     1101\n",
       "3.7     1059\n",
       "4.4      829\n",
       "4.5      789\n",
       "3.8      775\n",
       "3.9      759\n",
       "3.0      624\n",
       "4.7      562\n",
       "3.5      525\n",
       "4.3      496\n",
       "3.6      486\n",
       "3.3      456\n",
       "4.6      446\n",
       "4.9      410\n",
       "3.4      353\n",
       "5.0      321\n",
       "4.8      289\n",
       "5.3      227\n",
       "5.7      191\n",
       "5.4      190\n",
       "3.2      180\n",
       "5.6      131\n",
       "5.2       84\n",
       "6.3       49\n",
       "6.0       36\n",
       "5.5       30\n",
       "5.8       30\n",
       "7.7       20\n",
       "6.6       19\n",
       "2.9       16\n",
       "6.4       15\n",
       "2.8        9\n",
       "7.0        5\n",
       "44.0       4\n",
       "7.3        4\n",
       "6.5        4\n",
       "37.0       2\n",
       "6.9        2\n",
       "35.0       2\n",
       "5.9        2\n",
       "7.8        2\n",
       "6.7        2\n",
       "2.0        1\n",
       "8.0        1\n",
       "8.6        1\n",
       "7.6        1\n",
       "42.0       1\n",
       "Name: consumption_country(l/100_km), dtype: int64"
      ]
     },
     "execution_count": 375,
     "metadata": {},
     "output_type": "execute_result"
    }
   ],
   "source": [
    "df['consumption_country(l/100_km)'].value_counts(dropna= False)"
   ]
  },
  {
   "cell_type": "code",
   "execution_count": 376,
   "id": "b79d355f",
   "metadata": {},
   "outputs": [
    {
     "ename": "TypeError",
     "evalue": "unhashable type: 'list'",
     "output_type": "error",
     "traceback": [
      "\u001b[1;31m---------------------------------------------------------------------------\u001b[0m",
      "\u001b[1;31mTypeError\u001b[0m                                 Traceback (most recent call last)",
      "\u001b[1;32mpandas\\_libs\\hashtable_class_helper.pxi\u001b[0m in \u001b[0;36mpandas._libs.hashtable.PyObjectHashTable.map_locations\u001b[1;34m()\u001b[0m\n",
      "\u001b[1;31mTypeError\u001b[0m: unhashable type: 'list'"
     ]
    },
    {
     "name": "stderr",
     "output_type": "stream",
     "text": [
      "Exception ignored in: 'pandas._libs.index.IndexEngine._call_map_locations'\n",
      "Traceback (most recent call last):\n",
      "  File \"pandas\\_libs\\hashtable_class_helper.pxi\", line 5231, in pandas._libs.hashtable.PyObjectHashTable.map_locations\n",
      "TypeError: unhashable type: 'list'\n"
     ]
    },
    {
     "data": {
      "text/plain": [
       "NaN                            1808\n",
       "[\\n120 g CO2/km (comb)\\n]       740\n",
       "[[], [], []]                    628\n",
       "[\\n99 g CO2/km (comb)\\n]        545\n",
       "[\\n97 g CO2/km (comb)\\n]        537\n",
       "                               ... \n",
       "[\\n14 g CO2/km (comb)\\n]          1\n",
       "[\\n1,060 g CO2/km (comb)\\n]       1\n",
       "[\\n51 g CO2/km (comb)\\n]          1\n",
       "[\\n165 g CO2/km (comb)\\n]         1\n",
       "[\\n193 g CO2/km (comb)\\n]         1\n",
       "Name: co_2_emission, Length: 124, dtype: int64"
      ]
     },
     "execution_count": 376,
     "metadata": {},
     "output_type": "execute_result"
    }
   ],
   "source": [
    "df.co_2_emission.value_counts(dropna = False)"
   ]
  },
  {
   "cell_type": "code",
   "execution_count": 377,
   "id": "0cd2e7e4",
   "metadata": {},
   "outputs": [
    {
     "data": {
      "text/plain": [
       "0         [\\n99 g CO2/km (comb)\\n]\n",
       "1        [\\n129 g CO2/km (comb)\\n]\n",
       "2         [\\n99 g CO2/km (comb)\\n]\n",
       "3         [\\n99 g CO2/km (comb)\\n]\n",
       "4        [\\n109 g CO2/km (comb)\\n]\n",
       "                   ...            \n",
       "15914    [\\n139 g CO2/km (comb)\\n]\n",
       "15915    [\\n168 g CO2/km (comb)\\n]\n",
       "15916    [\\n139 g CO2/km (comb)\\n]\n",
       "15917    [\\n139 g CO2/km (comb)\\n]\n",
       "15918    [\\n153 g CO2/km (comb)\\n]\n",
       "Name: co_2_emission, Length: 15919, dtype: object"
      ]
     },
     "execution_count": 377,
     "metadata": {},
     "output_type": "execute_result"
    }
   ],
   "source": [
    "df.co_2_emission"
   ]
  },
  {
   "cell_type": "code",
   "execution_count": 378,
   "id": "0890e843",
   "metadata": {},
   "outputs": [
    {
     "data": {
      "text/plain": [
       "0         \\n99 g CO2/km (comb)\\n\n",
       "1        \\n129 g CO2/km (comb)\\n\n",
       "2         \\n99 g CO2/km (comb)\\n\n",
       "3         \\n99 g CO2/km (comb)\\n\n",
       "4        \\n109 g CO2/km (comb)\\n\n",
       "                  ...           \n",
       "15914    \\n139 g CO2/km (comb)\\n\n",
       "15915    \\n168 g CO2/km (comb)\\n\n",
       "15916    \\n139 g CO2/km (comb)\\n\n",
       "15917    \\n139 g CO2/km (comb)\\n\n",
       "15918    \\n153 g CO2/km (comb)\\n\n",
       "Name: co_2_emission, Length: 15919, dtype: object"
      ]
     },
     "execution_count": 378,
     "metadata": {},
     "output_type": "execute_result"
    }
   ],
   "source": [
    "df.co_2_emission= [item[0] if type(item)== list else item for item in df.co_2_emission]\n",
    "df.co_2_emission"
   ]
  },
  {
   "cell_type": "code",
   "execution_count": 379,
   "id": "0ce96732",
   "metadata": {},
   "outputs": [
    {
     "data": {
      "text/plain": [
       "0         99 g CO2/km (comb)\n",
       "1        129 g CO2/km (comb)\n",
       "2         99 g CO2/km (comb)\n",
       "3         99 g CO2/km (comb)\n",
       "4        109 g CO2/km (comb)\n",
       "                ...         \n",
       "15914    139 g CO2/km (comb)\n",
       "15915    168 g CO2/km (comb)\n",
       "15916    139 g CO2/km (comb)\n",
       "15917    139 g CO2/km (comb)\n",
       "15918    153 g CO2/km (comb)\n",
       "Name: co_2_emission, Length: 15919, dtype: object"
      ]
     },
     "execution_count": 379,
     "metadata": {},
     "output_type": "execute_result"
    }
   ],
   "source": [
    "df.co_2_emission= df.co_2_emission.str.strip(\"\\n\")\n",
    "df.co_2_emission"
   ]
  },
  {
   "cell_type": "code",
   "execution_count": 380,
   "id": "0ffee25d",
   "metadata": {},
   "outputs": [
    {
     "data": {
      "text/plain": [
       "0         99\n",
       "1        129\n",
       "2         99\n",
       "3         99\n",
       "4        109\n",
       "        ... \n",
       "15914    139\n",
       "15915    168\n",
       "15916    139\n",
       "15917    139\n",
       "15918    153\n",
       "Name: co_2_emission, Length: 15919, dtype: object"
      ]
     },
     "execution_count": 380,
     "metadata": {},
     "output_type": "execute_result"
    }
   ],
   "source": [
    "df.co_2_emission= df.co_2_emission.str.strip(' g CO2/km (comb)')\n",
    "df.co_2_emission"
   ]
  },
  {
   "cell_type": "code",
   "execution_count": 381,
   "id": "50ec927a",
   "metadata": {},
   "outputs": [
    {
     "data": {
      "text/plain": [
       "NaN       2436\n",
       "120        740\n",
       "99         545\n",
       "97         537\n",
       "104        501\n",
       "          ... \n",
       "990          1\n",
       "12,324       1\n",
       "1,060        1\n",
       "51           1\n",
       "193          1\n",
       "Name: co_2_emission, Length: 121, dtype: int64"
      ]
     },
     "execution_count": 381,
     "metadata": {},
     "output_type": "execute_result"
    }
   ],
   "source": [
    "df.co_2_emission.value_counts(dropna= False)"
   ]
  },
  {
   "cell_type": "code",
   "execution_count": 382,
   "id": "a4a54693",
   "metadata": {},
   "outputs": [],
   "source": [
    "df.co_2_emission= df.co_2_emission.str.replace(',', '.').astype(float)"
   ]
  },
  {
   "cell_type": "code",
   "execution_count": 383,
   "id": "97410208",
   "metadata": {},
   "outputs": [
    {
     "data": {
      "text/plain": [
       "NaN        2436\n",
       "120.000     740\n",
       "99.000      545\n",
       "97.000      537\n",
       "104.000     501\n",
       "           ... \n",
       "990.000       1\n",
       "12.324        1\n",
       "1.060         1\n",
       "51.000        1\n",
       "193.000       1\n",
       "Name: co_2_emission, Length: 121, dtype: int64"
      ]
     },
     "execution_count": 383,
     "metadata": {},
     "output_type": "execute_result"
    }
   ],
   "source": [
    "df.co_2_emission.value_counts(dropna= False)"
   ]
  },
  {
   "cell_type": "code",
   "execution_count": 384,
   "id": "8708ce9d",
   "metadata": {},
   "outputs": [
    {
     "data": {
      "text/plain": [
       "dtype('float64')"
      ]
     },
     "execution_count": 384,
     "metadata": {},
     "output_type": "execute_result"
    }
   ],
   "source": [
    "df.co_2_emission.dtype"
   ]
  },
  {
   "cell_type": "code",
   "execution_count": 385,
   "id": "e667b76d",
   "metadata": {},
   "outputs": [],
   "source": [
    "df.rename(columns={'co_2_emission': 'co2/km(comb)_emission_in_g'}, inplace= True)"
   ]
  },
  {
   "cell_type": "code",
   "execution_count": 386,
   "id": "5d85741e",
   "metadata": {},
   "outputs": [
    {
     "ename": "TypeError",
     "evalue": "unhashable type: 'list'",
     "output_type": "error",
     "traceback": [
      "\u001b[1;31m---------------------------------------------------------------------------\u001b[0m",
      "\u001b[1;31mTypeError\u001b[0m                                 Traceback (most recent call last)",
      "\u001b[1;32mpandas\\_libs\\hashtable_class_helper.pxi\u001b[0m in \u001b[0;36mpandas._libs.hashtable.PyObjectHashTable.map_locations\u001b[1;34m()\u001b[0m\n",
      "\u001b[1;31mTypeError\u001b[0m: unhashable type: 'list'"
     ]
    },
    {
     "name": "stderr",
     "output_type": "stream",
     "text": [
      "Exception ignored in: 'pandas._libs.index.IndexEngine._call_map_locations'\n",
      "Traceback (most recent call last):\n",
      "  File \"pandas\\_libs\\hashtable_class_helper.pxi\", line 5231, in pandas._libs.hashtable.PyObjectHashTable.map_locations\n",
      "TypeError: unhashable type: 'list'\n"
     ]
    },
    {
     "data": {
      "text/plain": [
       "[\\nEuro 6\\n]          10139\n",
       "NaN                    3021\n",
       "[\\nEuro 6d-TEMP\\n]     1845\n",
       "[[], [], []]            607\n",
       "[\\nEuro 6c\\n]           127\n",
       "[\\nEuro 5\\n]             78\n",
       "[\\nEuro 6d\\n]            62\n",
       "[\\nEuro 4\\n]             40\n",
       "Name: emission_class, dtype: int64"
      ]
     },
     "execution_count": 386,
     "metadata": {},
     "output_type": "execute_result"
    }
   ],
   "source": [
    "df.emission_class.value_counts(dropna= False)"
   ]
  },
  {
   "cell_type": "code",
   "execution_count": 387,
   "id": "8a1a5e0f",
   "metadata": {},
   "outputs": [
    {
     "data": {
      "text/plain": [
       "Euro 6          10139\n",
       "NaN              3628\n",
       "Euro 6d-TEMP     1845\n",
       "Euro 6c           127\n",
       "Euro 5             78\n",
       "Euro 6d            62\n",
       "Euro 4             40\n",
       "Name: emission_class, dtype: int64"
      ]
     },
     "execution_count": 387,
     "metadata": {},
     "output_type": "execute_result"
    }
   ],
   "source": [
    "df.emission_class= [item[0] if type(item)== list else item for item in df.emission_class]\n",
    "df.emission_class= df.emission_class.str.strip('\\n')\n",
    "df.emission_class.value_counts(dropna= False)"
   ]
  },
  {
   "cell_type": "code",
   "execution_count": 388,
   "id": "ad51a96c",
   "metadata": {},
   "outputs": [],
   "source": [
    "# Mete abi bu sütunu arastiracak: 6d temp , 6d, 6c arasindaki fark"
   ]
  },
  {
   "cell_type": "code",
   "execution_count": 389,
   "id": "09c13bc6",
   "metadata": {},
   "outputs": [
    {
     "data": {
      "text/plain": [
       "0        [Air conditioning, Armrest, Automatic climate ...\n",
       "1        [Air conditioning, Automatic climate control, ...\n",
       "2        [Air conditioning, Cruise control, Electrical ...\n",
       "3        [Air suspension, Armrest, Auxiliary heating, E...\n",
       "4        [Air conditioning, Armrest, Automatic climate ...\n",
       "                               ...                        \n",
       "15914    [Air conditioning, Automatic climate control, ...\n",
       "15915    [Air conditioning, Automatic climate control, ...\n",
       "15916    [Air conditioning, Armrest, Automatic climate ...\n",
       "15917    [Air conditioning, Automatic climate control, ...\n",
       "15918    [Air conditioning, Automatic climate control, ...\n",
       "Name: comfort_&_convenience, Length: 15919, dtype: object"
      ]
     },
     "execution_count": 389,
     "metadata": {},
     "output_type": "execute_result"
    }
   ],
   "source": [
    "df['comfort_&_convenience']"
   ]
  },
  {
   "cell_type": "code",
   "execution_count": 390,
   "id": "2985678b",
   "metadata": {},
   "outputs": [],
   "source": [
    "df['comfort_&_convenience']= df['comfort_&_convenience'].astype('string').str.strip('[]')"
   ]
  },
  {
   "cell_type": "code",
   "execution_count": 391,
   "id": "d5294e03",
   "metadata": {},
   "outputs": [
    {
     "data": {
      "text/plain": [
       "string[python]"
      ]
     },
     "execution_count": 391,
     "metadata": {},
     "output_type": "execute_result"
    }
   ],
   "source": [
    "df['comfort_&_convenience'].dtype"
   ]
  },
  {
   "cell_type": "code",
   "execution_count": 392,
   "id": "f6c0af2a",
   "metadata": {},
   "outputs": [
    {
     "data": {
      "text/plain": [
       "str"
      ]
     },
     "execution_count": 392,
     "metadata": {},
     "output_type": "execute_result"
    }
   ],
   "source": [
    "type(df['comfort_&_convenience'][0])"
   ]
  },
  {
   "cell_type": "code",
   "execution_count": 393,
   "id": "c623fd94",
   "metadata": {},
   "outputs": [],
   "source": [
    "df['entertainment_&_media']= df['entertainment_&_media'].astype('string').str.strip('[]')"
   ]
  },
  {
   "cell_type": "code",
   "execution_count": 394,
   "id": "9912fd60",
   "metadata": {},
   "outputs": [
    {
     "data": {
      "text/plain": [
       "\"'Bluetooth', 'Hands-free equipment', 'On-board computer', 'Radio'\""
      ]
     },
     "execution_count": 394,
     "metadata": {},
     "output_type": "execute_result"
    }
   ],
   "source": [
    "df['entertainment_&_media'][0]"
   ]
  },
  {
   "cell_type": "code",
   "execution_count": 395,
   "id": "f7b42b98",
   "metadata": {},
   "outputs": [],
   "source": [
    "df.extras= df.extras.astype('string').str.strip('[]')"
   ]
  },
  {
   "cell_type": "code",
   "execution_count": 396,
   "id": "79fb815e",
   "metadata": {},
   "outputs": [
    {
     "data": {
      "text/plain": [
       "\"'Alloy wheels', 'Catalytic Converter', 'Voice Control'\""
      ]
     },
     "execution_count": 396,
     "metadata": {},
     "output_type": "execute_result"
    }
   ],
   "source": [
    "df.extras[0]"
   ]
  },
  {
   "cell_type": "code",
   "execution_count": 397,
   "id": "f2bde3e2",
   "metadata": {},
   "outputs": [],
   "source": [
    "df['safety_&_security']= df['safety_&_security'].astype('string').str.strip('[]')"
   ]
  },
  {
   "cell_type": "code",
   "execution_count": 398,
   "id": "2bd32844",
   "metadata": {},
   "outputs": [
    {
     "data": {
      "text/plain": [
       "\"'ABS', 'Central door lock', 'Daytime running lights', 'Driver-side airbag', 'Electronic stability control', 'Fog lights', 'Immobilizer', 'Isofix', 'Passenger-side airbag', 'Power steering', 'Side airbag', 'Tire pressure monitoring system', 'Traction control', 'Xenon headlights'\""
      ]
     },
     "execution_count": 398,
     "metadata": {},
     "output_type": "execute_result"
    }
   ],
   "source": [
    "df['safety_&_security'][0]"
   ]
  },
  {
   "cell_type": "code",
   "execution_count": 399,
   "id": "46dd04ae",
   "metadata": {},
   "outputs": [
    {
     "data": {
      "text/plain": [
       "0        '\\n', 'Sicherheit:', ' ', 'Deaktivierung für B...\n",
       "1        '\\nLangstreckenfahrzeug daher die hohe Kilomet...\n",
       "2        '\\n', 'Fahrzeug-Nummer: AM-95365', ' ', 'Ehem....\n",
       "3        '\\nAudi A1: ', '- 1e eigenaar ', '- Perfecte s...\n",
       "4        '\\n', 'Technik & Sicherheit:', 'Xenon plus', '...\n",
       "                               ...                        \n",
       "15914    '\\nVettura visionabile nella sede in Via Roma ...\n",
       "15915    '\\nDach: Panorama-Glas-Schiebedach, Lackierung...\n",
       "15916    '\\n', 'Getriebe:', ' Automatik', 'Technik:', '...\n",
       "15917    '\\nDEK:[2691331]', 'Renault Espace Blue dCi 20...\n",
       "15918    '\\n', 'Sicherheit Airbags:', ' ', 'Seitenairba...\n",
       "Name: description, Length: 15919, dtype: string"
      ]
     },
     "execution_count": 399,
     "metadata": {},
     "output_type": "execute_result"
    }
   ],
   "source": [
    "df.description= df.description.astype('string').str.strip(\"[]\")\n",
    "df.description"
   ]
  },
  {
   "cell_type": "code",
   "execution_count": 400,
   "id": "8a821e28",
   "metadata": {},
   "outputs": [
    {
     "data": {
      "text/plain": [
       "\"'\\\\n', 'Sicherheit:', ' ', 'Deaktivierung für Beifahrer-Airbag', ' ', 'ESC mit elektronischer Quersperre', ' ', 'Tagfahrlicht', ' ', 'Reifendruck-Kontrollanzeige', ' ', 'Kopfairbag-System mit Seiten-Airbags vorn', ' ', 'Sicherheitslenksäule', 'Assistenzsysteme:', ' ', 'Berganfahrassistent', 'Komfort:', ' ', 'Scheinwerferreinigung', ' ', 'Xenon plus inklusive Scheinwerfer-Reinigungsanlage', ' ', 'Scheinwerfer-Reinigungsanlage', ' ', 'Einparkhilfe hinten', ' ', 'Licht-/Regensensor', ' ', 'Funkfernbedienung', ' ', 'Elektrische Luftzusatzheizung', 'Interieur:', ' ', 'Rücksitzanlage 2 + 1', ' ', 'Multifunktions-Sportlederlenkrad im 3-Speichen-Design', ' ', 'automatische Leuchtweitenregulierung', ' ', 'Fahrerinformationssystem', ' ', 'Staub- und Pollenfilter', ' ', 'Kopfstützen hinten (3 Stück)', ' ', 'Stoff Zeitgeist', ' ', 'Fahrersitz manuell höheneinstellbar', ' ', 'Scheiben seitlich und hinten in Wärmeschutzverglasung', ' ', 'Kindersitzbefestigung ISOFIX und Top Tether für die äußeren Fondsitze', ' ', 'Dachhimmel in Stoff titangrau', ' ', 'Waschwasser-Standanzeige', ' ', 'Nichtraucherfahrzeug', 'Exterieur:', ' ', 'Elektrische Aussenspiegel', ' ', 'Außenspiegel elektrisch beheizbar inklusive beheizbarer Scheibenwaschdüsen', ' ', 'Scheibenwaschdüsen beheizbar vorn', ' ', 'Aluminium-Gussräder im 10-Speichen-Design Größe 7 J x 16 mit Reifen 215/45 R 16', ' ', 'LED-Heckleuchten', ' ', 'Dynamikfahrwerk', ' ', 'Reifenreparaturset', ' ', 'Heckscheibenwischer mit Wasch-Wisch-Automatik', 'Umwelt:', ' ', 'Start-Stop-System', ' ', 'Abgaskonzept EU6 plus', 'Multimedia:', ' ', 'Radio mit Dreifachtuner und Phasendiversity', ' ', 'Bluetooth-Schnittstelle', ' ', 'media-Paket', ' ', 'Sprachdialogsystem', ' ', 'MMI® Navigation plus', 'Getriebe:', ' ', '7-Gang-Automatikgetriebe', 'Sonstiges:', ' ', 'Scheckheft gepflegt', ' ', 'Frontscheibe mit grauem Colorstreifen am oberen Rand', ' ', 'Verbau der Startbatterie hinten ohne zweite Batterie', ' ', 'GebrauchtwagenPlus', ' ', 'Eingabefehler Irrtümer und Zwischenverkauf vorbehalten. Die gemachten Angaben in Anzeigen Internet Preisschildern und Bildern sind unverbindliche Beschreibungen und dienen nicht als zugesicherte Eigenschaften. Der Verkäufer übernimmt keine Haftung für Tipp- und Datenübermittlungsfehlern. Aufgeführte Ausstattungen sind ggfs. gesondert zu prüfen. Alle Angaben in den Inseraten sind unverbindlich und ohne Gewähr. Wir freuen uns auf Ihren Besuch.', '\\\\n'\""
      ]
     },
     "execution_count": 400,
     "metadata": {},
     "output_type": "execute_result"
    }
   ],
   "source": [
    "df.description[0]"
   ]
  },
  {
   "cell_type": "code",
   "execution_count": 401,
   "id": "b5e2961a",
   "metadata": {},
   "outputs": [
    {
     "ename": "TypeError",
     "evalue": "unhashable type: 'list'",
     "output_type": "error",
     "traceback": [
      "\u001b[1;31m---------------------------------------------------------------------------\u001b[0m",
      "\u001b[1;31mTypeError\u001b[0m                                 Traceback (most recent call last)",
      "\u001b[1;32mpandas\\_libs\\hashtable_class_helper.pxi\u001b[0m in \u001b[0;36mpandas._libs.hashtable.PyObjectHashTable.map_locations\u001b[1;34m()\u001b[0m\n",
      "\u001b[1;31mTypeError\u001b[0m: unhashable type: 'list'"
     ]
    },
    {
     "name": "stderr",
     "output_type": "stream",
     "text": [
      "Exception ignored in: 'pandas._libs.index.IndexEngine._call_map_locations'\n",
      "Traceback (most recent call last):\n",
      "  File \"pandas\\_libs\\hashtable_class_helper.pxi\", line 5231, in pandas._libs.hashtable.PyObjectHashTable.map_locations\n",
      "TypeError: unhashable type: 'list'\n"
     ]
    },
    {
     "data": {
      "text/plain": [
       "NaN                     11934\n",
       "[\\n4 (Green)\\n]          3553\n",
       "[\\n1 (No sticker)\\n]      381\n",
       "[[], [], []]               40\n",
       "[\\n5 (Blue)\\n]              8\n",
       "[\\n3 (Yellow)\\n]            2\n",
       "[\\n2 (Red)\\n]               1\n",
       "Name: emission_label, dtype: int64"
      ]
     },
     "execution_count": 401,
     "metadata": {},
     "output_type": "execute_result"
    }
   ],
   "source": [
    "df.emission_label.value_counts(dropna=False)"
   ]
  },
  {
   "cell_type": "code",
   "execution_count": 402,
   "id": "f6f8b46a",
   "metadata": {},
   "outputs": [
    {
     "ename": "TypeError",
     "evalue": "unhashable type: 'list'",
     "output_type": "error",
     "traceback": [
      "\u001b[1;31m---------------------------------------------------------------------------\u001b[0m",
      "\u001b[1;31mTypeError\u001b[0m                                 Traceback (most recent call last)",
      "\u001b[1;32mpandas\\_libs\\hashtable_class_helper.pxi\u001b[0m in \u001b[0;36mpandas._libs.hashtable.PyObjectHashTable.map_locations\u001b[1;34m()\u001b[0m\n",
      "\u001b[1;31mTypeError\u001b[0m: unhashable type: 'list'"
     ]
    },
    {
     "name": "stderr",
     "output_type": "stream",
     "text": [
      "Exception ignored in: 'pandas._libs.index.IndexEngine._call_map_locations'\n",
      "Traceback (most recent call last):\n",
      "  File \"pandas\\_libs\\hashtable_class_helper.pxi\", line 5231, in pandas._libs.hashtable.PyObjectHashTable.map_locations\n",
      "TypeError: unhashable type: 'list'\n"
     ]
    },
    {
     "data": {
      "text/plain": [
       "[\\n6\\n]     5822\n",
       "NaN         4712\n",
       "[\\n5\\n]     3239\n",
       "[\\n7\\n]     1908\n",
       "[\\n8\\n]      224\n",
       "[\\n9\\n]        6\n",
       "[\\n1\\n]        2\n",
       "[\\n3\\n]        2\n",
       "[\\n4\\n]        2\n",
       "[\\n2\\n]        1\n",
       "[\\n50\\n]       1\n",
       "Name: gears, dtype: int64"
      ]
     },
     "execution_count": 402,
     "metadata": {},
     "output_type": "execute_result"
    }
   ],
   "source": [
    "df.gears.value_counts(dropna=False)"
   ]
  },
  {
   "cell_type": "code",
   "execution_count": 403,
   "id": "b2040834",
   "metadata": {},
   "outputs": [
    {
     "data": {
      "text/plain": [
       "6.0     5822\n",
       "NaN     4712\n",
       "5.0     3239\n",
       "7.0     1908\n",
       "8.0      224\n",
       "9.0        6\n",
       "1.0        2\n",
       "3.0        2\n",
       "4.0        2\n",
       "2.0        1\n",
       "50.0       1\n",
       "Name: gears, dtype: int64"
      ]
     },
     "execution_count": 403,
     "metadata": {},
     "output_type": "execute_result"
    }
   ],
   "source": [
    "df.gears= [item[0] if type(item)== list else item for item in df.gears]\n",
    "df.gears= df.gears.str.strip('\\n').astype(float)\n",
    "df.gears.value_counts(dropna=False)"
   ]
  },
  {
   "cell_type": "code",
   "execution_count": 404,
   "id": "2ffdcab4",
   "metadata": {},
   "outputs": [
    {
     "ename": "TypeError",
     "evalue": "unhashable type: 'list'",
     "output_type": "error",
     "traceback": [
      "\u001b[1;31m---------------------------------------------------------------------------\u001b[0m",
      "\u001b[1;31mTypeError\u001b[0m                                 Traceback (most recent call last)",
      "\u001b[1;32mpandas\\_libs\\hashtable_class_helper.pxi\u001b[0m in \u001b[0;36mpandas._libs.hashtable.PyObjectHashTable.map_locations\u001b[1;34m()\u001b[0m\n",
      "\u001b[1;31mTypeError\u001b[0m: unhashable type: 'list'"
     ]
    },
    {
     "name": "stderr",
     "output_type": "stream",
     "text": [
      "Exception ignored in: 'pandas._libs.index.IndexEngine._call_map_locations'\n",
      "Traceback (most recent call last):\n",
      "  File \"pandas\\_libs\\hashtable_class_helper.pxi\", line 5231, in pandas._libs.hashtable.PyObjectHashTable.map_locations\n",
      "TypeError: unhashable type: 'list'\n"
     ]
    },
    {
     "data": {
      "text/plain": [
       "NaN                     8333\n",
       "[\\nGermany\\n]           4502\n",
       "[\\nItaly\\n]             1038\n",
       "[\\nEuropean Union\\n]     507\n",
       "[\\nNetherlands\\n]        464\n",
       "[\\nSpain\\n]              325\n",
       "[\\nBelgium\\n]            314\n",
       "[\\nAustria\\n]            208\n",
       "[\\nCzech Republic\\n]      52\n",
       "[\\nPoland\\n]              49\n",
       "[\\nFrance\\n]              38\n",
       "[\\nDenmark\\n]             33\n",
       "[\\nHungary\\n]             28\n",
       "[\\nJapan\\n]                8\n",
       "[\\nSlovakia\\n]             4\n",
       "[\\nCroatia\\n]              4\n",
       "[\\nSweden\\n]               3\n",
       "[\\nRomania\\n]              2\n",
       "[\\nBulgaria\\n]             2\n",
       "[\\nLuxembourg\\n]           1\n",
       "[\\nSwitzerland\\n]          1\n",
       "[\\nSlovenia\\n]             1\n",
       "[\\nEgypt\\n]                1\n",
       "[\\nSerbia\\n]               1\n",
       "Name: country_version, dtype: int64"
      ]
     },
     "execution_count": 404,
     "metadata": {},
     "output_type": "execute_result"
    }
   ],
   "source": [
    "df.country_version.value_counts(dropna=False)"
   ]
  },
  {
   "cell_type": "code",
   "execution_count": 405,
   "id": "64ad5d0d",
   "metadata": {},
   "outputs": [
    {
     "data": {
      "text/plain": [
       "NaN               8333\n",
       "Germany           4502\n",
       "Italy             1038\n",
       "European Union     507\n",
       "Netherlands        464\n",
       "Spain              325\n",
       "Belgium            314\n",
       "Austria            208\n",
       "Czech Republic      52\n",
       "Poland              49\n",
       "France              38\n",
       "Denmark             33\n",
       "Hungary             28\n",
       "Japan                8\n",
       "Slovakia             4\n",
       "Croatia              4\n",
       "Sweden               3\n",
       "Romania              2\n",
       "Bulgaria             2\n",
       "Luxembourg           1\n",
       "Switzerland          1\n",
       "Slovenia             1\n",
       "Egypt                1\n",
       "Serbia               1\n",
       "Name: country_version, dtype: int64"
      ]
     },
     "execution_count": 405,
     "metadata": {},
     "output_type": "execute_result"
    }
   ],
   "source": [
    "df.country_version= [item[0] if type(item)== list else item for item in df.country_version]\n",
    "df.country_version= df.country_version.str.strip('\\n')\n",
    "df.country_version.value_counts(dropna=False)"
   ]
  },
  {
   "cell_type": "code",
   "execution_count": 406,
   "id": "44c73191",
   "metadata": {},
   "outputs": [
    {
     "ename": "TypeError",
     "evalue": "unhashable type: 'list'",
     "output_type": "error",
     "traceback": [
      "\u001b[1;31m---------------------------------------------------------------------------\u001b[0m",
      "\u001b[1;31mTypeError\u001b[0m                                 Traceback (most recent call last)",
      "\u001b[1;32mpandas\\_libs\\hashtable_class_helper.pxi\u001b[0m in \u001b[0;36mpandas._libs.hashtable.PyObjectHashTable.map_locations\u001b[1;34m()\u001b[0m\n",
      "\u001b[1;31mTypeError\u001b[0m: unhashable type: 'list'"
     ]
    },
    {
     "name": "stderr",
     "output_type": "stream",
     "text": [
      "Exception ignored in: 'pandas._libs.index.IndexEngine._call_map_locations'\n",
      "Traceback (most recent call last):\n",
      "  File \"pandas\\_libs\\hashtable_class_helper.pxi\", line 5231, in pandas._libs.hashtable.PyObjectHashTable.map_locations\n",
      "TypeError: unhashable type: 'list'\n"
     ]
    },
    {
     "data": {
      "text/plain": [
       "NaN                          15782\n",
       "[\\n0 kWh/100 km (comb)\\n]      137\n",
       "Name: electricity_consumption, dtype: int64"
      ]
     },
     "execution_count": 406,
     "metadata": {},
     "output_type": "execute_result"
    }
   ],
   "source": [
    "df.electricity_consumption.value_counts(dropna= False)"
   ]
  },
  {
   "cell_type": "raw",
   "id": "82789c3a",
   "metadata": {},
   "source": [
    "df.columns"
   ]
  },
  {
   "cell_type": "code",
   "execution_count": 407,
   "id": "1e00ea3e",
   "metadata": {},
   "outputs": [
    {
     "data": {
      "text/plain": [
       "0        NaN\n",
       "1        NaN\n",
       "2        NaN\n",
       "3        NaN\n",
       "4        NaN\n",
       "        ... \n",
       "15914    NaN\n",
       "15915    NaN\n",
       "15916    NaN\n",
       "15917    NaN\n",
       "15918    NaN\n",
       "Name: last_service_date, Length: 15919, dtype: object"
      ]
     },
     "execution_count": 407,
     "metadata": {},
     "output_type": "execute_result"
    }
   ],
   "source": [
    "df.last_service_date"
   ]
  },
  {
   "cell_type": "code",
   "execution_count": 408,
   "id": "9c544b74",
   "metadata": {},
   "outputs": [
    {
     "ename": "TypeError",
     "evalue": "unhashable type: 'list'",
     "output_type": "error",
     "traceback": [
      "\u001b[1;31m---------------------------------------------------------------------------\u001b[0m",
      "\u001b[1;31mTypeError\u001b[0m                                 Traceback (most recent call last)",
      "\u001b[1;32mpandas\\_libs\\hashtable_class_helper.pxi\u001b[0m in \u001b[0;36mpandas._libs.hashtable.PyObjectHashTable.map_locations\u001b[1;34m()\u001b[0m\n",
      "\u001b[1;31mTypeError\u001b[0m: unhashable type: 'list'"
     ]
    },
    {
     "name": "stderr",
     "output_type": "stream",
     "text": [
      "Exception ignored in: 'pandas._libs.index.IndexEngine._call_map_locations'\n",
      "Traceback (most recent call last):\n",
      "  File \"pandas\\_libs\\hashtable_class_helper.pxi\", line 5231, in pandas._libs.hashtable.PyObjectHashTable.map_locations\n",
      "TypeError: unhashable type: 'list'\n"
     ]
    },
    {
     "data": {
      "text/plain": [
       "NaN                                       15353\n",
       "[\\n02/2019\\n, \\nEuro 6\\n]                    23\n",
       "[\\n05/2019\\n, \\nEuro 6\\n]                    16\n",
       "[\\n01/2018\\n, \\n118 g CO2/km (comb)\\n]       15\n",
       "[\\n03/2019\\n, \\nEuro 6\\n]                    15\n",
       "                                          ...  \n",
       "[\\n01/2017\\n, \\n95 g CO2/km (comb)\\n]         1\n",
       "[\\n06/2019\\n, \\n87 g CO2/km (comb)\\n]         1\n",
       "[\\n10/2018\\n, \\n100 g CO2/km (comb)\\n]        1\n",
       "[\\n02/2018\\n, \\n97 g CO2/km (comb)\\n]         1\n",
       "[\\n03/2019\\n, \\n120 g CO2/km (comb)\\n]        1\n",
       "Name: last_service_date, Length: 267, dtype: int64"
      ]
     },
     "execution_count": 408,
     "metadata": {},
     "output_type": "execute_result"
    }
   ],
   "source": [
    "df.last_service_date.value_counts(dropna= False)"
   ]
  },
  {
   "cell_type": "code",
   "execution_count": 409,
   "id": "cc274296",
   "metadata": {},
   "outputs": [
    {
     "data": {
      "text/plain": [
       "\\n05/2019\\n    61\n",
       "\\n02/2019\\n    55\n",
       "\\n01/2019\\n    51\n",
       "\\n06/2019\\n    49\n",
       "\\n04/2019\\n    48\n",
       "\\n03/2019\\n    47\n",
       "\\n12/2018\\n    32\n",
       "\\n10/2018\\n    24\n",
       "\\n06/2018\\n    21\n",
       "\\n05/2018\\n    21\n",
       "\\n07/2018\\n    21\n",
       "\\n01/2018\\n    20\n",
       "\\n09/2018\\n    17\n",
       "\\n11/2018\\n    17\n",
       "\\n04/2018\\n    16\n",
       "\\n08/2018\\n    13\n",
       "\\n03/2018\\n     9\n",
       "\\n06/2017\\n     7\n",
       "\\n02/2018\\n     5\n",
       "\\n05/2017\\n     3\n",
       "\\n12/2017\\n     3\n",
       "\\n02/2017\\n     3\n",
       "\\n10/2017\\n     3\n",
       "\\n01/2017\\n     3\n",
       "\\n11/2017\\n     2\n",
       "\\n06/2016\\n     2\n",
       "\\n04/2016\\n     2\n",
       "\\n07/2017\\n     2\n",
       "\\n11/2019\\n     1\n",
       "\\n10/2019\\n     1\n",
       "\\n07/2019\\n     1\n",
       "\\n03/2016\\n     1\n",
       "\\n09/2019\\n     1\n",
       "\\n08/2019\\n     1\n",
       "\\n09/2017\\n     1\n",
       "\\n05/2016\\n     1\n",
       "\\n04/2017\\n     1\n",
       "Name: last_service_date, dtype: int64"
      ]
     },
     "execution_count": 409,
     "metadata": {},
     "output_type": "execute_result"
    }
   ],
   "source": [
    "df.last_service_date =  [item[0] if type(item)== list else item for item in df.last_service_date]\n",
    "df.last_service_date.value_counts()"
   ]
  },
  {
   "cell_type": "code",
   "execution_count": 410,
   "id": "d1efa399",
   "metadata": {},
   "outputs": [
    {
     "data": {
      "text/plain": [
       "NaN        15353\n",
       "05/2019       61\n",
       "02/2019       55\n",
       "01/2019       51\n",
       "06/2019       49\n",
       "04/2019       48\n",
       "03/2019       47\n",
       "12/2018       32\n",
       "10/2018       24\n",
       "06/2018       21\n",
       "05/2018       21\n",
       "07/2018       21\n",
       "01/2018       20\n",
       "09/2018       17\n",
       "11/2018       17\n",
       "04/2018       16\n",
       "08/2018       13\n",
       "03/2018        9\n",
       "06/2017        7\n",
       "02/2018        5\n",
       "05/2017        3\n",
       "12/2017        3\n",
       "02/2017        3\n",
       "10/2017        3\n",
       "01/2017        3\n",
       "11/2017        2\n",
       "06/2016        2\n",
       "04/2016        2\n",
       "07/2017        2\n",
       "11/2019        1\n",
       "10/2019        1\n",
       "07/2019        1\n",
       "03/2016        1\n",
       "09/2019        1\n",
       "08/2019        1\n",
       "09/2017        1\n",
       "05/2016        1\n",
       "04/2017        1\n",
       "Name: last_service_date, dtype: int64"
      ]
     },
     "execution_count": 410,
     "metadata": {},
     "output_type": "execute_result"
    }
   ],
   "source": [
    "df.last_service_date=df.last_service_date.str.strip(\"\\n\")\n",
    "df.last_service_date.value_counts(dropna= False)"
   ]
  },
  {
   "cell_type": "code",
   "execution_count": 411,
   "id": "cff39091",
   "metadata": {},
   "outputs": [
    {
     "ename": "TypeError",
     "evalue": "unhashable type: 'list'",
     "output_type": "error",
     "traceback": [
      "\u001b[1;31m---------------------------------------------------------------------------\u001b[0m",
      "\u001b[1;31mTypeError\u001b[0m                                 Traceback (most recent call last)",
      "\u001b[1;32mpandas\\_libs\\hashtable_class_helper.pxi\u001b[0m in \u001b[0;36mpandas._libs.hashtable.PyObjectHashTable.map_locations\u001b[1;34m()\u001b[0m\n",
      "\u001b[1;31mTypeError\u001b[0m: unhashable type: 'list'"
     ]
    },
    {
     "name": "stderr",
     "output_type": "stream",
     "text": [
      "Exception ignored in: 'pandas._libs.index.IndexEngine._call_map_locations'\n",
      "Traceback (most recent call last):\n",
      "  File \"pandas\\_libs\\hashtable_class_helper.pxi\", line 5231, in pandas._libs.hashtable.PyObjectHashTable.map_locations\n",
      "TypeError: unhashable type: 'list'\n"
     ]
    },
    {
     "data": {
      "text/plain": [
       "NaN             15039\n",
       "[[], [], []]      880\n",
       "Name: other_fuel_types, dtype: int64"
      ]
     },
     "execution_count": 411,
     "metadata": {},
     "output_type": "execute_result"
    }
   ],
   "source": [
    "df.other_fuel_types.value_counts(dropna=False)"
   ]
  },
  {
   "cell_type": "code",
   "execution_count": 412,
   "id": "88201a48",
   "metadata": {},
   "outputs": [
    {
     "data": {
      "text/html": [
       "<div>\n",
       "<style scoped>\n",
       "    .dataframe tbody tr th:only-of-type {\n",
       "        vertical-align: middle;\n",
       "    }\n",
       "\n",
       "    .dataframe tbody tr th {\n",
       "        vertical-align: top;\n",
       "    }\n",
       "\n",
       "    .dataframe thead th {\n",
       "        text-align: right;\n",
       "    }\n",
       "</style>\n",
       "<table border=\"1\" class=\"dataframe\">\n",
       "  <thead>\n",
       "    <tr style=\"text-align: right;\">\n",
       "      <th></th>\n",
       "      <th>url</th>\n",
       "      <th>make_model</th>\n",
       "      <th>short_description</th>\n",
       "      <th>body_type</th>\n",
       "      <th>price</th>\n",
       "      <th>vat</th>\n",
       "      <th>km</th>\n",
       "      <th>registration</th>\n",
       "      <th>prev_owner</th>\n",
       "      <th>k_w</th>\n",
       "      <th>hp_kw</th>\n",
       "      <th>type</th>\n",
       "      <th>previous_owners</th>\n",
       "      <th>next_inspection</th>\n",
       "      <th>inspection_new</th>\n",
       "      <th>warranty_in_months</th>\n",
       "      <th>full_service</th>\n",
       "      <th>non_smoking_vehicle</th>\n",
       "      <th>null</th>\n",
       "      <th>make</th>\n",
       "      <th>model</th>\n",
       "      <th>offer_number</th>\n",
       "      <th>first_registration</th>\n",
       "      <th>body_color</th>\n",
       "      <th>paint_type</th>\n",
       "      <th>body_color_original</th>\n",
       "      <th>upholstery</th>\n",
       "      <th>...</th>\n",
       "      <th>gearing_type</th>\n",
       "      <th>displacement_in_cc</th>\n",
       "      <th>cylinders</th>\n",
       "      <th>weight</th>\n",
       "      <th>drive_chain</th>\n",
       "      <th>fuel</th>\n",
       "      <th>consumption</th>\n",
       "      <th>co2/km(comb)_emission_in_g</th>\n",
       "      <th>emission_class</th>\n",
       "      <th>comfort_&amp;_convenience</th>\n",
       "      <th>entertainment_&amp;_media</th>\n",
       "      <th>extras</th>\n",
       "      <th>safety_&amp;_security</th>\n",
       "      <th>description</th>\n",
       "      <th>emission_label</th>\n",
       "      <th>gears</th>\n",
       "      <th>country_version</th>\n",
       "      <th>electricity_consumption</th>\n",
       "      <th>last_service_date</th>\n",
       "      <th>other_fuel_types</th>\n",
       "      <th>availability</th>\n",
       "      <th>last_timing_belt_service_date</th>\n",
       "      <th>available_from</th>\n",
       "      <th>fuel_type</th>\n",
       "      <th>consumption_comb(l/100_km)</th>\n",
       "      <th>consumption_city(l/100_km)</th>\n",
       "      <th>consumption_country(l/100_km)</th>\n",
       "    </tr>\n",
       "  </thead>\n",
       "  <tbody>\n",
       "    <tr>\n",
       "      <th>0</th>\n",
       "      <td>https://www.autoscout24.com//offers/audi-a1-sp...</td>\n",
       "      <td>Audi A1</td>\n",
       "      <td>Sportback 1.4 TDI S-tronic Xenon Navi Klima</td>\n",
       "      <td>Sedans</td>\n",
       "      <td>15770</td>\n",
       "      <td>VAT deductible</td>\n",
       "      <td>56013.0</td>\n",
       "      <td>01/2016</td>\n",
       "      <td>2.0</td>\n",
       "      <td>NaN</td>\n",
       "      <td>66.0</td>\n",
       "      <td>Used</td>\n",
       "      <td>2.0</td>\n",
       "      <td>06/2021</td>\n",
       "      <td>Yes</td>\n",
       "      <td>NaN</td>\n",
       "      <td>NaN</td>\n",
       "      <td>NaN</td>\n",
       "      <td>[]</td>\n",
       "      <td>Audi</td>\n",
       "      <td>A1</td>\n",
       "      <td>LR-062483</td>\n",
       "      <td>2016</td>\n",
       "      <td>Black</td>\n",
       "      <td>Metallic</td>\n",
       "      <td>Mythosschwarz</td>\n",
       "      <td>Cloth, Black</td>\n",
       "      <td>...</td>\n",
       "      <td>Automatic</td>\n",
       "      <td>1.422</td>\n",
       "      <td>3.0</td>\n",
       "      <td>1.22</td>\n",
       "      <td>front</td>\n",
       "      <td>Diesel (Particulate Filter)</td>\n",
       "      <td>[[3.8 l/100 km (comb)], [4.3 l/100 km (city)],...</td>\n",
       "      <td>99.0</td>\n",
       "      <td>Euro 6</td>\n",
       "      <td>'Air conditioning', 'Armrest', 'Automatic clim...</td>\n",
       "      <td>'Bluetooth', 'Hands-free equipment', 'On-board...</td>\n",
       "      <td>'Alloy wheels', 'Catalytic Converter', 'Voice ...</td>\n",
       "      <td>'ABS', 'Central door lock', 'Daytime running l...</td>\n",
       "      <td>'\\n', 'Sicherheit:', ' ', 'Deaktivierung für B...</td>\n",
       "      <td>NaN</td>\n",
       "      <td>NaN</td>\n",
       "      <td>NaN</td>\n",
       "      <td>NaN</td>\n",
       "      <td>NaN</td>\n",
       "      <td>NaN</td>\n",
       "      <td>NaN</td>\n",
       "      <td>NaN</td>\n",
       "      <td>NaN</td>\n",
       "      <td>Diesel (Particulate Filter)</td>\n",
       "      <td>3.8</td>\n",
       "      <td>4.3</td>\n",
       "      <td>3.5</td>\n",
       "    </tr>\n",
       "  </tbody>\n",
       "</table>\n",
       "<p>1 rows × 58 columns</p>\n",
       "</div>"
      ],
      "text/plain": [
       "                                                 url make_model  \\\n",
       "0  https://www.autoscout24.com//offers/audi-a1-sp...    Audi A1   \n",
       "\n",
       "                             short_description body_type  price  \\\n",
       "0  Sportback 1.4 TDI S-tronic Xenon Navi Klima    Sedans  15770   \n",
       "\n",
       "              vat       km registration  prev_owner  k_w  hp_kw  type  \\\n",
       "0  VAT deductible  56013.0      01/2016         2.0  NaN   66.0  Used   \n",
       "\n",
       "   previous_owners next_inspection inspection_new  warranty_in_months  \\\n",
       "0              2.0         06/2021            Yes                 NaN   \n",
       "\n",
       "  full_service non_smoking_vehicle null  make model offer_number  \\\n",
       "0          NaN                 NaN   []  Audi    A1    LR-062483   \n",
       "\n",
       "  first_registration body_color paint_type body_color_original    upholstery  \\\n",
       "0               2016      Black   Metallic       Mythosschwarz  Cloth, Black   \n",
       "\n",
       "   ... gearing_type  displacement_in_cc  cylinders weight drive_chain  \\\n",
       "0  ...    Automatic               1.422        3.0   1.22       front   \n",
       "\n",
       "                          fuel  \\\n",
       "0  Diesel (Particulate Filter)   \n",
       "\n",
       "                                         consumption  \\\n",
       "0  [[3.8 l/100 km (comb)], [4.3 l/100 km (city)],...   \n",
       "\n",
       "   co2/km(comb)_emission_in_g emission_class  \\\n",
       "0                        99.0         Euro 6   \n",
       "\n",
       "                               comfort_&_convenience  \\\n",
       "0  'Air conditioning', 'Armrest', 'Automatic clim...   \n",
       "\n",
       "                               entertainment_&_media  \\\n",
       "0  'Bluetooth', 'Hands-free equipment', 'On-board...   \n",
       "\n",
       "                                              extras  \\\n",
       "0  'Alloy wheels', 'Catalytic Converter', 'Voice ...   \n",
       "\n",
       "                                   safety_&_security  \\\n",
       "0  'ABS', 'Central door lock', 'Daytime running l...   \n",
       "\n",
       "                                         description emission_label gears  \\\n",
       "0  '\\n', 'Sicherheit:', ' ', 'Deaktivierung für B...            NaN   NaN   \n",
       "\n",
       "  country_version electricity_consumption last_service_date  other_fuel_types  \\\n",
       "0             NaN                     NaN               NaN               NaN   \n",
       "\n",
       "  availability last_timing_belt_service_date available_from  \\\n",
       "0          NaN                           NaN            NaN   \n",
       "\n",
       "                     fuel_type consumption_comb(l/100_km)  \\\n",
       "0  Diesel (Particulate Filter)                        3.8   \n",
       "\n",
       "  consumption_city(l/100_km) consumption_country(l/100_km)  \n",
       "0                        4.3                           3.5  \n",
       "\n",
       "[1 rows x 58 columns]"
      ]
     },
     "execution_count": 412,
     "metadata": {},
     "output_type": "execute_result"
    }
   ],
   "source": [
    "df.head(1)"
   ]
  },
  {
   "cell_type": "code",
   "execution_count": 413,
   "id": "e6b66ce2",
   "metadata": {},
   "outputs": [
    {
     "data": {
      "text/plain": [
       "NaN                              15284\n",
       "\\nin 90 days from ordering\\n       196\n",
       "\\nin 120 days from ordering\\n      182\n",
       "\\nin 1 day from ordering\\n          51\n",
       "\\nin 5 days from ordering\\n         35\n",
       "\\nin 3 days from ordering\\n         35\n",
       "\\nin 180 days from ordering\\n       24\n",
       "\\nin 14 days from ordering\\n        24\n",
       "\\nin 7 days from ordering\\n         20\n",
       "\\nin 150 days from ordering\\n       18\n",
       "\\nin 2 days from ordering\\n         16\n",
       "\\nin 60 days from ordering\\n        13\n",
       "\\nin 42 days from ordering\\n        10\n",
       "\\nin 21 days from ordering\\n         8\n",
       "\\nin 4 days from ordering\\n          2\n",
       "\\nin 6 days from ordering\\n          1\n",
       "Name: availability, dtype: int64"
      ]
     },
     "execution_count": 413,
     "metadata": {},
     "output_type": "execute_result"
    }
   ],
   "source": [
    "df.availability.value_counts(dropna= False)"
   ]
  },
  {
   "cell_type": "code",
   "execution_count": 414,
   "id": "fd3cb38e",
   "metadata": {},
   "outputs": [
    {
     "data": {
      "text/plain": [
       "NaN      15284\n",
       "90.0       196\n",
       "120.0      182\n",
       "1.0         51\n",
       "5.0         35\n",
       "3.0         35\n",
       "180.0       24\n",
       "14.0        24\n",
       "7.0         20\n",
       "150.0       18\n",
       "2.0         16\n",
       "60.0        13\n",
       "42.0        10\n",
       "21.0         8\n",
       "4.0          2\n",
       "6.0          1\n",
       "Name: availability, dtype: int64"
      ]
     },
     "execution_count": 414,
     "metadata": {},
     "output_type": "execute_result"
    }
   ],
   "source": [
    "df.availability= df.availability.str.strip('\\n').str.strip('in  days from ordering').astype(float)\n",
    "df.availability.value_counts(dropna= False)"
   ]
  },
  {
   "cell_type": "code",
   "execution_count": 415,
   "id": "36399130",
   "metadata": {},
   "outputs": [],
   "source": [
    "df.rename(columns={'availability': 'availability_in_days'} , inplace= True)"
   ]
  },
  {
   "cell_type": "code",
   "execution_count": 416,
   "id": "38f61cf3",
   "metadata": {},
   "outputs": [
    {
     "ename": "TypeError",
     "evalue": "unhashable type: 'list'",
     "output_type": "error",
     "traceback": [
      "\u001b[1;31m---------------------------------------------------------------------------\u001b[0m",
      "\u001b[1;31mTypeError\u001b[0m                                 Traceback (most recent call last)",
      "\u001b[1;32mpandas\\_libs\\hashtable_class_helper.pxi\u001b[0m in \u001b[0;36mpandas._libs.hashtable.PyObjectHashTable.map_locations\u001b[1;34m()\u001b[0m\n",
      "\u001b[1;31mTypeError\u001b[0m: unhashable type: 'list'"
     ]
    },
    {
     "name": "stderr",
     "output_type": "stream",
     "text": [
      "Exception ignored in: 'pandas._libs.index.IndexEngine._call_map_locations'\n",
      "Traceback (most recent call last):\n",
      "  File \"pandas\\_libs\\hashtable_class_helper.pxi\", line 5231, in pandas._libs.hashtable.PyObjectHashTable.map_locations\n",
      "TypeError: unhashable type: 'list'\n"
     ]
    },
    {
     "data": {
      "text/plain": [
       "NaN                          15903\n",
       "[\\n04/2016\\n]                    2\n",
       "[\\n12/1900\\n]                    1\n",
       "[\\n07/2018\\n]                    1\n",
       "[\\n01/1900\\n]                    1\n",
       "[\\n05/2019\\n]                    1\n",
       "[\\n09/2018\\n]                    1\n",
       "[\\n05/2018\\n, \\nEuro 6\\n]        1\n",
       "[\\n06/2017\\n]                    1\n",
       "[\\n01/2019\\n]                    1\n",
       "[\\n02/2019\\n]                    1\n",
       "[\\n02/2018\\n]                    1\n",
       "[\\n06/2019\\n]                    1\n",
       "[\\n01/2018\\n]                    1\n",
       "[\\n04/2019\\n]                    1\n",
       "[\\n01/1970\\n]                    1\n",
       "Name: last_timing_belt_service_date, dtype: int64"
      ]
     },
     "execution_count": 416,
     "metadata": {},
     "output_type": "execute_result"
    }
   ],
   "source": [
    "df.last_timing_belt_service_date.value_counts(dropna= False)"
   ]
  },
  {
   "cell_type": "code",
   "execution_count": 417,
   "id": "088acfaf",
   "metadata": {},
   "outputs": [
    {
     "data": {
      "text/plain": [
       "NaN             15647\n",
       "\\n31/08/19\\n       98\n",
       "\\n30/07/19\\n       25\n",
       "\\n15/08/19\\n       24\n",
       "\\n16/09/19\\n       14\n",
       "\\n29/06/19\\n       12\n",
       "\\n01/07/19\\n       11\n",
       "\\n28/06/19\\n       10\n",
       "\\n19/08/19\\n        7\n",
       "\\n10/09/19\\n        6\n",
       "\\n26/06/19\\n        5\n",
       "\\n27/06/19\\n        5\n",
       "\\n10/11/19\\n        5\n",
       "\\n08/07/19\\n        4\n",
       "\\n15/07/19\\n        3\n",
       "\\n25/10/19\\n        3\n",
       "\\n01/08/19\\n        3\n",
       "\\n04/07/19\\n        2\n",
       "\\n05/08/19\\n        2\n",
       "\\n24/08/19\\n        2\n",
       "\\n16/07/19\\n        2\n",
       "\\n20/07/19\\n        2\n",
       "\\n05/07/19\\n        2\n",
       "\\n30/06/19\\n        2\n",
       "\\n30/09/19\\n        1\n",
       "\\n31/10/19\\n        1\n",
       "\\n27/07/19\\n        1\n",
       "\\n02/07/19\\n        1\n",
       "\\n10/07/19\\n        1\n",
       "\\n19/07/19\\n        1\n",
       "\\n24/07/19\\n        1\n",
       "\\n29/07/19\\n        1\n",
       "\\n29/09/19\\n        1\n",
       "\\n18/08/19\\n        1\n",
       "\\n14/09/19\\n        1\n",
       "\\n18/07/19\\n        1\n",
       "\\n16/08/19\\n        1\n",
       "\\n24/09/19\\n        1\n",
       "\\n17/08/19\\n        1\n",
       "\\n10/10/19\\n        1\n",
       "\\n06/12/19\\n        1\n",
       "\\n03/12/19\\n        1\n",
       "\\n05/12/19\\n        1\n",
       "\\n11/08/19\\n        1\n",
       "\\n10/12/19\\n        1\n",
       "\\n01/09/19\\n        1\n",
       "\\n03/08/19\\n        1\n",
       "Name: available_from, dtype: int64"
      ]
     },
     "execution_count": 417,
     "metadata": {},
     "output_type": "execute_result"
    }
   ],
   "source": [
    "df.available_from.value_counts(dropna= False)"
   ]
  },
  {
   "cell_type": "code",
   "execution_count": 418,
   "id": "74739ff2",
   "metadata": {},
   "outputs": [],
   "source": [
    "# drop edeceklerimiz  : 'url', 'make_model',  'registration',  'prev_owner', 'k_w' , 'null' ,   'offer_number', 'body', \n",
    "#               'consumption' ,'last_service_date',  'other_fuel_types' , 'last_timing_belt_service_date' ,'available_from'\n",
    "# daha sonra drop edilebilecekler :\n",
    "#                      sort_describtion, vat , type_fuel, inspection_new, next_inspection,\n",
    "#                      warranty, full_service, non_smoking_vehicle , body_color_original, model_code,co2_emision, \n",
    "#                      description, country_version, emision_label,  electricity_consumption, , availability"
   ]
  },
  {
   "cell_type": "code",
   "execution_count": 419,
   "id": "f0e32c46",
   "metadata": {},
   "outputs": [],
   "source": [
    "df1= df.copy"
   ]
  },
  {
   "cell_type": "code",
   "execution_count": 116,
   "id": "c71c5761",
   "metadata": {},
   "outputs": [],
   "source": [
    "df.drop(['url', 'make_model',  'registration',  'prev_owner', 'k_w' , 'null' ,   'offer_number', 'body', 'consumption',\n",
    "'last_service_date',  'other_fuel_types' , 'last_timing_belt_service_date' ,'available_from', 'upholstery'], axis= 1, inplace= True)"
   ]
  },
  {
   "cell_type": "code",
   "execution_count": 117,
   "id": "3022105c",
   "metadata": {},
   "outputs": [
    {
     "data": {
      "text/plain": [
       "(15919, 42)"
      ]
     },
     "execution_count": 117,
     "metadata": {},
     "output_type": "execute_result"
    }
   ],
   "source": [
    "df.shape"
   ]
  },
  {
   "cell_type": "code",
   "execution_count": 118,
   "id": "5ae1b3c0",
   "metadata": {},
   "outputs": [
    {
     "data": {
      "text/plain": [
       "Index(['short_description', 'body_type', 'price', 'vat', 'km', 'hp_kw', 'type',\n",
       "       'previous_owners', 'next_inspection', 'inspection_new',\n",
       "       'warranty_in_months', 'full_service', 'non_smoking_vehicle', 'make',\n",
       "       'model', 'first_registration', 'body_color', 'paint_type',\n",
       "       'body_color_original', 'nr_of_doors', 'nr_of_seats', 'model_code',\n",
       "       'gearing_type', 'displacement', 'cylinders', 'weight', 'drive_chain',\n",
       "       'fuel', 'co_2_emission', 'emission_class', 'comfort_&_convenience',\n",
       "       'entertainment_&_media', 'extras', 'safety_&_security', 'description',\n",
       "       'emission_label', 'gears', 'country_version', 'electricity_consumption',\n",
       "       'availability', 'fuel_type', 'seat_cover'],\n",
       "      dtype='object')"
      ]
     },
     "execution_count": 118,
     "metadata": {},
     "output_type": "execute_result"
    }
   ],
   "source": [
    "df.columns"
   ]
  },
  {
   "cell_type": "code",
   "execution_count": 119,
   "id": "f9c5c3f8",
   "metadata": {},
   "outputs": [
    {
     "name": "stdout",
     "output_type": "stream",
     "text": [
      "<class 'pandas.core.frame.DataFrame'>\n",
      "RangeIndex: 15919 entries, 0 to 15918\n",
      "Data columns (total 42 columns):\n",
      " #   Column                   Non-Null Count  Dtype  \n",
      "---  ------                   --------------  -----  \n",
      " 0   short_description        15873 non-null  object \n",
      " 1   body_type                15859 non-null  object \n",
      " 2   price                    15919 non-null  int64  \n",
      " 3   vat                      11406 non-null  object \n",
      " 4   km                       14895 non-null  float64\n",
      " 5   hp_kw                    15831 non-null  float64\n",
      " 6   type                     15917 non-null  object \n",
      " 7   previous_owners          9279 non-null   float64\n",
      " 8   next_inspection          3535 non-null   object \n",
      " 9   inspection_new           3932 non-null   object \n",
      " 10  warranty_in_months       4853 non-null   float64\n",
      " 11  full_service             6230 non-null   object \n",
      " 12  non_smoking_vehicle      3460 non-null   object \n",
      " 13  make                     15919 non-null  object \n",
      " 14  model                    15919 non-null  object \n",
      " 15  first_registration       14322 non-null  object \n",
      " 16  body_color               15322 non-null  object \n",
      " 17  paint_type               10147 non-null  object \n",
      " 18  body_color_original      12160 non-null  object \n",
      " 19  nr_of_doors              15707 non-null  object \n",
      " 20  nr_of_seats              14942 non-null  object \n",
      " 21  model_code               4978 non-null   object \n",
      " 22  gearing_type             15919 non-null  object \n",
      " 23  displacement             15423 non-null  object \n",
      " 24  cylinders                10239 non-null  object \n",
      " 25  weight                   8945 non-null   object \n",
      " 26  drive_chain              9061 non-null   object \n",
      " 27  fuel                     15919 non-null  object \n",
      " 28  co_2_emission            14111 non-null  object \n",
      " 29  emission_class           12898 non-null  object \n",
      " 30  comfort_&_convenience    14999 non-null  object \n",
      " 31  entertainment_&_media    14545 non-null  object \n",
      " 32  extras                   12957 non-null  object \n",
      " 33  safety_&_security        14937 non-null  object \n",
      " 34  description              15919 non-null  object \n",
      " 35  emission_label           3985 non-null   object \n",
      " 36  gears                    11207 non-null  object \n",
      " 37  country_version          7586 non-null   object \n",
      " 38  electricity_consumption  137 non-null    object \n",
      " 39  availability             635 non-null    object \n",
      " 40  fuel_type                15917 non-null  object \n",
      " 41  seat_cover               11416 non-null  object \n",
      "dtypes: float64(4), int64(1), object(37)\n",
      "memory usage: 5.1+ MB\n"
     ]
    }
   ],
   "source": [
    "df.info()"
   ]
  },
  {
   "cell_type": "code",
   "execution_count": 121,
   "id": "42e8f54a",
   "metadata": {},
   "outputs": [
    {
     "data": {
      "text/plain": [
       "short_description           0.288963\n",
       "body_type                   0.376908\n",
       "price                       0.000000\n",
       "vat                        28.349771\n",
       "km                          6.432565\n",
       "hp_kw                       0.552799\n",
       "type                        0.012564\n",
       "previous_owners            41.711163\n",
       "next_inspection            77.793831\n",
       "inspection_new             75.299956\n",
       "warranty_in_months         69.514417\n",
       "full_service               60.864376\n",
       "non_smoking_vehicle        78.264966\n",
       "make                        0.000000\n",
       "model                       0.000000\n",
       "first_registration         10.032037\n",
       "body_color                  3.750236\n",
       "paint_type                 36.258559\n",
       "body_color_original        23.613292\n",
       "nr_of_doors                 1.331742\n",
       "nr_of_seats                 6.137320\n",
       "model_code                 68.729192\n",
       "gearing_type                0.000000\n",
       "displacement                3.115774\n",
       "cylinders                  35.680633\n",
       "weight                     43.809285\n",
       "drive_chain                43.080596\n",
       "fuel                        0.000000\n",
       "co_2_emission              11.357497\n",
       "emission_class             18.977323\n",
       "comfort_&_convenience       5.779257\n",
       "entertainment_&_media       8.631195\n",
       "extras                     18.606696\n",
       "safety_&_security           6.168729\n",
       "description                 0.000000\n",
       "emission_label             74.967021\n",
       "gears                      29.599849\n",
       "country_version            52.346253\n",
       "electricity_consumption    99.139393\n",
       "availability               96.011056\n",
       "fuel_type                   0.012564\n",
       "seat_cover                 28.286953\n",
       "dtype: float64"
      ]
     },
     "execution_count": 121,
     "metadata": {},
     "output_type": "execute_result"
    }
   ],
   "source": [
    "df.isnull().sum()/len(df)*100"
   ]
  },
  {
   "cell_type": "code",
   "execution_count": 122,
   "id": "0c25ace8",
   "metadata": {},
   "outputs": [],
   "source": [
    "df.to_csv(\"df_clean.csv\", index=False)"
   ]
  },
  {
   "cell_type": "code",
   "execution_count": null,
   "id": "46ab8cdb",
   "metadata": {},
   "outputs": [],
   "source": []
  }
 ],
 "metadata": {
  "kernelspec": {
   "display_name": "Python 3 (ipykernel)",
   "language": "python",
   "name": "python3"
  },
  "language_info": {
   "codemirror_mode": {
    "name": "ipython",
    "version": 3
   },
   "file_extension": ".py",
   "mimetype": "text/x-python",
   "name": "python",
   "nbconvert_exporter": "python",
   "pygments_lexer": "ipython3",
   "version": "3.9.7"
  }
 },
 "nbformat": 4,
 "nbformat_minor": 5
}
